{
 "cells": [
  {
   "cell_type": "markdown",
   "metadata": {},
   "source": [
    "# MATH80629A\n",
    "# Week \\#7 - Unsupervised Learning - Exercises\n",
    "\n",
    "This tutorial will focus on two tasks which used unsupervised learning, namely clustering (Sections 7.2 and 7.3) and dimensionality reduction (Section 7). The goal of this tutorial is to develop basic intuition behind some classic algorithms used for unsupervised learning (k-means, GMMs, and autoencoders)."
   ]
  },
  {
   "cell_type": "code",
   "execution_count": 1,
   "metadata": {},
   "outputs": [
    {
     "name": "stdout",
     "output_type": "stream",
     "text": [
      "File ‘utilities.py’ already there; not retrieving.\n",
      "\n",
      "mkdir: Images: File exists\n",
      "File ‘Images/AE.png’ already there; not retrieving.\n",
      "\n"
     ]
    }
   ],
   "source": [
    "# Classic libraries\n",
    "import pandas as pd\n",
    "import numpy as np\n",
    "\n",
    "# Data science libraries\n",
    "import sklearn as sk\n",
    "from sklearn.cluster import KMeans   # KMeans function\n",
    "from sklearn.datasets import make_circles, make_blobs  # Datasets\n",
    "from sklearn.model_selection import train_test_split   # Cross validation library\n",
    "from sklearn import mixture\n",
    "\n",
    "# Data visualization libaries\n",
    "import matplotlib.pyplot as plt\n",
    "# A must! For nice an easy figures - look for sns command in the notebook\n",
    "import seaborn as sns   \n",
    "from matplotlib.pyplot import cm   # This is a nice color chart\n",
    "\n",
    "%matplotlib inline\n",
    "\n",
    "# Code to obtain utilities.py\n",
    "!wget -nc https://raw.githubusercontent.com/lcharlin/80-629/master/week7-Unsupervised/utilities.py\n",
    "!mkdir Images\n",
    "!wget -nc -P Images https://raw.githubusercontent.com/lcharlin/80-629/master/week7-Unsupervised/Images/AE.png\n",
    "\n",
    "# Homemade libraries\n",
    "from utilities import color, super_scat_it, distance, initiate, estimate_centroid"
   ]
  },
  {
   "cell_type": "markdown",
   "metadata": {},
   "source": [
    "## 7.1 Data generation\n",
    "\n",
    "Let's first look at [Gaussian mixtures](https://en.wikipedia.org/wiki/Mixture_model#Gaussian_mixture_model), a relatively simple model, which we will generate with the [make_blobs](https://scikit-learn.org/stable/modules/generated/sklearn.datasets.make_blobs.html#sklearn.datasets.make_blobs) function. \n",
    "\n",
    "**Remark**: In order to properly run Section 7.2.1, do not change the attributes of the `make_blobs` function in the code snippet below."
   ]
  },
  {
   "cell_type": "code",
   "execution_count": null,
   "metadata": {},
   "outputs": [],
   "source": [
    "nb_obs = 1000   # Number of observation\n",
    "k = 2   # Number of clusters\n",
    "std = 4   # Standard deviation associated to the isotopic Gaussian Mixture - \n",
    "dim = 2   # Covariates dimension - if dim > 2, don't expect data vizualisation from matplotlib!\n",
    "seed = 10   # Random seed to replicate the experience\n",
    "\n",
    "X, y = make_blobs(n_samples=nb_obs, centers=k, cluster_std= std, n_features=dim, random_state=seed)   # Data generation\n",
    "\n",
    "super_scat_it(X, y, k)   # Data visualization - see utilities.py script"
   ]
  },
  {
   "cell_type": "markdown",
   "metadata": {},
   "source": [
    "## 7.2 Clustering: K-means Algorithm\n"
   ]
  },
  {
   "cell_type": "markdown",
   "metadata": {},
   "source": [
    "### 7.2.1 Implementation with numpy\n",
    "\n",
    "The objective of this section is to implement and understand the procedures associated with the k-means algorithm. First, we will therefore implement the k-means algorithm with numpy."
   ]
  },
  {
   "cell_type": "markdown",
   "metadata": {},
   "source": [
    "**Question 7.1**\n",
    "\n",
    "According to the pseudo code presented on [Slide 18 of the course](http://www.cs.toronto.edu/~lcharlin/courses/80-629/slides_unsupervised.pdf), complete the `fit` function of the `k_means` class below.\n",
    "\n",
    "**Answer 7.1**"
   ]
  },
  {
   "cell_type": "code",
   "execution_count": null,
   "metadata": {},
   "outputs": [],
   "source": [
    "class k_means:\n",
    "\n",
    "    def __init__(self, data, k, seed=None):\n",
    "        \"\"\"\n",
    "        Args:\n",
    "            data: unlabeled data\n",
    "            k: number of cluster\n",
    "        Class Attributes:\n",
    "            self.data: unlabeled data\n",
    "            self.centroid: cluster centers\n",
    "            self.label: label \n",
    "            self.iteration: number of iteration before k-means converges\n",
    "        \"\"\"\n",
    "        \n",
    "        self.data = data\n",
    "        self.centroid = initiate(data, k)\n",
    "        self.label = np.argmin(distance(self.data, self.centroid ), axis=1)\n",
    "            \n",
    "    def fit(self):\n",
    "        \n",
    "        # step 1. update the cluster centers\n",
    "        self.centroid = estimate_centroid(self.data, self.label)\n",
    "        # step 2. update the responsibilities (i.e., the cluster each point belongs to)\n",
    "        label_new = np.argmin(distance(self.data, self.centroid), axis=1)\n",
    "        \n",
    "        # run both steps until convergence        \n",
    "        while label_new.tolist() != self.label.tolist():\n",
    "            self.label = label_new\n",
    "            # step 1.\n",
    "            # step 2.\n",
    "                        \n",
    "        self.label = label_new\n",
    "        # compute the objective function\n",
    "        self.objective = np.mean(np.min(distance(self.data, self.centroid), axis=1)) "
   ]
  },
  {
   "cell_type": "markdown",
   "metadata": {},
   "source": [
    "We can now call the above `k_means` class, estimate the centroids and visualize the associated clusters!"
   ]
  },
  {
   "cell_type": "code",
   "execution_count": null,
   "metadata": {
    "scrolled": true
   },
   "outputs": [],
   "source": [
    "km = k_means(X, k)\n",
    "km.fit()\n",
    "\n",
    "super_scat_it(X, km.label, dim, km.centroid)"
   ]
  },
  {
   "cell_type": "markdown",
   "metadata": {},
   "source": [
    "### 7.2.2 Exploration of the K-means Algorithm with Scikit Learn\n",
    "\n",
    "Once the algorithm has been coded, we are going to make our life easier and simply use the [Scikit Learn library](https://scikit-learn.org/stable/modules/generated/sklearn.cluster.KMeans.html) (-_-).  First, let's check that everything is running fine."
   ]
  },
  {
   "cell_type": "code",
   "execution_count": null,
   "metadata": {},
   "outputs": [],
   "source": [
    "kmeans = KMeans(n_clusters=k, random_state=0).fit(X)\n",
    "super_scat_it(X, kmeans.labels_, dim, kmeans.cluster_centers_)"
   ]
  },
  {
   "cell_type": "markdown",
   "metadata": {},
   "source": [
    "### 7.2.3 Choosing the optimal number of clusters\n",
    "\n",
    "In our first experiment, we knew the actual number of subpopulations (parameterized by the variable $ k $) associated with the simulated data. On the other hand, with non simulated datasets, the data is only very rarely labeled. It is therefore important to develop methodologies in order to clearly define the number of clusters required."
   ]
  },
  {
   "cell_type": "markdown",
   "metadata": {},
   "source": [
    "**Questions 7.2**\n",
    "\n",
    "1. Find a simple way to determine the optimal number of clusters.\n",
    "2. Implement it.\n",
    "3. How many clusters would you choose?"
   ]
  },
  {
   "cell_type": "markdown",
   "metadata": {},
   "source": [
    "**Questions 7.3**\n",
    "\n",
    "   1. Are you disappointed by the behaviour of the curve associated to the validation set?\n",
    "   2. Considering the results obtained here, could you imagine a better way to know the optimal number of clusters?"
   ]
  },
  {
   "cell_type": "markdown",
   "metadata": {},
   "source": [
    "The previous exercise was based on a relatively simple dataset. Indeed, there was a large number of observations ($n = 1000$) for a relatively small variable space ($\\bf{X} \\in \\mathbb{R}^2$) and small number of clusters ($k = 2$). In order to validate the relevance of the cross-validation procedure to fix the number of clusters, let's now simulate a slightly more complex dataset."
   ]
  },
  {
   "cell_type": "code",
   "execution_count": null,
   "metadata": {},
   "outputs": [],
   "source": [
    "nb_obs = 100   # Number of observation\n",
    "k = 10   # Number of clusters\n",
    "std = 4   # Standard deviation associated to the isotopic Gaussian Mixture - \n",
    "dim = 50   # Covariates dimension - if dim > 2\n",
    "           # (don't expect data vizualisation from matplotlib)\n",
    "seed = 10   # Random seed to replicate the experience\n",
    "\n",
    "X, y = make_blobs(n_samples=nb_obs, centers=k, cluster_std= std, \n",
    "                  n_features=dim, random_state=seed)   # Data generation"
   ]
  },
  {
   "cell_type": "markdown",
   "metadata": {},
   "source": [
    "Let's now look how the loss associated to the validation set behave on a more complex dataset."
   ]
  },
  {
   "cell_type": "code",
   "execution_count": null,
   "metadata": {},
   "outputs": [],
   "source": [
    "X_train, X_valid, _, _ = train_test_split(X, y, test_size=0.2, random_state=0)\n",
    "loss_train, loss_valid = [], []\n",
    "\n",
    "max_cluster = 50\n",
    "\n",
    "for k in np.arange(max_cluster)+1:\n",
    "    kmeans = KMeans(n_clusters=k, random_state=0).fit(X_train)\n",
    "    loss_train.append(np.mean(np.min(distance(X_train, kmeans.cluster_centers_), axis=1)))\n",
    "    loss_valid.append(np.mean(np.min(distance(X_valid, kmeans.cluster_centers_), axis=1)))\n",
    "\n",
    "plt.plot(np.arange(max_cluster)+1, loss_train, label='Train')\n",
    "plt.plot(np.arange(max_cluster)+1, loss_valid, label='Validation')\n",
    "\n",
    "plt.xlabel('Number of clusters')\n",
    "plt.ylabel('Loss')\n",
    "\n",
    "# Ghosting the legend\n",
    "leg = plt.gca().legend(loc='center left', bbox_to_anchor=(1, .85))\n",
    "leg.get_frame().set_alpha(0)"
   ]
  },
  {
   "cell_type": "markdown",
   "metadata": {},
   "source": [
    "**Questions 7.4**\n",
    "\n",
    "   1. Are you surprised by the behavior of the curve associated to the training set?\n",
    "   2. Are you disappointed by the behavior of the curve associated to the validation set?"
   ]
  },
  {
   "cell_type": "markdown",
   "metadata": {},
   "source": [
    "## 7.3 Clustering - The Gaussian Mixture Model\n",
    "\n",
    "We now consider the [Expectation Maximization algorithm](https://en.wikipedia.org/wiki/Expectation%E2%80%93maximization_algorithm) (EM) in order to estimate mixtures of Gaussians. As presented on [Slides 26 to 41 of the course](http://www.cs.toronto.edu/~lcharlin/courses/80-629/slides_unsupervised.pdf), the idea is simply to associate each observation with a probability of belonging to one or the other of the distributions.\n",
    "\n",
    "Coding the EM algorithm in numpy can be a tedious exercise, so we'll just use the GMM implementation provided by sklearn: [sklearn GMMs](https://scikit-learn.org/0.16/modules/generated/sklearn.mixture.GMM.html)"
   ]
  },
  {
   "cell_type": "code",
   "execution_count": null,
   "metadata": {},
   "outputs": [],
   "source": [
    "# first, we generate some data\n",
    "cluster_std=4\n",
    "X, y = make_blobs(n_samples=1000, centers=2, cluster_std=cluster_std, \n",
    "                  n_features=2, random_state=10)\n",
    "\n",
    "# fit the GMM model\n",
    "nb_components = 2\n",
    "GMM = mixture.GaussianMixture(n_components=nb_components, \n",
    "                              covariance_type='full')\n",
    "GMM.fit(X)\n",
    "\n",
    "# Plot the clustering result, where the color of the points indicate\n",
    "# to which cluster they probabilistically belong to.\n",
    "super_scat_it(X, GMM.predict_proba(X), dim=nb_components, \n",
    "              clusters_center=0, task='EM')"
   ]
  },
  {
   "cell_type": "markdown",
   "metadata": {},
   "source": [
    "**Questions 7.5**\n",
    "\n",
    "1. After a quick glance at the figure above, what do you notice that is different from the k-means algorithm?\n",
    "2. What would have happened if we had set the parameter associated with the variance of the sub-populations (`cluster_std`) to 2?"
   ]
  },
  {
   "cell_type": "markdown",
   "metadata": {},
   "source": [
    "### 7.3.1 Choosing the optimal number of clusters for a GMM\n",
    "\n",
    "**Questions 7.6**\n",
    "\n",
    "1. How do we find the right number of clusters?\n",
    "2. Do the train/validation curves behave similarly to those of the k-means algorithm (e.g. in Section 7.2.3)? Does it make sense?\n",
    "2. Could you imagine another way to find the optimal number of mixtures?"
   ]
  },
  {
   "cell_type": "code",
   "execution_count": null,
   "metadata": {
    "scrolled": true
   },
   "outputs": [],
   "source": [
    "X_train, X_valid, _, _ = train_test_split(X, y, test_size=0.2, random_state=0)\n",
    "loss_train, loss_valid = [], []\n",
    "\n",
    "for k in np.arange(max_cluster)+1:\n",
    "    GMM = mixture.GaussianMixture(n_components=k, covariance_type='full')\n",
    "    GMM.fit(X_train)\n",
    "    \n",
    "    loss_train.append(GMM.score(X_train))\n",
    "    loss_valid.append(GMM.score(X_valid))\n",
    "            \n",
    "plt.plot(np.arange(max_cluster)+1, loss_train, label='Train')\n",
    "plt.plot(np.arange(max_cluster)+1, loss_valid, label='Validation')\n",
    "\n",
    "plt.xlabel('Number of clusters')\n",
    "plt.ylabel('Log-Likelihood (Maximize)')\n",
    "\n",
    "# Ghosting the legend\n",
    "leg = plt.gca().legend(loc='center left', bbox_to_anchor=(1, .85))\n",
    "leg.get_frame().set_alpha(0)"
   ]
  },
  {
   "cell_type": "markdown",
   "metadata": {},
   "source": [
    "## 7.4 Dimensionality Reduction: Autoencoder"
   ]
  },
  {
   "cell_type": "markdown",
   "metadata": {},
   "source": [
    "### 7.4.1 Model\n",
    "\n",
    "Autoencoders (AE) are a class of neural networks that allow unsupervised learning of the latent characteristics of the data being studied (see capsule 4 of week 7 or [Chapter 14](http://www.deeplearningbook.org/contents/autoencoders.html) of the [Deep Learning book](http://www.deeplearningbook.org/)). To do this, the AE will attempt to predict, or copy, the input observations using (multiple) transformations (hidden layer). In its simplest form, the architecture of an AE can be summarized in the diagram below.\n",
    "\n",
    "![title](./Images/AE.png)\n",
    "\n",
    "Looking more closely, the AE consists of an encoder, the function $h(\\cdot)$ defined by:\n",
    "\n",
    "$$\n",
    "\\begin{align}\n",
    "    h(\\mathbf{x}) = \\frac{1}{1+ \\exp(-\\mathbf{W} \\mathbf{x})}.\n",
    "\\end{align}\n",
    "$$\n",
    "\n",
    "This function takes as input the observations and will consist of recoding it as a hidden layer so as to reduce their size (fewer neurons). Afterwards, an encoder defined by:\n",
    "\n",
    "$$\n",
    "\\begin{align}\n",
    "    f(h(\\mathbf{x})) = \\mathbf{W}^\\top h(\\mathbf{x})\n",
    "\\end{align}\n",
    "$$\n",
    "\n",
    "will attempt <i>to reconstruct </i> the input observations from the hidden layer. In this sense, the AE tries to estimate the observations used as input."
   ]
  },
  {
   "cell_type": "markdown",
   "metadata": {},
   "source": [
    "### 7.4.3 Data simulation\n",
    "\n",
    "Let's first simulate more complex Gaussian mixtures (look at the number of clusters and the dimension of the data) in order to understand the behaviour of the AEs."
   ]
  },
  {
   "cell_type": "code",
   "execution_count": 2,
   "metadata": {},
   "outputs": [],
   "source": [
    "nb_obs = 10**4  # Number of observations\n",
    "k = 3           # Number of groups\n",
    "std = 0.01      # Standard deviation for each blob\n",
    "dim = 5         # Data dimensions\n",
    "seed = 10       # Seed to control the data generation\n",
    "\n",
    "X, y = make_blobs(n_samples=nb_obs, centers=k, cluster_std=std, \n",
    "                  n_features=dim, random_state=10)   # Data generation\n",
    "X_train, X_valid, y_train, y_valid = train_test_split(X, y, test_size=0.2, random_state=0)"
   ]
  },
  {
   "cell_type": "markdown",
   "metadata": {},
   "source": [
    "**!! Remark !!** \n",
    "\n",
    "There's no specific class for autoencoders in `sklearn`, but since AEs are a type of feed-forward network we can simply reuse the `MLP` classes (e.g., `MLPRegressor`) to build an AE.\n",
    "\n",
    "Note that there exists un library called `scikit-neuralnetwork` which offers [AE models](https://scikit-neuralnetwork.readthedocs.io/en/latest/guide_sklearn.html#unsupervised-pre-training) directly using an sklearn-like interface. You could of course also use PyTorch. "
   ]
  },
  {
   "cell_type": "code",
   "execution_count": 3,
   "metadata": {},
   "outputs": [
    {
     "name": "stdout",
     "output_type": "stream",
     "text": [
      "Iteration 1, loss = 12.56434415\n",
      "Validation score: 0.612601\n",
      "Iteration 2, loss = 5.14832218\n",
      "Validation score: 0.817819\n",
      "Iteration 3, loss = 2.60939457\n",
      "Validation score: 0.903460\n",
      "Iteration 4, loss = 1.37251663\n",
      "Validation score: 0.950421\n",
      "Iteration 5, loss = 0.69240844\n",
      "Validation score: 0.975491\n",
      "Iteration 6, loss = 0.33480555\n",
      "Validation score: 0.988312\n",
      "Iteration 7, loss = 0.15612936\n",
      "Validation score: 0.994740\n",
      "Iteration 8, loss = 0.06906778\n",
      "Validation score: 0.997731\n",
      "Iteration 9, loss = 0.02909374\n",
      "Validation score: 0.999088\n",
      "Iteration 10, loss = 0.01164580\n",
      "Validation score: 0.999651\n",
      "Iteration 11, loss = 0.00447650\n",
      "Validation score: 0.999873\n",
      "Iteration 12, loss = 0.00173876\n",
      "Validation score: 0.999956\n",
      "Iteration 13, loss = 0.00075062\n",
      "Validation score: 0.999985\n",
      "Iteration 14, loss = 0.00042251\n",
      "Validation score: 0.999994\n",
      "Iteration 15, loss = 0.00032012\n",
      "Validation score: 0.999996\n",
      "Iteration 16, loss = 0.00029073\n",
      "Validation score: 0.999997\n",
      "Iteration 17, loss = 0.00028294\n",
      "Validation score: 0.999997\n",
      "Iteration 18, loss = 0.00028103\n",
      "Validation score: 0.999997\n",
      "Iteration 19, loss = 0.00028056\n",
      "Validation score: 0.999997\n",
      "Iteration 20, loss = 0.00028050\n",
      "Validation score: 0.999997\n",
      "Iteration 21, loss = 0.00028051\n",
      "Validation score: 0.999997\n",
      "Iteration 22, loss = 0.00028051\n",
      "Validation score: 0.999997\n",
      "Validation score did not improve more than tol=0.000100 for 10 consecutive epochs. Stopping.\n"
     ]
    },
    {
     "data": {
      "text/plain": [
       "MLPRegressor(activation='logistic', alpha=0.0001, batch_size='auto', beta_1=0.9,\n",
       "             beta_2=0.999, early_stopping=True, epsilon=1e-08,\n",
       "             hidden_layer_sizes=2, learning_rate='constant',\n",
       "             learning_rate_init=0.1, max_fun=15000, max_iter=200, momentum=0.9,\n",
       "             n_iter_no_change=10, nesterovs_momentum=True, power_t=0.5,\n",
       "             random_state=None, shuffle=True, solver='adam', tol=0.0001,\n",
       "             validation_fraction=0.1, verbose=True, warm_start=False)"
      ]
     },
     "execution_count": 3,
     "metadata": {},
     "output_type": "execute_result"
    }
   ],
   "source": [
    "import warnings # to remove some sklearn warnings\n",
    "warnings.filterwarnings(\"ignore\")\n",
    "\n",
    "from sklearn.neural_network import MLPRegressor\n",
    "\n",
    "learning_rate = 1e-1\n",
    "aenn = MLPRegressor(hidden_layer_sizes=(2), \n",
    "             activation='logistic', \n",
    "             solver='adam', \n",
    "             alpha=0.0001, \n",
    "             batch_size='auto', \n",
    "             early_stopping=True,\n",
    "             learning_rate_init=learning_rate,\n",
    "             verbose=True)\n",
    "\n",
    "# Since we use early_stopping builtin into the MLPRegressor,\n",
    "# we use both train and validation as our training set.\n",
    "aenn.fit(np.vstack((X_train, X_valid)), np.vstack((X_train, X_valid)))\n",
    "\n",
    "# If we had wanted to use our original validation dataset\n",
    "# we could have used the partial_fit() function\n",
    "# For example,\n",
    "#from sklearn.metrics import mean_squared_error\n",
    "#max_epochs = 100 \n",
    "#mse_train, mse_valid = [], []\n",
    "#for i in range(max_epochs):\n",
    "#    aenn.partial_fit(X_train, X_train)\n",
    "#    train_pred = aenn.predict(X_train)\n",
    "#    mse_train.append(mean_squared_error(X_train, train_pred))\n",
    "#\n",
    "#    valid_pred = aenn.predict(X_valid)\n",
    "#    mse_valid.append(mean_squared_error(X_valid, valid_pred))"
   ]
  },
  {
   "cell_type": "markdown",
   "metadata": {},
   "source": [
    "**Question 7.7**\n",
    "\n",
    "Why should the dimension of the hidden layer be smaller than the dimension of the input layer?"
   ]
  },
  {
   "cell_type": "markdown",
   "metadata": {},
   "source": [
    "### 7.4.5 A representation study\n",
    "\n",
    "Now that the AE is trained, we can look at the latent representation given by the hidden layer. Since we want to visualize the hidden states, we can simply compare the two by two representations from a small amount of data."
   ]
  },
  {
   "cell_type": "code",
   "execution_count": 4,
   "metadata": {},
   "outputs": [
    {
     "data": {
      "image/png": "[encoded data removed]",
      "text/plain": [
       "<Figure size 432x288 with 1 Axes>"
      ]
     },
     "metadata": {
      "needs_background": "light"
     },
     "output_type": "display_data"
    }
   ],
   "source": [
    "n_sub = 500 # a small amount of data\n",
    "\n",
    "from scipy.special import expit\n",
    "\n",
    "X_sub = X_train[0:n_sub]\n",
    "y_sub = y_train[0:n_sub]\n",
    "\n",
    "# Get the hidden representations\n",
    "hiddens = expit(np.dot(X_sub, aenn.coefs_[0]) + aenn.intercepts_[0])\n",
    "\n",
    "# Plot\n",
    "fig = plt.figure()\n",
    "hiddens += np.random.randn(n_sub,2)*0.01 # add a bit of noise for vizualization purposes\n",
    "plt.scatter(hiddens[:, 1], hiddens[:, 0], c=y_sub)\n",
    "plt.xlabel('First hidden dimension')\n",
    "plt.ylabel('Second hidden dimension')\n",
    "plt.title('The hidden dimensions of %d %d-dimensional points' % (X_sub.shape))\n",
    "plt.tight_layout()"
   ]
  },
  {
   "cell_type": "markdown",
   "metadata": {},
   "source": [
    "**Questions 7.8**\n",
    "\n",
    "1. Does the plot behave as you expected? How so?\n",
    "2. Run the same experiment again without changing the hyperparameters. What do you notice? Does the latent representation seems to have changed?\n",
    "3. Would the plot have been different if we had simulated the data from 2 clusters instead of 4? Try it! \n",
    "4. How could you use the information represented in the hidden layers?"
   ]
  }
 ],
 "metadata": {
  "kernelspec": {
   "display_name": "Python 3",
   "language": "python",
   "name": "python3"
  },
  "language_info": {
   "codemirror_mode": {
    "name": "ipython",
    "version": 3
   },
   "file_extension": ".py",
   "mimetype": "text/x-python",
   "name": "python",
   "nbconvert_exporter": "python",
   "pygments_lexer": "ipython3",
   "version": "3.7.3"
  }
 },
 "nbformat": 4,
 "nbformat_minor": 4
}

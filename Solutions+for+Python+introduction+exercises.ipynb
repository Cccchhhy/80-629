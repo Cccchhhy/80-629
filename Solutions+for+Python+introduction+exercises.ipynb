{
 "cells": [
  {
   "cell_type": "markdown",
   "metadata": {},
   "source": [
    "#### [Section 3] List of strings. Create a list of containing the smallest prime numbers (encode each element as an number). Ensure that your list has exactly 10 elements. Then print the last five elements of the list."
   ]
  },
  {
   "cell_type": "code",
   "execution_count": 3,
   "metadata": {
    "collapsed": false
   },
   "outputs": [
    {
     "name": "stdout",
     "output_type": "stream",
     "text": [
      "primes [2, 3, 5, 7, 11, 13, 17, 19, 23, 29]\n",
      "primes last 5 elements: [13, 17, 19, 23, 29]\n"
     ]
    }
   ],
   "source": [
    "primes = [2, 3, 5, 7, 11, 13, 17, 19, 23, 29]\n",
    "print 'primes', primes\n",
    "\n",
    "print 'primes last 5 elements:', primes[-5:]"
   ]
  },
  {
   "cell_type": "markdown",
   "metadata": {},
   "source": [
    "#### Bonus: list every second element in the list."
   ]
  },
  {
   "cell_type": "code",
   "execution_count": 4,
   "metadata": {
    "collapsed": false
   },
   "outputs": [
    {
     "name": "stdout",
     "output_type": "stream",
     "text": [
      "primes every second element [2, 5, 11, 17, 23]\n"
     ]
    }
   ],
   "source": [
    "print 'primes every second element', primes [::2]"
   ]
  },
  {
   "cell_type": "markdown",
   "metadata": {},
   "source": [
    "#### [Section 4] Control statements (loops). Print the sum of the elements in the list you created in the previous exercise."
   ]
  },
  {
   "cell_type": "code",
   "execution_count": 8,
   "metadata": {
    "collapsed": false
   },
   "outputs": [
    {
     "name": "stdout",
     "output_type": "stream",
     "text": [
      "129\n",
      "129\n"
     ]
    }
   ],
   "source": [
    "sprimes = 0\n",
    "for p in primes: \n",
    "    sprimes += p\n",
    "print sprimes\n",
    "\n",
    "# alternative using reduce\n",
    "print reduce(lambda x,y: x+y, primes)"
   ]
  },
  {
   "cell_type": "markdown",
   "metadata": {},
   "source": [
    "#### [Section 4] Control statements (loops). Write a function that checks whether a particular input is prime or not. The function should either print \"PRIME\" or \"NOT PRIME\".\n"
   ]
  },
  {
   "cell_type": "code",
   "execution_count": 86,
   "metadata": {
    "collapsed": false
   },
   "outputs": [],
   "source": [
    "def isprime(number, out=False):\n",
    "    \n",
    "    if number <= 1:\n",
    "        if out:\n",
    "            print 'NOT PRIME'\n",
    "        return\n",
    "    \n",
    "    for i in xrange(2,number):\n",
    "        if number % i == 0:\n",
    "            break\n",
    "    else:\n",
    "        if out:\n",
    "            print 'PRIME'\n",
    "        return True\n",
    "    if out:\n",
    "        print 'NOT PRIME'\n",
    "    return False\n",
    "    \n",
    "# alternative\n",
    "def isprime_alt(number):\n",
    "    if number <= 1:\n",
    "        print 'NOT PRIME'\n",
    "        return \n",
    "    \n",
    "    if len(filter(lambda x: (number % x) == 0, range(2,number))) == 0:\n",
    "        print 'PRIME'\n",
    "    else:\n",
    "        print 'NOT PRIME'"
   ]
  },
  {
   "cell_type": "code",
   "execution_count": 83,
   "metadata": {
    "collapsed": false
   },
   "outputs": [
    {
     "name": "stdout",
     "output_type": "stream",
     "text": [
      "0 is NOT PRIME\n",
      "NOT PRIME\n",
      "1 is NOT PRIME\n",
      "NOT PRIME\n",
      "2 is PRIME\n",
      "PRIME\n",
      "3 is PRIME\n",
      "PRIME\n",
      "4 is NOT PRIME\n",
      "NOT PRIME\n",
      "5 is PRIME\n",
      "PRIME\n",
      "6 is NOT PRIME\n",
      "NOT PRIME\n",
      "7 is PRIME\n",
      "PRIME\n",
      "8 is NOT PRIME\n",
      "NOT PRIME\n",
      "9 is NOT PRIME\n",
      "NOT PRIME\n",
      "10 is NOT PRIME\n",
      "NOT PRIME\n",
      "11 is PRIME\n",
      "PRIME\n",
      "12 is NOT PRIME\n",
      "NOT PRIME\n",
      "13 is PRIME\n",
      "PRIME\n"
     ]
    }
   ],
   "source": [
    "#for p in primes: \n",
    "\n",
    "for p in xrange(14):\n",
    "    print p, 'is', \n",
    "    isprime_alt(p), isprime(p, out=True)"
   ]
  },
  {
   "cell_type": "markdown",
   "metadata": {},
   "source": [
    "#### *Bonus*: When your function finds a non-prime member, have it explain to the user why the number is not prime by listing all of its (positive) divisors."
   ]
  },
  {
   "cell_type": "code",
   "execution_count": 64,
   "metadata": {
    "collapsed": true
   },
   "outputs": [],
   "source": [
    "def isprime_explain(number):\n",
    "    \n",
    "    if number <= 1:\n",
    "        print 'NOT PRIME'\n",
    "        return\n",
    "    \n",
    "    divisors = []\n",
    "    \n",
    "    for i in xrange(2,number):\n",
    "        if number % i == 0:\n",
    "            divisors += [i]\n",
    "\n",
    "    if len(divisors) == 0:\n",
    "        print 'PRIME'\n",
    "    else:\n",
    "        print 'NOT PRIME', divisors\n",
    "    "
   ]
  },
  {
   "cell_type": "markdown",
   "metadata": {},
   "source": [
    "for p in xrange(14):\n",
    "    print p, 'is', \n",
    "    isprime_explain(p)"
   ]
  },
  {
   "cell_type": "markdown",
   "metadata": {},
   "source": [
    "#### [Section 5] Lists. Suggest two different ways for reversing the order of the elements in a list (you can re-use your list of prime numbers from above)."
   ]
  },
  {
   "cell_type": "code",
   "execution_count": 76,
   "metadata": {
    "collapsed": false
   },
   "outputs": [
    {
     "name": "stdout",
     "output_type": "stream",
     "text": [
      "[29, 23, 19, 17, 13, 11, 7, 5, 3, 2]\n",
      "[29, 23, 19, 17, 13, 11, 7, 5, 3, 2]\n"
     ]
    }
   ],
   "source": [
    "primes_bis = primes[:]\n",
    "primes_bis.reverse()\n",
    "\n",
    "# First way\n",
    "print primes_bis\n",
    "# Second way\n",
    "print primes[-1::-1]"
   ]
  },
  {
   "cell_type": "markdown",
   "metadata": {},
   "source": [
    "#### [Section 5] Functional programming tools. Using the filter function, automatically create a list of all prime numbers less than 100."
   ]
  },
  {
   "cell_type": "code",
   "execution_count": 87,
   "metadata": {
    "collapsed": false
   },
   "outputs": [
    {
     "name": "stdout",
     "output_type": "stream",
     "text": [
      "[2, 3, 5, 7, 11, 13, 17, 19, 23, 29, 31, 37, 41, 43, 47, 53, 59, 61, 67, 71, 73, 79, 83, 89, 97]\n"
     ]
    }
   ],
   "source": [
    "small_primes = filter(isprime, xrange(100))\n",
    "print small_primes"
   ]
  },
  {
   "cell_type": "markdown",
   "metadata": {},
   "source": [
    "#### [Section 5] Dictionaries. Organize a list of all natural number less than 100 into a dictionary according to whether or not they are prime (i.e., a dictionary with two keys: 'prime' and 'not prime')."
   ]
  },
  {
   "cell_type": "code",
   "execution_count": 92,
   "metadata": {
    "collapsed": false
   },
   "outputs": [
    {
     "name": "stdout",
     "output_type": "stream",
     "text": [
      "{'prime': [2, 3, 5, 7, 11, 13, 17, 19, 23, 29, 31, 37, 41, 43, 47, 53, 59, 61, 67, 71, 73, 79, 83, 89, 97], 'not prime': [0, 1, 4, 6, 8, 9, 10, 12, 14, 15, 16, 18, 20, 21, 22, 24, 25, 26, 27, 28, 30, 32, 33, 34, 35, 36, 38, 39, 40, 42, 44, 45, 46, 48, 49, 50, 51, 52, 54, 55, 56, 57, 58, 60, 62, 63, 64, 65, 66, 68, 69, 70, 72, 74, 75, 76, 77, 78, 80, 81, 82, 84, 85, 86, 87, 88, 90, 91, 92, 93, 94, 95, 96, 98, 99]}\n"
     ]
    }
   ],
   "source": [
    "prime_dic = { 'prime' : [], 'not prime' : []}\n",
    "for i in xrange(100):\n",
    "    if isprime(i):\n",
    "        prime_dic['prime'] += [i]\n",
    "    else:\n",
    "        prime_dic['not prime'] += [i]\n",
    "\n",
    "print prime_dic"
   ]
  },
  {
   "cell_type": "markdown",
   "metadata": {},
   "source": [
    "#### [Section 7] Input & Output. Write the list of all prime numbers less than 100 to a file. Then read the file back into a list."
   ]
  },
  {
   "cell_type": "code",
   "execution_count": 98,
   "metadata": {
    "collapsed": false
   },
   "outputs": [
    {
     "name": "stdout",
     "output_type": "stream",
     "text": [
      "[2, 3, 5, 7, 11, 13, 17, 19, 23, 29, 31, 37, 41, 43, 47, 53, 59, 61, 67, 71, 73, 79, 83, 89, 97]\n"
     ]
    }
   ],
   "source": [
    "print prime_dic['prime']\n",
    "fout = open('myfile.txt', 'w')\n",
    "for i in prime_dic['prime']:\n",
    "    fout.write('%d\\n' % i)\n",
    "fout.close()"
   ]
  },
  {
   "cell_type": "code",
   "execution_count": 99,
   "metadata": {
    "collapsed": false
   },
   "outputs": [
    {
     "name": "stdout",
     "output_type": "stream",
     "text": [
      "[2, 3, 5, 7, 11, 13, 17, 19, 23, 29, 31, 37, 41, 43, 47, 53, 59, 61, 67, 71, 73, 79, 83, 89, 97]\n"
     ]
    }
   ],
   "source": [
    "fin = open('myfile.txt')\n",
    "file_primes = [] \n",
    "for line in fin.readlines():\n",
    "    file_primes += [int(line)]\n",
    "print file_primes"
   ]
  },
  {
   "cell_type": "markdown",
   "metadata": {},
   "source": [
    "#### *Bonus* When writing right-align all numbers."
   ]
  },
  {
   "cell_type": "code",
   "execution_count": 103,
   "metadata": {
    "collapsed": false
   },
   "outputs": [
    {
     "name": "stdout",
     "output_type": "stream",
     "text": [
      " 2  3  5  7 11 13 17 19 23 29 31 37 41 43 47 53 59 61 67 71 73 79 83 89 97\n"
     ]
    }
   ],
   "source": [
    "for i in prime_dic['prime']:\n",
    "    print str(i).rjust(2),\n"
   ]
  },
  {
   "cell_type": "markdown",
   "metadata": {},
   "source": [
    "#### [Section 9] Classes and objects. Create a class that will be used to manipulate prime numbers. Your class should have three functionalities: 1) generate all prime number in a particular range, 2) test the membership of a new number, and 3) print all prime number from a given list. Note you are free to re-use some of the functions that you've created before."
   ]
  },
  {
   "cell_type": "code",
   "execution_count": 119,
   "metadata": {
    "collapsed": false
   },
   "outputs": [
    {
     "name": "stdout",
     "output_type": "stream",
     "text": [
      "all primes between 10 and 20: [11, 13, 17, 19]\n",
      "primes from a list [2, 3, 5, 7, 11, 13, 17, 19, 23, 29, 31, 37, 41, 43, 47, 53, 59, 61, 67, 71, 73, 79, 83, 89, 97, 101, 103, 107, 109, 113, 127, 131, 137, 139, 149, 151, 157, 163, 167, 173, 179, 181, 191, 193, 197, 199]\n"
     ]
    }
   ],
   "source": [
    "class primeNumbers: \n",
    "    \n",
    "    def __init__(self):\n",
    "        pass\n",
    "    \n",
    "    def gen_primes(self, a, b):\n",
    "        p = filter(self.isprime, xrange(a, b))           \n",
    "        return p\n",
    "        \n",
    "    def isprime(self, a):\n",
    "        if a <= 1:\n",
    "            return False\n",
    "        \n",
    "        if len(filter(lambda x: (a % x) == 0, range(2,a))) == 0:\n",
    "            return True\n",
    "        else:\n",
    "            return False\n",
    "        \n",
    "    def print_primes(self, l):\n",
    "        primes = [i for i in l if isprime(i)]\n",
    "        return primes\n",
    "            \n",
    "    \n",
    "        \n",
    "pn = primeNumbers()\n",
    "\n",
    "a, b = 10, 20\n",
    "print 'all primes between %d and %d:' % (a, b), pn.gen_primes(a, b)\n",
    "\n",
    "print 'primes from a list', pn.print_primes(range(200))"
   ]
  }
 ],
 "metadata": {
  "kernelspec": {
   "display_name": "Python 2",
   "language": "python",
   "name": "python2"
  },
  "language_info": {
   "codemirror_mode": {
    "name": "ipython",
    "version": 2
   },
   "file_extension": ".py",
   "mimetype": "text/x-python",
   "name": "python",
   "nbconvert_exporter": "python",
   "pygments_lexer": "ipython2",
   "version": "2.7.13"
  }
 },
 "nbformat": 4,
 "nbformat_minor": 2
}

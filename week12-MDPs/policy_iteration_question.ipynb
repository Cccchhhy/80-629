{
 "cells": [
  {
   "cell_type": "markdown",
   "metadata": {},
   "source": [
    "# Week 12 - Sequential Decision Making I\n",
    "## 2. Policy Iteration"
   ]
  },
  {
   "cell_type": "markdown",
   "metadata": {},
   "source": [
    "In this notebook, you will be tested on your capacity to **complete the poliy iteration algorithm**. <br>\n",
    "You can find details about the algorithm at slide 47 of the slide deck. <br>\n",
    "The algorithm will be tested on a simple Gridworld similar to the one presented at slide 12. <br>\n",
    "This Gridworld is however simpler because the MDP is deterministic. <br>\n",
    "\n",
    "The code was adapted from: https://github.com/lazyprogrammer/machine_learning_examples/tree/master/rl <br>\n",
    "and then from: https://github.com/omerbsezer/Reinforcement_learning_tutorial_with_demo"
   ]
  },
  {
   "cell_type": "markdown",
   "metadata": {},
   "source": [
    "### 2.1 Setup"
   ]
  },
  {
   "cell_type": "code",
   "execution_count": 3,
   "metadata": {},
   "outputs": [],
   "source": [
    "#imports\n",
    "import numpy as np\n",
    "from gridWorldGame import standard_grid, negative_grid, print_values, print_policy"
   ]
  },
  {
   "cell_type": "markdown",
   "metadata": {},
   "source": [
    "Let's set some variables. <br>\n",
    "SMALL_ENOUGH is a threshold we will utilize to determine if the algorithm as converged <br>\n",
    "GAMMA is the discount factor explained in slide 36 <br>\n",
    "ALL_POSSIBLE_ACTIONS are the actions you can take in the GridWold, as in slide 12"
   ]
  },
  {
   "cell_type": "code",
   "execution_count": 5,
   "metadata": {},
   "outputs": [],
   "source": [
    "SMALL_ENOUGH = 1e-3\n",
    "GAMMA = 0.9\n",
    "ALL_POSSIBLE_ACTIONS = ('U', 'D', 'L', 'R')"
   ]
  },
  {
   "cell_type": "markdown",
   "metadata": {},
   "source": [
    "Now we will set up a the Gridworld. <br>\n",
    "To find a shorter path to the goal, we will use a negative grid that give negatives rewards of -0.1 in the non-absorbing states"
   ]
  },
  {
   "cell_type": "code",
   "execution_count": 6,
   "metadata": {},
   "outputs": [
    {
     "name": "stdout",
     "output_type": "stream",
     "text": [
      "rewards:\n",
      "---------------------------\n",
      "-0.10|-0.10|-0.10| 1.00|\n",
      "---------------------------\n",
      "-0.10| 0.00|-0.10|-1.00|\n",
      "---------------------------\n",
      "-0.10|-0.10|-0.10|-0.10|\n"
     ]
    }
   ],
   "source": [
    "grid = negative_grid()\n",
    "print(\"rewards:\")\n",
    "print_values(grid.rewards, grid)"
   ]
  },
  {
   "cell_type": "markdown",
   "metadata": {},
   "source": [
    "Next, we will define a random inital policy. <br>\n",
    "Remember that a policy maps states to actions."
   ]
  },
  {
   "cell_type": "code",
   "execution_count": 7,
   "metadata": {},
   "outputs": [
    {
     "name": "stdout",
     "output_type": "stream",
     "text": [
      "initial policy:\n",
      "---------------------------\n",
      "  D  |  R  |  L  |     |\n",
      "---------------------------\n",
      "  R  |     |  R  |     |\n",
      "---------------------------\n",
      "  R  |  D  |  R  |  U  |\n"
     ]
    }
   ],
   "source": [
    "policy = {}\n",
    "for s in grid.actions.keys():\n",
    "  policy[s] = np.random.choice(ALL_POSSIBLE_ACTIONS)\n",
    "\n",
    "# initial policy\n",
    "print(\"initial policy:\")\n",
    "print_policy(policy, grid)"
   ]
  },
  {
   "cell_type": "markdown",
   "metadata": {},
   "source": [
    "Next, we will randomly initialize the value fonction"
   ]
  },
  {
   "cell_type": "code",
   "execution_count": 8,
   "metadata": {},
   "outputs": [
    {
     "name": "stdout",
     "output_type": "stream",
     "text": [
      "---------------------------\n",
      " 0.95| 0.46| 0.19| 0.00|\n",
      "---------------------------\n",
      " 0.56| 0.00| 0.88| 0.00|\n",
      "---------------------------\n",
      " 0.45| 0.33| 0.76| 0.48|\n"
     ]
    }
   ],
   "source": [
    "# initialize V(s) - value function\n",
    "V = {}\n",
    "states = grid.all_states()\n",
    "for s in states:\n",
    "  if s in grid.actions:\n",
    "    V[s] = np.random.random()\n",
    "  else:\n",
    "    # terminal state\n",
    "    V[s] = 0\n",
    "\n",
    "# initial value for all states in grid\n",
    "print_values(V, grid)"
   ]
  },
  {
   "cell_type": "markdown",
   "metadata": {},
   "source": [
    "Note that we set to Null the values of the terminal states. <br> \n",
    "For the print_values() function to compile, we set them to 0."
   ]
  },
  {
   "cell_type": "markdown",
   "metadata": {},
   "source": [
    "### 2.2 Policy iteration - code completion\n",
    "\n",
    "You will now have to complete the Policy iteration algorithm. <br>\n",
    "Remember that the algorithm works in two phases. <br>\n",
    "First, in the *policy evaluation* phase, the value function is update with the formula:\n",
    "\n",
    "$$\n",
    "V^\\pi(s) =  \\sum_{s',a}  p(s'|s,\\pi(s))(r + \\gamma*V^\\pi(s') \n",
    "$$\n",
    "This part of the algorithm is already coded for you. <br>\n",
    "\n",
    "Second, in the *policy improvement* step, the policy is updated with the formula:\n",
    "\n",
    "$$\n",
    "\\pi'(s) = \\underset{a}{arg max}\\big\\{ \\sum_{s',a}  p(s'|s,\\pi(s))(r + \\gamma*V^\\pi(s') \\big\\}\n",
    "$$\n",
    "\n",
    "This is the part of code you will have to complete. <br>\n",
    "\n",
    "Note that in the current gridWorld, p(s'|s,a) is deterministic. <br>\n",
    "Run the algorithm until convergence."
   ]
  },
  {
   "cell_type": "code",
   "execution_count": 9,
   "metadata": {},
   "outputs": [
    {
     "ename": "IndentationError",
     "evalue": "expected an indented block (<ipython-input-9-b8c398e3b83e>, line 47)",
     "output_type": "error",
     "traceback": [
      "\u001b[0;36m  File \u001b[0;32m\"<ipython-input-9-b8c398e3b83e>\"\u001b[0;36m, line \u001b[0;32m47\u001b[0m\n\u001b[0;31m    if is_policy_converged:\u001b[0m\n\u001b[0m    ^\u001b[0m\n\u001b[0;31mIndentationError\u001b[0m\u001b[0;31m:\u001b[0m expected an indented block\n"
     ]
    }
   ],
   "source": [
    "iteration=0\n",
    "# repeat until convergence\n",
    "# when policy does not change, it will finish\n",
    "while True:\n",
    "  iteration+=1\n",
    "  print(\"values %d: \" % iteration)\n",
    "  print_values(V, grid)\n",
    "  print(\"policy %d: \" % iteration)\n",
    "  print_policy(policy, grid)\n",
    "  print('\\n\\n')\n",
    "\n",
    "  # policy evaluation step\n",
    "  while True:\n",
    "    biggest_change = 0\n",
    "    for s in states:\n",
    "      old_v = V[s]\n",
    "\n",
    "      # V(s) only has value if it's not a terminal state\n",
    "      if s in policy:\n",
    "        a = policy[s]\n",
    "        grid.set_state(s)\n",
    "        r = grid.move(a) # reward\n",
    "        next_state = grid.current_state() # s' \n",
    "        V[s] = r + GAMMA * V[next_state]\n",
    "        biggest_change = max(biggest_change, np.abs(old_v - V[s]))\n",
    "\n",
    "    if biggest_change < SMALL_ENOUGH:\n",
    "      break\n",
    "\n",
    "  # policy improvement step\n",
    "  is_policy_converged = True\n",
    "  for s in states:\n",
    "    if s in policy:\n",
    "      old_a = policy[s]\n",
    "      new_a = None\n",
    "      best_value = float('-inf')\n",
    "      # loop through all possible actions to find the best current action\n",
    "      for a in ALL_POSSIBLE_ACTIONS:\n",
    "        \n",
    "        ## Implement This!\n",
    "        \n",
    "        ## Hint:\n",
    "        ##   - keep track of the changes to the policy with the variable is_policy_converged.\n",
    "        ##     Use it to break the loop upon convergence\n",
    "\n",
    "\n",
    "  if is_policy_converged:\n",
    "    break"
   ]
  },
  {
   "cell_type": "markdown",
   "metadata": {},
   "source": [
    "Now print your policy and make sure it leads to the upper-right corner which is the termnial state returning the most rewards."
   ]
  },
  {
   "cell_type": "code",
   "execution_count": 10,
   "metadata": {},
   "outputs": [
    {
     "name": "stdout",
     "output_type": "stream",
     "text": [
      "final values:\n",
      "---------------------------\n",
      " 0.95| 0.46| 0.19| 0.00|\n",
      "---------------------------\n",
      " 0.56| 0.00| 0.88| 0.00|\n",
      "---------------------------\n",
      " 0.45| 0.33| 0.76| 0.48|\n",
      "final policy:\n",
      "---------------------------\n",
      "  D  |  R  |  L  |     |\n",
      "---------------------------\n",
      "  R  |     |  R  |     |\n",
      "---------------------------\n",
      "  R  |  D  |  R  |  U  |\n"
     ]
    }
   ],
   "source": [
    "print(\"final values:\")\n",
    "print_values(V, grid)\n",
    "print(\"final policy:\")\n",
    "print_policy(policy, grid)"
   ]
  },
  {
   "cell_type": "code",
   "execution_count": null,
   "metadata": {},
   "outputs": [],
   "source": []
  }
 ],
 "metadata": {
  "kernelspec": {
   "display_name": "Python 3",
   "language": "python",
   "name": "python3"
  },
  "language_info": {
   "codemirror_mode": {
    "name": "ipython",
    "version": 3
   },
   "file_extension": ".py",
   "mimetype": "text/x-python",
   "name": "python",
   "nbconvert_exporter": "python",
   "pygments_lexer": "ipython3",
   "version": "3.7.4"
  }
 },
 "nbformat": 4,
 "nbformat_minor": 1
}

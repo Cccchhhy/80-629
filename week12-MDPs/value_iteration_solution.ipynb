{
 "cells": [
  {
   "cell_type": "markdown",
   "metadata": {},
   "source": [
    "# Value Iteration\n",
    "## solution"
   ]
  },
  {
   "cell_type": "code",
   "execution_count": 14,
   "metadata": {},
   "outputs": [],
   "source": [
    "# Adapted from: https://github.com/lazyprogrammer/machine_learning_examples/tree/master/rl\n",
    "# and then from: https://github.com/omerbsezer/Reinforcement_learning_tutorial_with_demo"
   ]
  },
  {
   "cell_type": "code",
   "execution_count": 21,
   "metadata": {},
   "outputs": [
    {
     "name": "stdout",
     "output_type": "stream",
     "text": [
      "rewards:\n",
      "---------------------------\n",
      "-0.10|-0.10|-0.10| 1.00|\n",
      "---------------------------\n",
      "-0.10| 0.00|-0.10|-1.00|\n",
      "---------------------------\n",
      "-0.10|-0.10|-0.10|-0.10|\n"
     ]
    }
   ],
   "source": [
    "import numpy as np\n",
    "from gridWorldGame import standard_grid, negative_grid,print_values, print_policy\n",
    "\n",
    "SMALL_ENOUGH = 1e-3\n",
    "GAMMA = 0.9\n",
    "ALL_POSSIBLE_ACTIONS = ('U', 'D', 'L', 'R')\n",
    "# this grid gives you a reward of -0.1\n",
    "# to find a shorter path to the goal, use negative grid\n",
    "grid = negative_grid()\n",
    "print(\"rewards:\")\n",
    "print_values(grid.rewards, grid)"
   ]
  },
  {
   "cell_type": "code",
   "execution_count": 22,
   "metadata": {},
   "outputs": [],
   "source": [
    "# state -> action\n",
    "# choose an action and update randomly \n",
    "policy = {}\n",
    "for s in grid.actions.keys():\n",
    "  policy[s] = np.random.choice(ALL_POSSIBLE_ACTIONS)"
   ]
  },
  {
   "cell_type": "code",
   "execution_count": 23,
   "metadata": {},
   "outputs": [
    {
     "name": "stdout",
     "output_type": "stream",
     "text": [
      "initial policy:\n",
      "---------------------------\n",
      "  D  |  D  |  L  |     |\n",
      "---------------------------\n",
      "  R  |     |  R  |     |\n",
      "---------------------------\n",
      "  L  |  R  |  U  |  D  |\n"
     ]
    }
   ],
   "source": [
    "# initial policy\n",
    "print(\"initial policy:\")\n",
    "print_policy(policy, grid)"
   ]
  },
  {
   "cell_type": "code",
   "execution_count": 32,
   "metadata": {},
   "outputs": [
    {
     "name": "stdout",
     "output_type": "stream",
     "text": [
      "---------------------------\n",
      " 0.74| 0.11| 0.61| 0.00|\n",
      "---------------------------\n",
      " 0.15| 0.00| 0.07| 0.00|\n",
      "---------------------------\n",
      " 0.59| 0.53| 0.00| 0.29|\n"
     ]
    }
   ],
   "source": [
    "# initialize V(s) - value function\n",
    "V = {}\n",
    "states = grid.all_states()\n",
    "for s in states:\n",
    "  # V[s] = 0\n",
    "  if s in grid.actions:\n",
    "    V[s] = np.random.random()\n",
    "  else:\n",
    "    # terminal state\n",
    "    V[s] = 0\n",
    "\n",
    "# initial value for all states in grid\n",
    "print_values(V, grid)"
   ]
  },
  {
   "cell_type": "code",
   "execution_count": 33,
   "metadata": {
    "scrolled": false
   },
   "outputs": [
    {
     "name": "stdout",
     "output_type": "stream",
     "text": [
      "values 1: \n",
      "---------------------------\n",
      " 0.74| 0.11| 0.61| 0.00|\n",
      "---------------------------\n",
      " 0.15| 0.00| 0.07| 0.00|\n",
      "---------------------------\n",
      " 0.59| 0.53| 0.00| 0.29|\n",
      "policy 1: \n",
      "---------------------------\n",
      "  R  |  R  |  R  |     |\n",
      "---------------------------\n",
      "  U  |     |  U  |     |\n",
      "---------------------------\n",
      "  U  |  R  |  U  |  L  |\n",
      "\n",
      "\n",
      "\n",
      "values 2: \n",
      "---------------------------\n",
      " 0.57| 0.45| 1.00| 0.00|\n",
      "---------------------------\n",
      " 0.43| 0.00| 0.45| 0.00|\n",
      "---------------------------\n",
      " 0.43| 0.43| 0.30| 0.16|\n",
      "policy 2: \n",
      "---------------------------\n",
      "  R  |  R  |  R  |     |\n",
      "---------------------------\n",
      "  U  |     |  U  |     |\n",
      "---------------------------\n",
      "  U  |  R  |  U  |  L  |\n",
      "\n",
      "\n",
      "\n",
      "values 3: \n",
      "---------------------------\n",
      " 0.41| 0.80| 1.00| 0.00|\n",
      "---------------------------\n",
      " 0.28| 0.00| 0.80| 0.00|\n",
      "---------------------------\n",
      " 0.28| 0.28| 0.62| 0.17|\n",
      "policy 3: \n",
      "---------------------------\n",
      "  R  |  R  |  R  |     |\n",
      "---------------------------\n",
      "  U  |     |  U  |     |\n",
      "---------------------------\n",
      "  U  |  R  |  U  |  L  |\n",
      "\n",
      "\n",
      "\n",
      "values 4: \n",
      "---------------------------\n",
      " 0.62| 0.80| 1.00| 0.00|\n",
      "---------------------------\n",
      " 0.46| 0.00| 0.80| 0.00|\n",
      "---------------------------\n",
      " 0.31| 0.46| 0.62| 0.46|\n",
      "policy 4: \n",
      "---------------------------\n",
      "  R  |  R  |  R  |     |\n",
      "---------------------------\n",
      "  U  |     |  U  |     |\n",
      "---------------------------\n",
      "  U  |  R  |  U  |  L  |\n",
      "\n",
      "\n",
      "\n"
     ]
    }
   ],
   "source": [
    "# this section is different from policy iteration\n",
    "# repeat until convergence\n",
    "# V[s] = max[a]{ sum[s',r] { p(s',r|s,a)[r + gamma*V[s']] } }\n",
    "iteration=0\n",
    "while True:\n",
    "  iteration+=1\n",
    "  print(\"values %d: \" % iteration)\n",
    "  print_values(V, grid)\n",
    "  print(\"policy %d: \" % iteration)\n",
    "  print_policy(policy, grid)\n",
    "  print(\"\\n\\n\")\n",
    "  \n",
    "  biggest_change = 0\n",
    "  for s in states:\n",
    "    old_v = V[s]\n",
    "\n",
    "    # V(s) only has value if it's not a terminal state\n",
    "    if s in policy:\n",
    "      new_v = float('-inf')\n",
    "      for a in ALL_POSSIBLE_ACTIONS:\n",
    "        grid.set_state(s)\n",
    "        r = grid.move(a)\n",
    "        next_state = grid.current_state()\n",
    "        v = r + GAMMA * V[next_state]\n",
    "        if v > new_v:\n",
    "          new_v = v\n",
    "      V[s] = new_v\n",
    "      biggest_change = max(biggest_change, np.abs(old_v - V[s]))\n",
    "\n",
    "  if biggest_change < SMALL_ENOUGH:\n",
    "    break\n"
   ]
  },
  {
   "cell_type": "code",
   "execution_count": 34,
   "metadata": {},
   "outputs": [
    {
     "name": "stdout",
     "output_type": "stream",
     "text": [
      "values:\n",
      "---------------------------\n",
      " 0.62| 0.80| 1.00| 0.00|\n",
      "---------------------------\n",
      " 0.46| 0.00| 0.80| 0.00|\n",
      "---------------------------\n",
      " 0.31| 0.46| 0.62| 0.46|\n",
      "policy:\n",
      "---------------------------\n",
      "  R  |  R  |  R  |     |\n",
      "---------------------------\n",
      "  U  |     |  U  |     |\n",
      "---------------------------\n",
      "  U  |  R  |  U  |  L  |\n"
     ]
    }
   ],
   "source": [
    "# find a policy that leads to optimal value function\n",
    "for s in policy.keys():\n",
    "  best_a = None\n",
    "  best_value = float('-inf')\n",
    "  # loop through all possible actions to find the best current action\n",
    "  for a in ALL_POSSIBLE_ACTIONS:\n",
    "    grid.set_state(s)\n",
    "    r = grid.move(a)\n",
    "    v = r + GAMMA * V[grid.current_state()]\n",
    "    if v > best_value:\n",
    "      best_value = v\n",
    "      best_a = a\n",
    "  policy[s] = best_a\n",
    "\n",
    "# our goal here is to verify that we get the same answer as with policy iteration\n",
    "print(\"values:\")\n",
    "print_values(V, grid)\n",
    "print(\"policy:\")\n",
    "print_policy(policy, grid)"
   ]
  },
  {
   "cell_type": "code",
   "execution_count": null,
   "metadata": {},
   "outputs": [],
   "source": []
  }
 ],
 "metadata": {
  "kernelspec": {
   "display_name": "Python 3",
   "language": "python",
   "name": "python3"
  },
  "language_info": {
   "codemirror_mode": {
    "name": "ipython",
    "version": 3
   },
   "file_extension": ".py",
   "mimetype": "text/x-python",
   "name": "python",
   "nbconvert_exporter": "python",
   "pygments_lexer": "ipython3",
   "version": "3.7.4"
  }
 },
 "nbformat": 4,
 "nbformat_minor": 1
}

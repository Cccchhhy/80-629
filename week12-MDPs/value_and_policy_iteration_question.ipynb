{
 "cells": [
  {
   "cell_type": "markdown",
   "metadata": {},
   "source": [
    "# Week 12 - Sequential Decision Making I\n",
    "## Value and Policy Iteration Exercices"
   ]
  },
  {
   "cell_type": "markdown",
   "metadata": {},
   "source": [
    "Author: Massimo Caccia massimo.p.caccia@gmail.com <br>\n",
    "\n",
    "The code was Adapted from: https://github.com/lazyprogrammer/machine_learning_examples/tree/master/rl <br>\n",
    "and then from: https://github.com/omerbsezer/Reinforcement_learning_tutorial_with_demo"
   ]
  },
  {
   "cell_type": "markdown",
   "metadata": {},
   "source": [
    "## 0. Preliminaries"
   ]
  },
  {
   "cell_type": "markdown",
   "metadata": {},
   "source": [
    "Before we jump into the value and policy iteration excercies, we will test your comprehension of a Markov Decision Process (MDP). <br>\n",
    "Let's take a simple example: Tic-Tac-Toe."
   ]
  },
  {
   "cell_type": "code",
   "execution_count": 1,
   "metadata": {},
   "outputs": [
    {
     "data": {
      "text/html": [
       "<img src=\"https://bjc.edc.org/bjc-r/img/3-lists/TTT1_img/Three%20States%20of%20TTT.png\"/>"
      ],
      "text/plain": [
       "<IPython.core.display.Image object>"
      ]
     },
     "execution_count": 1,
     "metadata": {},
     "output_type": "execute_result"
    }
   ],
   "source": [
    "from IPython.display import Image\n",
    "from IPython.core.display import HTML \n",
    "Image(url= \"https://bjc.edc.org/bjc-r/img/3-lists/TTT1_img/Three%20States%20of%20TTT.png\")"
   ]
  },
  {
   "cell_type": "markdown",
   "metadata": {},
   "source": [
    "Can you describe the MDP? Specifically, what are the states, actions, transition function and rewards?"
   ]
  },
  {
   "cell_type": "markdown",
   "metadata": {},
   "source": [
    "## 1. Value Iteration"
   ]
  },
  {
   "cell_type": "markdown",
   "metadata": {},
   "source": [
    "The exercises will test your capacity to **complete the value iteration algorithm**.\n",
    "\n",
    "You can find details about the algorithm at slide 46 of the [slide](http://www.cs.toronto.edu/~lcharlin/courses/80-629/slides_rl.pdf) deck. <br>\n",
    "\n",
    "The algorithm will be tested on a simple Gridworld similar to the one presented at slide 12. \n",
    "This Gridworld is however simpler because the MDP is deterministic. In other words there is no uncertainty and a single possible next state given each state-action pair."
   ]
  },
  {
   "cell_type": "markdown",
   "metadata": {},
   "source": [
    "### 1.1 Setup"
   ]
  },
  {
   "cell_type": "code",
   "execution_count": 2,
   "metadata": {},
   "outputs": [],
   "source": [
    "#imports\n",
    "import numpy as np\n",
    "from gridWorldGame import standard_grid, negative_grid, print_values, print_policy"
   ]
  },
  {
   "cell_type": "markdown",
   "metadata": {},
   "source": [
    "Let's set some variables. <br>\n",
    "`SMALL_ENOUGH` is a threshold we will utilize to determine the convergence of value iteration<br>\n",
    "`GAMMA` is the discount factor denoted $\\gamma$ in the slides (see slide 36) <br>\n",
    "`ALL_POSSIBLE_ACTIONS` are the actions you can take in the GridWold, as in slide 12. In this simple grid world, we will have four actions: Up, Down, Right, Left. <br>\n",
    "`NOISE_PROB` defines how stochastic the environement is. It is the probability that the environment takes you where a random action would. "
   ]
  },
  {
   "cell_type": "code",
   "execution_count": 3,
   "metadata": {},
   "outputs": [],
   "source": [
    "SMALL_ENOUGH = 1e-3\n",
    "GAMMA = 0.9\n",
    "ALL_POSSIBLE_ACTIONS = ('U', 'D', 'L', 'R')\n",
    "NOISE_PROB = 0.1"
   ]
  },
  {
   "cell_type": "markdown",
   "metadata": {},
   "source": [
    "Now we will set up a the Gridworld. <br>"
   ]
  },
  {
   "cell_type": "code",
   "execution_count": 4,
   "metadata": {},
   "outputs": [
    {
     "name": "stdout",
     "output_type": "stream",
     "text": [
      "rewards:\n",
      "---------------------------\n",
      " 0.00| 0.00| 0.00| 1.00|\n",
      "---------------------------\n",
      " 0.00| 0.00| 0.00|-1.00|\n",
      "---------------------------\n",
      " 0.00| 0.00| 0.00| 0.00|\n"
     ]
    }
   ],
   "source": [
    "grid = standard_grid(noise_prob=NOISE_PROB)\n",
    "print(\"rewards:\")\n",
    "print_values(grid.rewards, grid)"
   ]
  },
  {
   "cell_type": "markdown",
   "metadata": {},
   "source": [
    "Note that in this grid, not only spot (0,3) and (1,3) are absorbing states, but (1,1) is as well."
   ]
  },
  {
   "cell_type": "markdown",
   "metadata": {},
   "source": [
    "Next, we will define a random inital policy $\\pi$. <br>\n",
    "Remember that a policy maps states to actions $\\pi : S \\rightarrow A$."
   ]
  },
  {
   "cell_type": "code",
   "execution_count": 5,
   "metadata": {},
   "outputs": [
    {
     "name": "stdout",
     "output_type": "stream",
     "text": [
      "initial policy:\n",
      "---------------------------\n",
      "  R  |  D  |  D  | N/A |\n",
      "---------------------------\n",
      "  U  | N/A |  U  | N/A |\n",
      "---------------------------\n",
      "  L  |  U  |  R  |  U  |\n"
     ]
    }
   ],
   "source": [
    "policy = {}\n",
    "for s in grid.actions.keys():\n",
    "  policy[s] = np.random.choice(ALL_POSSIBLE_ACTIONS)\n",
    "\n",
    "# initial policy\n",
    "print(\"initial policy:\")\n",
    "print_policy(policy, grid)"
   ]
  },
  {
   "cell_type": "markdown",
   "metadata": {},
   "source": [
    "Note that there is policy in the absorbing/terminal states"
   ]
  },
  {
   "cell_type": "markdown",
   "metadata": {},
   "source": [
    "Next, we will randomly initialize the value fonction"
   ]
  },
  {
   "cell_type": "code",
   "execution_count": 6,
   "metadata": {},
   "outputs": [
    {
     "name": "stdout",
     "output_type": "stream",
     "text": [
      "---------------------------\n",
      " 0.69| 0.74| 0.03| 0.00|\n",
      "---------------------------\n",
      " 0.54| 0.00| 0.61| 0.00|\n",
      "---------------------------\n",
      " 0.12| 0.24| 0.41| 0.15|\n"
     ]
    }
   ],
   "source": [
    "V = {}\n",
    "states = grid.all_states()\n",
    "for s in states:\n",
    "  if s in grid.actions:\n",
    "    V[s] = np.random.random()\n",
    "  else:\n",
    "    # terminal state\n",
    "    V[s] = 0\n",
    "\n",
    "# initial value for all states in grid\n",
    "print_values(V, grid)"
   ]
  },
  {
   "cell_type": "markdown",
   "metadata": {},
   "source": [
    "Note that we set to Null the values of the terminal states. <br> \n",
    "For the print_values() function to compile, we set them to 0."
   ]
  },
  {
   "cell_type": "markdown",
   "metadata": {},
   "source": [
    "### 1.2 Value iteration algorithms - code completion\n",
    "\n",
    "You will now have to complete the Value iteration algorithm. <br>\n",
    "Remember that, for each iteration, each state s need to have to be update with the formula:\n",
    "\n",
    "$$\n",
    "V(s) = \\underset{a}{max}\\big\\{ \\sum_{s',a}  p(s'|s,a)(r + \\gamma*V(s') \\big\\}\n",
    "$$\n",
    "Note that in the current gridWorld, p(s'|s,a) is deterministic. <br>\n",
    "Also, remember that in value iteration, the policy is implicit. <br> Thus, you don't need to update it at every iteration. <br>\n",
    "Run the algorithm until convergence.\n"
   ]
  },
  {
   "cell_type": "code",
   "execution_count": 7,
   "metadata": {},
   "outputs": [
    {
     "name": "stdout",
     "output_type": "stream",
     "text": [
      "values 1: \n",
      "---------------------------\n",
      " 0.69| 0.74| 0.03| 0.00|\n",
      "---------------------------\n",
      " 0.54| 0.00| 0.61| 0.00|\n",
      "---------------------------\n",
      " 0.12| 0.24| 0.41| 0.15|\n",
      "\n",
      "\n",
      "\n"
     ]
    }
   ],
   "source": [
    "iteration=0\n",
    "while True:\n",
    "  iteration+=1\n",
    "  print(\"values %d: \" % iteration)\n",
    "  print_values(V, grid)\n",
    "#   print(\"policy %d: \" % iteration)\n",
    "#   print_policy(policy, grid)\n",
    "  print(\"\\n\\n\")\n",
    "\n",
    "  biggest_change = 0\n",
    "  \n",
    "  for s in states:\n",
    "    old_v = V[s]\n",
    "\n",
    "    # V(s) only has value if it's not a terminal/absorbing state\n",
    "    if s in policy:\n",
    "        \n",
    "      new_v = float('-inf')\n",
    "      for a in ALL_POSSIBLE_ACTIONS:\n",
    "        grid.set_state(s)\n",
    "        # get reward\n",
    "        r = grid.move(a)\n",
    "        # get s'\n",
    "        next_state = grid.current_state()\n",
    "        \n",
    "        ## Implement This!\n",
    "\n",
    "        ## hints:\n",
    "        ##   - at every iteration, use the biggest_change variable to keep track of the biggest state value change.\n",
    "        ##     Use it to break out of the loop upon convergence.\n",
    "        ##   - compute this V[s] = max[a]{ sum[s',r] { p(s',r|s,a)[r + gamma*V[s']] } }\n",
    "\n",
    "  if biggest_change < SMALL_ENOUGH:\n",
    "    break\n"
   ]
  },
  {
   "cell_type": "markdown",
   "metadata": {},
   "source": [
    "Now that the value function is trained, use it to find the optimal policy."
   ]
  },
  {
   "cell_type": "code",
   "execution_count": 8,
   "metadata": {},
   "outputs": [],
   "source": [
    "deterministic_grid = standard_grid(noise_prob=0.)\n",
    "\n",
    "for s in policy.keys():\n",
    "  best_a = None\n",
    "  best_value = float('-inf')\n",
    "  # loop through all possible actions to find the best current action\n",
    "  for a in ALL_POSSIBLE_ACTIONS:\n",
    "    deterministic_grid.set_state(s)\n",
    "    r = deterministic_grid.move(a)\n",
    "    v = r + GAMMA * V[deterministic_grid.current_state()]\n",
    "    if v > best_value:\n",
    "      best_value = v\n",
    "      best_a = a\n",
    "  policy[s] = best_a"
   ]
  },
  {
   "cell_type": "markdown",
   "metadata": {},
   "source": [
    "Now print your policy and make sure it leads to the upper-right corner which is the termnial state returning the most rewards."
   ]
  },
  {
   "cell_type": "code",
   "execution_count": 9,
   "metadata": {},
   "outputs": [
    {
     "name": "stdout",
     "output_type": "stream",
     "text": [
      "values:\n",
      "---------------------------\n",
      " 0.69| 0.74| 0.03| 0.00|\n",
      "---------------------------\n",
      " 0.54| 0.00| 0.61| 0.00|\n",
      "---------------------------\n",
      " 0.12| 0.24| 0.41| 0.15|\n",
      "policy:\n",
      "---------------------------\n",
      "  R  |  U  |  R  | N/A |\n",
      "---------------------------\n",
      "  U  | N/A |  L  | N/A |\n",
      "---------------------------\n",
      "  U  |  R  |  U  |  L  |\n"
     ]
    }
   ],
   "source": [
    "print(\"values:\")\n",
    "print_values(V, grid)\n",
    "print(\"policy:\")\n",
    "print_policy(policy, grid)"
   ]
  },
  {
   "cell_type": "markdown",
   "metadata": {},
   "source": [
    "## 2. Policy Iteration"
   ]
  },
  {
   "cell_type": "markdown",
   "metadata": {},
   "source": [
    "You will be tested on your capacity to **complete the poliy iteration algorithm**. <br>\n",
    "You can find details about the algorithm at slide 47 of the slide deck. <br>\n",
    "The algorithm will be tested on a simple Gridworld similar to the one presented at slide 12. <br>\n",
    "This Gridworld is however simpler because the MDP is deterministic. <br>"
   ]
  },
  {
   "cell_type": "markdown",
   "metadata": {},
   "source": [
    "First we will define a random inital policy. <br>\n",
    "Remember that a policy maps states to actions."
   ]
  },
  {
   "cell_type": "code",
   "execution_count": 10,
   "metadata": {},
   "outputs": [
    {
     "name": "stdout",
     "output_type": "stream",
     "text": [
      "initial policy:\n",
      "---------------------------\n",
      "  U  |  D  |  D  | N/A |\n",
      "---------------------------\n",
      "  D  | N/A |  U  | N/A |\n",
      "---------------------------\n",
      "  R  |  U  |  D  |  U  |\n"
     ]
    }
   ],
   "source": [
    "policy = {}\n",
    "for s in grid.actions.keys():\n",
    "  policy[s] = np.random.choice(ALL_POSSIBLE_ACTIONS)\n",
    "\n",
    "# initial policy\n",
    "print(\"initial policy:\")\n",
    "print_policy(policy, grid)"
   ]
  },
  {
   "cell_type": "markdown",
   "metadata": {},
   "source": [
    "Next, we will randomly initialize the value fonction"
   ]
  },
  {
   "cell_type": "code",
   "execution_count": 11,
   "metadata": {},
   "outputs": [
    {
     "name": "stdout",
     "output_type": "stream",
     "text": [
      "---------------------------\n",
      " 0.02| 0.48| 0.04| 0.00|\n",
      "---------------------------\n",
      " 0.91| 0.00| 0.64| 0.00|\n",
      "---------------------------\n",
      " 0.15| 0.60| 1.00| 0.25|\n"
     ]
    }
   ],
   "source": [
    "# initialize V(s) - value function\n",
    "V = {}\n",
    "states = grid.all_states()\n",
    "for s in states:\n",
    "  if s in grid.actions:\n",
    "    V[s] = np.random.random()\n",
    "  else:\n",
    "    # terminal state\n",
    "    V[s] = 0\n",
    "\n",
    "# initial value for all states in grid\n",
    "print_values(V, grid)"
   ]
  },
  {
   "cell_type": "markdown",
   "metadata": {},
   "source": [
    "Note that we set to Null the values of the terminal states. <br> \n",
    "For the print_values() function to compile, we set them to 0."
   ]
  },
  {
   "cell_type": "markdown",
   "metadata": {},
   "source": [
    "### 2.2 Policy iteration - code completion\n",
    "\n",
    "You will now have to complete the Policy iteration algorithm. <br>\n",
    "Remember that the algorithm works in two phases. <br>\n",
    "First, in the *policy evaluation* phase, the value function is update with the formula:\n",
    "\n",
    "$$\n",
    "V^\\pi(s) =  \\sum_{s',a}  p(s'|s,\\pi(s))(r + \\gamma*V^\\pi(s') \n",
    "$$\n",
    "This part of the algorithm is already coded for you. <br>\n",
    "\n",
    "Second, in the *policy improvement* step, the policy is updated with the formula:\n",
    "\n",
    "$$\n",
    "\\pi'(s) = \\underset{a}{arg max}\\big\\{ \\sum_{s',a}  p(s'|s,\\pi(s))(r + \\gamma*V^\\pi(s') \\big\\}\n",
    "$$\n",
    "\n",
    "This is the part of code you will have to complete. <br>\n",
    "\n",
    "Note that in the current gridWorld, p(s'|s,a) is deterministic. <br>\n",
    "Run the algorithm until convergence."
   ]
  },
  {
   "cell_type": "code",
   "execution_count": 12,
   "metadata": {},
   "outputs": [
    {
     "ename": "IndentationError",
     "evalue": "expected an indented block (<ipython-input-12-b8c398e3b83e>, line 47)",
     "output_type": "error",
     "traceback": [
      "\u001b[0;36m  File \u001b[0;32m\"<ipython-input-12-b8c398e3b83e>\"\u001b[0;36m, line \u001b[0;32m47\u001b[0m\n\u001b[0;31m    if is_policy_converged:\u001b[0m\n\u001b[0m    ^\u001b[0m\n\u001b[0;31mIndentationError\u001b[0m\u001b[0;31m:\u001b[0m expected an indented block\n"
     ]
    }
   ],
   "source": [
    "iteration=0\n",
    "# repeat until convergence\n",
    "# when policy does not change, it will finish\n",
    "while True:\n",
    "  iteration+=1\n",
    "  print(\"values %d: \" % iteration)\n",
    "  print_values(V, grid)\n",
    "  print(\"policy %d: \" % iteration)\n",
    "  print_policy(policy, grid)\n",
    "  print('\\n\\n')\n",
    "\n",
    "  # policy evaluation step\n",
    "  while True:\n",
    "    biggest_change = 0\n",
    "    for s in states:\n",
    "      old_v = V[s]\n",
    "\n",
    "      # V(s) only has value if it's not a terminal state\n",
    "      if s in policy:\n",
    "        a = policy[s]\n",
    "        grid.set_state(s)\n",
    "        r = grid.move(a) # reward\n",
    "        next_state = grid.current_state() # s' \n",
    "        V[s] = r + GAMMA * V[next_state]\n",
    "        biggest_change = max(biggest_change, np.abs(old_v - V[s]))\n",
    "\n",
    "    if biggest_change < SMALL_ENOUGH:\n",
    "      break\n",
    "\n",
    "  # policy improvement step\n",
    "  is_policy_converged = True\n",
    "  for s in states:\n",
    "    if s in policy:\n",
    "      old_a = policy[s]\n",
    "      new_a = None\n",
    "      best_value = float('-inf')\n",
    "      # loop through all possible actions to find the best current action\n",
    "      for a in ALL_POSSIBLE_ACTIONS:\n",
    "        \n",
    "        ## Implement This!\n",
    "        \n",
    "        ## Hint:\n",
    "        ##   - keep track of the changes to the policy with the variable is_policy_converged.\n",
    "        ##     Use it to break the loop upon convergence\n",
    "\n",
    "\n",
    "  if is_policy_converged:\n",
    "    break"
   ]
  },
  {
   "cell_type": "markdown",
   "metadata": {},
   "source": [
    "Now print your policy and make sure it leads to the upper-right corner which is the termnial state returning the most rewards."
   ]
  },
  {
   "cell_type": "code",
   "execution_count": null,
   "metadata": {},
   "outputs": [],
   "source": [
    "print(\"final values:\")\n",
    "print_values(V, grid)\n",
    "print(\"final policy:\")\n",
    "print_policy(policy, grid)"
   ]
  }
 ],
 "metadata": {
  "kernelspec": {
   "display_name": "Python 3",
   "language": "python",
   "name": "python3"
  },
  "language_info": {
   "codemirror_mode": {
    "name": "ipython",
    "version": 3
   },
   "file_extension": ".py",
   "mimetype": "text/x-python",
   "name": "python",
   "nbconvert_exporter": "python",
   "pygments_lexer": "ipython3",
   "version": "3.7.4"
  }
 },
 "nbformat": 4,
 "nbformat_minor": 1
}

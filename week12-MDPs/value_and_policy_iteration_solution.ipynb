{
 "cells": [
  {
   "cell_type": "markdown",
   "metadata": {},
   "source": [
    "# Week 12 - Sequential Decision Making I\n",
    "## Value and Policy Iteration Solutions"
   ]
  },
  {
   "cell_type": "markdown",
   "metadata": {},
   "source": [
    "Author: Massimo Caccia massimo.p.caccia@gmail.com <br>\n",
    "\n",
    "The code was Adapted from: https://github.com/lazyprogrammer/machine_learning_examples/tree/master/rl <br>\n",
    "and then from: https://github.com/omerbsezer/Reinforcement_learning_tutorial_with_demo"
   ]
  },
  {
   "cell_type": "markdown",
   "metadata": {},
   "source": [
    "## 0. Preliminaries"
   ]
  },
  {
   "cell_type": "markdown",
   "metadata": {},
   "source": [
    "Before we jump into the value and policy iteration excercies, we will test your comprehension of a Markov Decision Process (MDP). <br>\n",
    "Let's take a simple example: Tic-Tac-Toe."
   ]
  },
  {
   "cell_type": "code",
   "execution_count": 1,
   "metadata": {},
   "outputs": [
    {
     "data": {
      "text/html": [
       "<img src=\"https://bjc.edc.org/bjc-r/img/3-lists/TTT1_img/Three%20States%20of%20TTT.png\"/>"
      ],
      "text/plain": [
       "<IPython.core.display.Image object>"
      ]
     },
     "execution_count": 1,
     "metadata": {},
     "output_type": "execute_result"
    }
   ],
   "source": [
    "from IPython.display import Image\n",
    "from IPython.core.display import HTML \n",
    "Image(url= \"https://bjc.edc.org/bjc-r/img/3-lists/TTT1_img/Three%20States%20of%20TTT.png\")"
   ]
  },
  {
   "cell_type": "markdown",
   "metadata": {},
   "source": [
    "Can you describe the MDP? Specifically, what are the states, actions, transition function and rewards?"
   ]
  },
  {
   "cell_type": "markdown",
   "metadata": {},
   "source": [
    "The **state space** is a 3x3 Matrix or a vector of length 9 that indicates if a particular spot is empty, taken by X or taken by O. <br>\n",
    "The **actions** are on which of the 9 spot you can play (so there is 9 possible actions). Not that as the game evolves, some actions will become unavailable. <br>\n",
    "The **transition function** is dictated by your opponent's strategy. <br>\n",
    "An example of a **reward function** could return +1 if you win, -1 if you lose, and 0 for a draw."
   ]
  },
  {
   "cell_type": "markdown",
   "metadata": {},
   "source": [
    "## 1. Value Iteration"
   ]
  },
  {
   "cell_type": "markdown",
   "metadata": {},
   "source": [
    "The exercises will test your capacity to **complete the value iteration algorithm**.\n",
    "\n",
    "You can find details about the algorithm at slide 46 of the [slide](http://www.cs.toronto.edu/~lcharlin/courses/80-629/slides_rl.pdf) deck. <br>\n",
    "\n",
    "The algorithm will be tested on a simple Gridworld similar to the one presented at slide 12. \n",
    "This Gridworld is however simpler because the MDP is deterministic. In other words there is no uncertainty and a single possible next state given each state-action pair.\n"
   ]
  },
  {
   "cell_type": "markdown",
   "metadata": {},
   "source": [
    "### 1.1 Setup"
   ]
  },
  {
   "cell_type": "code",
   "execution_count": 2,
   "metadata": {},
   "outputs": [],
   "source": [
    "#imports\n",
    "import numpy as np\n",
    "from gridWorldGame import standard_grid, negative_grid, print_values, print_policy"
   ]
  },
  {
   "cell_type": "markdown",
   "metadata": {},
   "source": [
    "Let's set some variables. <br>\n",
    "`SMALL_ENOUGH` is a threshold we will utilize to determine the convergence of value iteration<br>\n",
    "`GAMMA` is the discount factor denoted $\\gamma$ in the slides (see slide 36) <br>\n",
    "`ALL_POSSIBLE_ACTIONS` are the actions you can take in the GridWold, as in slide 12. In this simple grid world, we will have four actions: Up, Down, Right, Left. <br>\n",
    "`NOISE_PROB` defines how stochastic the environement is. It is the probability that the environment takes you where a random action would. "
   ]
  },
  {
   "cell_type": "code",
   "execution_count": 3,
   "metadata": {},
   "outputs": [],
   "source": [
    "SMALL_ENOUGH = 1e-3\n",
    "GAMMA = 0.9\n",
    "ALL_POSSIBLE_ACTIONS = ('U', 'D', 'L', 'R')\n",
    "NOISE_PROB = 0.1"
   ]
  },
  {
   "cell_type": "markdown",
   "metadata": {},
   "source": [
    "Now we will set up a the Gridworld. <br>\n"
   ]
  },
  {
   "cell_type": "code",
   "execution_count": 4,
   "metadata": {},
   "outputs": [
    {
     "name": "stdout",
     "output_type": "stream",
     "text": [
      "rewards:\n",
      "---------------------------\n",
      " 0.00| 0.00| 0.00| 1.00|\n",
      "---------------------------\n",
      " 0.00| 0.00| 0.00|-1.00|\n",
      "---------------------------\n",
      " 0.00| 0.00| 0.00| 0.00|\n"
     ]
    }
   ],
   "source": [
    "grid = standard_grid(noise_prob=NOISE_PROB)\n",
    "print(\"rewards:\")\n",
    "print_values(grid.rewards, grid)"
   ]
  },
  {
   "cell_type": "markdown",
   "metadata": {},
   "source": [
    "Note that in this grid, not only spot (1,4) and (2,4) are absorbing states, but (2,2) is as well."
   ]
  },
  {
   "cell_type": "markdown",
   "metadata": {},
   "source": [
    "Next, we will define a random inital policy $\\pi$. <br>\n",
    "Remember that a policy maps states to actions $\\pi : S \\rightarrow A$."
   ]
  },
  {
   "cell_type": "code",
   "execution_count": 5,
   "metadata": {},
   "outputs": [
    {
     "name": "stdout",
     "output_type": "stream",
     "text": [
      "initial policy:\n",
      "---------------------------\n",
      "  R  |  D  |  R  | N/A |\n",
      "---------------------------\n",
      "  L  | N/A |  D  | N/A |\n",
      "---------------------------\n",
      "  U  |  R  |  D  |  U  |\n"
     ]
    }
   ],
   "source": [
    "policy = {}\n",
    "for s in grid.actions.keys():\n",
    "  policy[s] = np.random.choice(ALL_POSSIBLE_ACTIONS)\n",
    "\n",
    "# initial policy\n",
    "print(\"initial policy:\")\n",
    "print_policy(policy, grid)"
   ]
  },
  {
   "cell_type": "markdown",
   "metadata": {},
   "source": [
    "Note that there is policy in the absorbing/terminal states"
   ]
  },
  {
   "cell_type": "markdown",
   "metadata": {},
   "source": [
    "Next, we will randomly initialize the value fonction"
   ]
  },
  {
   "cell_type": "code",
   "execution_count": 6,
   "metadata": {},
   "outputs": [
    {
     "name": "stdout",
     "output_type": "stream",
     "text": [
      "---------------------------\n",
      " 0.87| 0.89| 0.17| 0.00|\n",
      "---------------------------\n",
      " 0.94| 0.00| 0.63| 0.00|\n",
      "---------------------------\n",
      " 0.49| 0.31| 0.75| 0.64|\n"
     ]
    }
   ],
   "source": [
    "V = {}\n",
    "states = grid.all_states()\n",
    "for s in states:\n",
    "  # V[s] = 0\n",
    "  if s in grid.actions:\n",
    "    V[s] = np.random.random()\n",
    "  else:\n",
    "    # terminal state\n",
    "    V[s] = 0\n",
    "\n",
    "# initial value for all states in grid\n",
    "print_values(V, grid)"
   ]
  },
  {
   "cell_type": "markdown",
   "metadata": {},
   "source": [
    "Note that we set to Null the values of the terminal states. <br> \n",
    "For the print_values() function to compile, we set them to 0."
   ]
  },
  {
   "cell_type": "markdown",
   "metadata": {},
   "source": [
    "### 1.2 Value iteration algorithms - code completion\n",
    "\n",
    "You will now have to complete the Value iteration algorithm. <br>\n",
    "Remember that, for each iteration, each state s need to have to be update with the formula:\n",
    "\n",
    "$$\n",
    "V(s) = \\underset{a}{max}\\big\\{ \\sum_{s',a}  p(s'|s,a)(r + \\gamma*V(s') \\big\\}\n",
    "$$\n",
    "Note that in the current gridWorld, p(s'|s,a) is deterministic. <br>\n",
    "Also, remember that in value iteration, the policy is implicit. <br> Thus, you don't need to update it at every iteration. <br>\n",
    "Run the algorithm until convergence."
   ]
  },
  {
   "cell_type": "code",
   "execution_count": 7,
   "metadata": {
    "scrolled": true
   },
   "outputs": [
    {
     "name": "stdout",
     "output_type": "stream",
     "text": [
      "values 1: \n",
      "---------------------------\n",
      " 0.87| 0.89| 0.17| 0.00|\n",
      "---------------------------\n",
      " 0.94| 0.00| 0.63| 0.00|\n",
      "---------------------------\n",
      " 0.49| 0.31| 0.75| 0.64|\n",
      "\n",
      "\n",
      "\n",
      "values 2: \n",
      "---------------------------\n",
      " 0.85| 0.80| 1.00| 0.00|\n",
      "---------------------------\n",
      " 0.85| 0.00| 0.68| 0.00|\n",
      "---------------------------\n",
      " 0.85| 0.68| 0.68| 0.68|\n",
      "\n",
      "\n",
      "\n",
      "values 3: \n",
      "---------------------------\n",
      " 0.81| 0.90| 1.00| 0.00|\n",
      "---------------------------\n",
      " 0.76| 0.00| 0.90| 0.00|\n",
      "---------------------------\n",
      " 0.76| 0.76| 0.81| 0.61|\n",
      "\n",
      "\n",
      "\n",
      "values 4: \n",
      "---------------------------\n",
      " 0.81| 0.90| 1.00| 0.00|\n",
      "---------------------------\n",
      " 0.73| 0.00| 0.90| 0.00|\n",
      "---------------------------\n",
      " 0.69| 0.69| 0.81| 0.73|\n",
      "\n",
      "\n",
      "\n",
      "values 5: \n",
      "---------------------------\n",
      " 0.81| 0.90| 1.00| 0.00|\n",
      "---------------------------\n",
      " 0.73| 0.00| 0.90| 0.00|\n",
      "---------------------------\n",
      " 0.66| 0.73| 0.81| 0.73|\n",
      "\n",
      "\n",
      "\n"
     ]
    }
   ],
   "source": [
    "iteration=0\n",
    "while True:\n",
    "  iteration+=1\n",
    "  print(\"values %d: \" % iteration)\n",
    "  print_values(V, grid)\n",
    "#   print(\"policy %d: \" % iteration)\n",
    "#   print_policy(policy, grid)\n",
    "  print(\"\\n\\n\")\n",
    "  \n",
    "  biggest_change = 0\n",
    "  for s in states:\n",
    "    old_v = V[s]\n",
    "\n",
    "    # V(s) only has value if it's not a terminal state\n",
    "    if s in policy:\n",
    "      new_v = float('-inf')\n",
    "      for a in ALL_POSSIBLE_ACTIONS:\n",
    "        grid.set_state(s)\n",
    "        r = grid.move(a)\n",
    "        next_state = grid.current_state()\n",
    "        v = r + GAMMA * V[next_state]\n",
    "        if v > new_v:\n",
    "          new_v = v\n",
    "      V[s] = new_v\n",
    "      biggest_change = max(biggest_change, np.abs(old_v - V[s]))\n",
    "\n",
    "  if biggest_change < SMALL_ENOUGH:\n",
    "    break\n"
   ]
  },
  {
   "cell_type": "markdown",
   "metadata": {},
   "source": [
    "Now that the value function is trained, use it to find the optimal policy."
   ]
  },
  {
   "cell_type": "code",
   "execution_count": 8,
   "metadata": {},
   "outputs": [],
   "source": [
    "deterministic_grid = standard_grid(noise_prob=0.)\n",
    "\n",
    "for s in policy.keys():\n",
    "  best_a = None\n",
    "  best_value = float('-inf')\n",
    "  # loop through all possible actions to find the best current action\n",
    "  for a in ALL_POSSIBLE_ACTIONS:\n",
    "    deterministic_grid.set_state(s)\n",
    "    r = deterministic_grid.move(a)\n",
    "    v = r + GAMMA * V[deterministic_grid.current_state()]\n",
    "    if v > best_value:\n",
    "      best_value = v\n",
    "      best_a = a\n",
    "  policy[s] = best_a"
   ]
  },
  {
   "cell_type": "markdown",
   "metadata": {},
   "source": [
    "Now print your policy and make sure it leads to the upper-right corner which is the termnial state returning the most rewards."
   ]
  },
  {
   "cell_type": "code",
   "execution_count": 9,
   "metadata": {},
   "outputs": [
    {
     "name": "stdout",
     "output_type": "stream",
     "text": [
      "values:\n",
      "---------------------------\n",
      " 0.81| 0.90| 1.00| 0.00|\n",
      "---------------------------\n",
      " 0.73| 0.00| 0.90| 0.00|\n",
      "---------------------------\n",
      " 0.66| 0.73| 0.81| 0.73|\n",
      "\n",
      "policy:\n",
      "---------------------------\n",
      "  R  |  R  |  R  | N/A |\n",
      "---------------------------\n",
      "  U  | N/A |  U  | N/A |\n",
      "---------------------------\n",
      "  U  |  R  |  U  |  L  |\n"
     ]
    }
   ],
   "source": [
    "print(\"values:\")\n",
    "print_values(V, grid)\n",
    "print(\"\\npolicy:\")\n",
    "print_policy(policy, grid)"
   ]
  },
  {
   "cell_type": "markdown",
   "metadata": {},
   "source": [
    "## 2. Policy Iteration"
   ]
  },
  {
   "cell_type": "markdown",
   "metadata": {},
   "source": [
    "You will be tested on your capacity to **complete the poliy iteration algorithm**. <br>\n",
    "You can find details about the algorithm at slide 47 of the slide deck. <br>\n",
    "The algorithm will be tested on a simple Gridworld similar to the one presented at slide 12. <br>\n",
    "This Gridworld is however simpler because the MDP is deterministic. <br>"
   ]
  },
  {
   "cell_type": "markdown",
   "metadata": {},
   "source": [
    "First we will define a random inital policy. <br>\n",
    "Remember that a policy maps states to actions."
   ]
  },
  {
   "cell_type": "code",
   "execution_count": 10,
   "metadata": {},
   "outputs": [
    {
     "name": "stdout",
     "output_type": "stream",
     "text": [
      "initial policy:\n",
      "---------------------------\n",
      "  U  |  D  |  U  | N/A |\n",
      "---------------------------\n",
      "  D  | N/A |  R  | N/A |\n",
      "---------------------------\n",
      "  U  |  L  |  D  |  L  |\n"
     ]
    }
   ],
   "source": [
    "policy = {}\n",
    "for s in grid.actions.keys():\n",
    "  policy[s] = np.random.choice(ALL_POSSIBLE_ACTIONS)\n",
    "\n",
    "# initial policy\n",
    "print(\"initial policy:\")\n",
    "print_policy(policy, grid)"
   ]
  },
  {
   "cell_type": "markdown",
   "metadata": {},
   "source": [
    "Next, we will randomly initialize the value fonction"
   ]
  },
  {
   "cell_type": "code",
   "execution_count": 11,
   "metadata": {},
   "outputs": [
    {
     "name": "stdout",
     "output_type": "stream",
     "text": [
      "---------------------------\n",
      " 0.05| 0.37| 0.97| 0.00|\n",
      "---------------------------\n",
      " 0.15| 0.00| 0.91| 0.00|\n",
      "---------------------------\n",
      " 0.34| 0.78| 0.50| 0.76|\n"
     ]
    }
   ],
   "source": [
    "# initialize V(s) - value function\n",
    "V = {}\n",
    "states = grid.all_states()\n",
    "for s in states:\n",
    "  if s in grid.actions:\n",
    "    V[s] = np.random.random()\n",
    "  else:\n",
    "    # terminal state\n",
    "    V[s] = 0\n",
    "\n",
    "# initial value for all states in grid\n",
    "print_values(V, grid)"
   ]
  },
  {
   "cell_type": "markdown",
   "metadata": {},
   "source": [
    "Note that we set to Null the values of the terminal states. <br> \n",
    "For the print_values() function to compile, we set them to 0."
   ]
  },
  {
   "cell_type": "markdown",
   "metadata": {},
   "source": [
    "### 2.2 Policy iteration - code completion\n",
    "\n",
    "You will now have to complete the Policy iteration algorithm. <br>\n",
    "Remember that the algorithm works in two phases. <br>\n",
    "First, in the *policy evaluation* phase, the value function is update with the formula:\n",
    "\n",
    "$$\n",
    "V^\\pi(s) =  \\sum_{s',a}  p(s'|s,\\pi(s))(r + \\gamma*V^\\pi(s') \n",
    "$$\n",
    "This part of the algorithm is already coded for you. <br>\n",
    "\n",
    "Second, in the *policy improvement* step, the policy is updated with the formula:\n",
    "\n",
    "$$\n",
    "\\pi'(s) = \\underset{a}{arg max}\\big\\{ \\sum_{s',a}  p(s'|s,\\pi(s))(r + \\gamma*V^\\pi(s') \\big\\}\n",
    "$$\n",
    "\n",
    "This is the part of code you will have to complete. <br>\n",
    "\n",
    "Note that in the current gridWorld, p(s'|s,a) is deterministic. <br>\n",
    "Run the algorithm until convergence."
   ]
  },
  {
   "cell_type": "code",
   "execution_count": 12,
   "metadata": {
    "scrolled": true
   },
   "outputs": [
    {
     "name": "stdout",
     "output_type": "stream",
     "text": [
      "values 1: \n",
      "---------------------------\n",
      " 0.05| 0.37| 0.97| 0.00|\n",
      "---------------------------\n",
      " 0.15| 0.00| 0.91| 0.00|\n",
      "---------------------------\n",
      " 0.34| 0.78| 0.50| 0.76|\n",
      "policy 1: \n",
      "---------------------------\n",
      "  U  |  D  |  U  | N/A |\n",
      "---------------------------\n",
      "  D  | N/A |  R  | N/A |\n",
      "---------------------------\n",
      "  U  |  L  |  D  |  L  |\n",
      "\n",
      "\n",
      "\n",
      "values 2: \n",
      "---------------------------\n",
      "-0.01|-0.01|-0.01| 0.00|\n",
      "---------------------------\n",
      "-0.00| 0.00|-1.00| 0.00|\n",
      "---------------------------\n",
      "-0.00|-0.00|-0.00|-0.00|\n",
      "policy 2: \n",
      "---------------------------\n",
      "  D  |  U  |  U  | N/A |\n",
      "---------------------------\n",
      "  L  | N/A |  D  | N/A |\n",
      "---------------------------\n",
      "  U  |  R  |  D  |  L  |\n",
      "\n",
      "\n",
      "\n",
      "values 3: \n",
      "---------------------------\n",
      "-0.00|-0.00|-0.00| 0.00|\n",
      "---------------------------\n",
      "-0.00| 0.00|-0.00| 0.00|\n",
      "---------------------------\n",
      "-0.00|-0.00|-0.00|-0.00|\n",
      "policy 3: \n",
      "---------------------------\n",
      "  D  |  L  |  R  | N/A |\n",
      "---------------------------\n",
      "  L  | N/A |  D  | N/A |\n",
      "---------------------------\n",
      "  D  |  U  |  U  |  D  |\n",
      "\n",
      "\n",
      "\n",
      "values 4: \n",
      "---------------------------\n",
      "-0.00|-0.00| 1.00| 0.00|\n",
      "---------------------------\n",
      "-0.00| 0.00|-0.00| 0.00|\n",
      "---------------------------\n",
      "-0.00|-0.00|-0.00|-0.00|\n",
      "policy 4: \n",
      "---------------------------\n",
      "  U  |  L  |  R  | N/A |\n",
      "---------------------------\n",
      "  U  | N/A |  U  | N/A |\n",
      "---------------------------\n",
      "  R  |  R  |  D  |  L  |\n",
      "\n",
      "\n",
      "\n",
      "values 5: \n",
      "---------------------------\n",
      "-0.00|-0.00| 1.00| 0.00|\n",
      "---------------------------\n",
      "-0.00| 0.00| 0.90| 0.00|\n",
      "---------------------------\n",
      "-0.00|-0.00|-0.00|-0.00|\n",
      "policy 5: \n",
      "---------------------------\n",
      "  U  |  R  |  R  | N/A |\n",
      "---------------------------\n",
      "  D  | N/A |  U  | N/A |\n",
      "---------------------------\n",
      "  D  |  U  |  U  |  D  |\n",
      "\n",
      "\n",
      "\n",
      "values 6: \n",
      "---------------------------\n",
      "-0.00| 0.90| 1.00| 0.00|\n",
      "---------------------------\n",
      "-0.00| 0.00| 0.90| 0.00|\n",
      "---------------------------\n",
      "-0.00|-0.00| 0.81|-0.00|\n",
      "policy 6: \n",
      "---------------------------\n",
      "  R  |  R  |  R  | N/A |\n",
      "---------------------------\n",
      "  R  | N/A |  U  | N/A |\n",
      "---------------------------\n",
      "  U  |  R  |  D  |  L  |\n",
      "\n",
      "\n",
      "\n",
      "values 7: \n",
      "---------------------------\n",
      " 0.81| 0.90| 1.00| 0.00|\n",
      "---------------------------\n",
      " 0.01| 0.00| 0.90| 0.00|\n",
      "---------------------------\n",
      " 0.01| 0.01| 0.01| 0.01|\n",
      "policy 7: \n",
      "---------------------------\n",
      "  R  |  R  |  R  | N/A |\n",
      "---------------------------\n",
      "  U  | N/A |  U  | N/A |\n",
      "---------------------------\n",
      "  U  |  L  |  U  |  D  |\n",
      "\n",
      "\n",
      "\n",
      "values 8: \n",
      "---------------------------\n",
      " 0.81| 0.90| 1.00| 0.00|\n",
      "---------------------------\n",
      " 0.73| 0.00| 0.90| 0.00|\n",
      "---------------------------\n",
      " 0.66| 0.59| 0.81| 0.01|\n",
      "policy 8: \n",
      "---------------------------\n",
      "  R  |  R  |  R  | N/A |\n",
      "---------------------------\n",
      "  U  | N/A |  U  | N/A |\n",
      "---------------------------\n",
      "  U  |  R  |  U  |  L  |\n",
      "\n",
      "\n",
      "\n"
     ]
    }
   ],
   "source": [
    "iteration=0\n",
    "# repeat until convergence\n",
    "# when policy does not change, it will finish\n",
    "while True:\n",
    "  iteration+=1\n",
    "  print(\"values %d: \" % iteration)\n",
    "  print_values(V, grid)\n",
    "  print(\"policy %d: \" % iteration)\n",
    "  print_policy(policy, grid)\n",
    "  print('\\n\\n')\n",
    "\n",
    "  # policy evaluation step\n",
    "  while True:\n",
    "    biggest_change = 0\n",
    "    for s in states:\n",
    "      old_v = V[s]\n",
    "\n",
    "      # V(s) only has value if it's not a terminal state\n",
    "      if s in policy:\n",
    "        a = policy[s]\n",
    "        grid.set_state(s)\n",
    "        r = grid.move(a) # reward\n",
    "        next_state = grid.current_state() # s' \n",
    "        V[s] = r + GAMMA * V[next_state]\n",
    "        biggest_change = max(biggest_change, np.abs(old_v - V[s]))\n",
    "\n",
    "    if biggest_change < SMALL_ENOUGH:\n",
    "      break\n",
    "\n",
    "  # policy improvement step\n",
    "  is_policy_converged = True\n",
    "  for s in states:\n",
    "    if s in policy:\n",
    "      old_a = policy[s]\n",
    "      new_a = None\n",
    "      best_value = float('-inf')\n",
    "      # loop through all possible actions to find the best current action\n",
    "      for a in ALL_POSSIBLE_ACTIONS:\n",
    "        grid.set_state(s)\n",
    "        r = grid.move(a)\n",
    "        next_state = grid.current_state() \n",
    "        v = r + GAMMA * V[next_state]\n",
    "        if v > best_value:\n",
    "          best_value = v\n",
    "          new_a = a\n",
    "      policy[s] = new_a\n",
    "      if new_a != old_a:\n",
    "        is_policy_converged = False\n",
    "\n",
    "  if is_policy_converged:\n",
    "    break"
   ]
  },
  {
   "cell_type": "markdown",
   "metadata": {},
   "source": [
    "Now print your policy and make sure it leads to the upper-right corner which is the termnial state returning the most rewards."
   ]
  },
  {
   "cell_type": "code",
   "execution_count": 13,
   "metadata": {},
   "outputs": [
    {
     "name": "stdout",
     "output_type": "stream",
     "text": [
      "final values:\n",
      "---------------------------\n",
      " 0.81| 0.90| 1.00| 0.00|\n",
      "---------------------------\n",
      " 0.73| 0.00| 0.90| 0.00|\n",
      "---------------------------\n",
      " 0.66| 0.73| 0.81| 0.73|\n",
      "final policy:\n",
      "---------------------------\n",
      "  R  |  R  |  R  | N/A |\n",
      "---------------------------\n",
      "  U  | N/A |  U  | N/A |\n",
      "---------------------------\n",
      "  U  |  R  |  U  |  L  |\n"
     ]
    }
   ],
   "source": [
    "print(\"final values:\")\n",
    "print_values(V, grid)\n",
    "print(\"final policy:\")\n",
    "print_policy(policy, grid)"
   ]
  },
  {
   "cell_type": "code",
   "execution_count": null,
   "metadata": {},
   "outputs": [],
   "source": []
  }
 ],
 "metadata": {
  "kernelspec": {
   "display_name": "Python 3",
   "language": "python",
   "name": "python3"
  },
  "language_info": {
   "codemirror_mode": {
    "name": "ipython",
    "version": 3
   },
   "file_extension": ".py",
   "mimetype": "text/x-python",
   "name": "python",
   "nbconvert_exporter": "python",
   "pygments_lexer": "ipython3",
   "version": "3.7.4"
  }
 },
 "nbformat": 4,
 "nbformat_minor": 1
}

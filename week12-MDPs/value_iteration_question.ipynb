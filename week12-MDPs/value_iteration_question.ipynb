{
 "cells": [
  {
   "cell_type": "markdown",
   "metadata": {},
   "source": [
    "# Week 12 - Sequential Decision Making I\n",
    "## 1. Value Iteration"
   ]
  },
  {
   "cell_type": "markdown",
   "metadata": {},
   "source": [
    "Author: Massimo Caccia massimo.p.caccia@gmail.com <br>\n",
    "\n",
    "The code was Adapted from: https://github.com/lazyprogrammer/machine_learning_examples/tree/master/rl <br>\n",
    "and then from: https://github.com/omerbsezer/Reinforcement_learning_tutorial_with_demo"
   ]
  },
  {
   "cell_type": "markdown",
   "metadata": {},
   "source": [
    "The exercises will test your capacity to **complete the value iteration algorithm**.\n",
    "\n",
    "You can find details about the algorithm at slide 46 of the [slide](http://www.cs.toronto.edu/~lcharlin/courses/80-629/slides_rl.pdf) deck. <br>\n",
    "\n",
    "The algorithm will be tested on a simple Gridworld similar to the one presented at slide 12. \n",
    "This Gridworld is however simpler because the MDP is deterministic. In other words there is no uncertainty and a single possible next state given each state-action pair.\n",
    "\n",
    "\n"
   ]
  },
  {
   "cell_type": "markdown",
   "metadata": {},
   "source": [
    "### 1.1 Setup"
   ]
  },
  {
   "cell_type": "code",
   "execution_count": 1,
   "metadata": {},
   "outputs": [],
   "source": [
    "#imports\n",
    "import numpy as np\n",
    "from gridWorldGame import standard_grid, negative_grid, print_values, print_policy"
   ]
  },
  {
   "cell_type": "markdown",
   "metadata": {},
   "source": [
    "Let's set some variables. <br>\n",
    "`SMALL_ENOUGH` is a threshold we will utilize to determine the convergence of value iteration<br>\n",
    "`GAMMA` is the discount factor denoted $\\gamma$ in the slides (see slide 36) <br>\n",
    "`ALL_POSSIBLE_ACTIONS` are the actions you can take in the GridWold, as in slide 12. In this simple grid world, we will have four actions: Up, Down, Right, Left. "
   ]
  },
  {
   "cell_type": "code",
   "execution_count": 2,
   "metadata": {},
   "outputs": [],
   "source": [
    "SMALL_ENOUGH = 1e-3\n",
    "GAMMA = 0.9\n",
    "ALL_POSSIBLE_ACTIONS = ('U', 'D', 'L', 'R')"
   ]
  },
  {
   "cell_type": "markdown",
   "metadata": {},
   "source": [
    "Now we will set up a the Gridworld. <br>\n",
    "To find a shorter path to the goal, we will use a negative grid that give negatives rewards of -0.1 in the non-absorbing states"
   ]
  },
  {
   "cell_type": "code",
   "execution_count": 3,
   "metadata": {},
   "outputs": [
    {
     "name": "stdout",
     "output_type": "stream",
     "text": [
      "rewards:\n",
      "---------------------------\n",
      "-0.10|-0.10|-0.10| 1.00|\n",
      "---------------------------\n",
      "-0.10| 0.00|-0.10|-1.00|\n",
      "---------------------------\n",
      "-0.10|-0.10|-0.10|-0.10|\n"
     ]
    }
   ],
   "source": [
    "grid = negative_grid()\n",
    "print(\"rewards:\")\n",
    "print_values(grid.rewards, grid)"
   ]
  },
  {
   "cell_type": "markdown",
   "metadata": {},
   "source": [
    "Next, we will define a random inital policy $\\pi$. <br>\n",
    "Remember that a policy maps states to actions $\\pi : S \\rightarrow A$."
   ]
  },
  {
   "cell_type": "code",
   "execution_count": 4,
   "metadata": {},
   "outputs": [
    {
     "name": "stdout",
     "output_type": "stream",
     "text": [
      "initial policy:\n",
      "---------------------------\n",
      "  L  |  D  |  L  |     |\n",
      "---------------------------\n",
      "  L  |     |  D  |     |\n",
      "---------------------------\n",
      "  L  |  U  |  D  |  L  |\n"
     ]
    }
   ],
   "source": [
    "policy = {}\n",
    "for s in grid.actions.keys():\n",
    "  policy[s] = np.random.choice(ALL_POSSIBLE_ACTIONS)\n",
    "\n",
    "# initial policy\n",
    "print(\"initial policy:\")\n",
    "print_policy(policy, grid)"
   ]
  },
  {
   "cell_type": "markdown",
   "metadata": {},
   "source": [
    "Note that there is policy in the absorbing/terminal states"
   ]
  },
  {
   "cell_type": "markdown",
   "metadata": {},
   "source": [
    "Next, we will randomly initialize the value fonction"
   ]
  },
  {
   "cell_type": "code",
   "execution_count": 5,
   "metadata": {},
   "outputs": [
    {
     "name": "stdout",
     "output_type": "stream",
     "text": [
      "---------------------------\n",
      " 0.62| 0.38| 0.04| 0.00|\n",
      "---------------------------\n",
      " 0.83| 0.00| 0.29| 0.00|\n",
      "---------------------------\n",
      " 0.44| 0.31| 0.47| 0.70|\n"
     ]
    }
   ],
   "source": [
    "V = {}\n",
    "states = grid.all_states()\n",
    "for s in states:\n",
    "  if s in grid.actions:\n",
    "    V[s] = np.random.random()\n",
    "  else:\n",
    "    # terminal state\n",
    "    V[s] = 0\n",
    "\n",
    "# initial value for all states in grid\n",
    "print_values(V, grid)"
   ]
  },
  {
   "cell_type": "markdown",
   "metadata": {},
   "source": [
    "Note that we set to Null the values of the terminal states. <br> \n",
    "For the print_values() function to compile, we set them to 0."
   ]
  },
  {
   "cell_type": "markdown",
   "metadata": {},
   "source": [
    "### 1.2 Value iteration algorithms - code completion\n",
    "\n",
    "You will now have to complete the Value iteration algorithm. <br>\n",
    "Remember that, for each iteration, each state s need to have to be update with the formula:\n",
    "\n",
    "$$\n",
    "V(s) = \\underset{a}{max}\\big\\{ \\sum_{s',a}  p(s'|s,a)(r + \\gamma*V(s') \\big\\}\n",
    "$$\n",
    "Note that in the current gridWorld, p(s'|s,a) is deterministic. <br>\n",
    "Also, remember that in value iteration, the policy is implicit. <br> Thus, you don't need to update it at every iteration. <br>\n",
    "Run the algorithm until convergence.\n"
   ]
  },
  {
   "cell_type": "code",
   "execution_count": 6,
   "metadata": {},
   "outputs": [
    {
     "name": "stdout",
     "output_type": "stream",
     "text": [
      "values 1: \n",
      "---------------------------\n",
      " 0.62| 0.38| 0.04| 0.00|\n",
      "---------------------------\n",
      " 0.83| 0.00| 0.29| 0.00|\n",
      "---------------------------\n",
      " 0.44| 0.31| 0.47| 0.70|\n",
      "policy 1: \n",
      "---------------------------\n",
      "  L  |  D  |  L  |     |\n",
      "---------------------------\n",
      "  L  |     |  D  |     |\n",
      "---------------------------\n",
      "  L  |  U  |  D  |  L  |\n",
      "\n",
      "\n",
      "\n"
     ]
    }
   ],
   "source": [
    "iteration=0\n",
    "while True:\n",
    "  iteration+=1\n",
    "  print(\"values %d: \" % iteration)\n",
    "  print_values(V, grid)\n",
    "  print(\"policy %d: \" % iteration)\n",
    "  print_policy(policy, grid)\n",
    "  print(\"\\n\\n\")\n",
    "\n",
    "  biggest_change = 0\n",
    "  \n",
    "  for s in states:\n",
    "    old_v = V[s]\n",
    "\n",
    "    # V(s) only has value if it's not a terminal/absorbing state\n",
    "    if s in policy:\n",
    "        \n",
    "      new_v = float('-inf')\n",
    "      for a in ALL_POSSIBLE_ACTIONS:\n",
    "        grid.set_state(s)\n",
    "        # get reward\n",
    "        r = grid.move(a)\n",
    "        # get s'\n",
    "        next_state = grid.current_state()\n",
    "        \n",
    "        ## Implement This!\n",
    "\n",
    "        ## hints:\n",
    "        ##   - at every iteration, use the biggest_change variable to keep track of the biggest state value change.\n",
    "        ##     Use it to break out of the loop upon convergence.\n",
    "        ##   - compute this V[s] = max[a]{ sum[s',r] { p(s',r|s,a)[r + gamma*V[s']] } }\n",
    "\n",
    "  if biggest_change < SMALL_ENOUGH:\n",
    "    break\n"
   ]
  },
  {
   "cell_type": "markdown",
   "metadata": {},
   "source": [
    "Now that the value function is trained, use it to find the optimal policy."
   ]
  },
  {
   "cell_type": "code",
   "execution_count": 7,
   "metadata": {},
   "outputs": [],
   "source": [
    "for s in policy.keys():\n",
    "  best_a = None\n",
    "  best_value = float('-inf')\n",
    "  # loop through all possible actions to find the best current action\n",
    "  for a in ALL_POSSIBLE_ACTIONS:\n",
    "    grid.set_state(s)\n",
    "    r = grid.move(a)\n",
    "    next_state = grid.current_state()\n",
    "    v = r + GAMMA * V[next_state]\n",
    "    if v > best_value:\n",
    "      best_value = v\n",
    "      best_a = a\n",
    "  policy[s] = best_a"
   ]
  },
  {
   "cell_type": "markdown",
   "metadata": {},
   "source": [
    "Now print your policy and make sure it leads to the upper-right corner which is the termnial state returning the most rewards."
   ]
  },
  {
   "cell_type": "code",
   "execution_count": 8,
   "metadata": {},
   "outputs": [
    {
     "name": "stdout",
     "output_type": "stream",
     "text": [
      "values:\n",
      "---------------------------\n",
      " 0.62| 0.38| 0.04| 0.00|\n",
      "---------------------------\n",
      " 0.83| 0.00| 0.29| 0.00|\n",
      "---------------------------\n",
      " 0.44| 0.31| 0.47| 0.70|\n",
      "policy:\n",
      "---------------------------\n",
      "  D  |  L  |  R  |     |\n",
      "---------------------------\n",
      "  L  |     |  D  |     |\n",
      "---------------------------\n",
      "  U  |  R  |  R  |  D  |\n"
     ]
    }
   ],
   "source": [
    "print(\"values:\")\n",
    "print_values(V, grid)\n",
    "print(\"policy:\")\n",
    "print_policy(policy, grid)"
   ]
  }
 ],
 "metadata": {
  "kernelspec": {
   "display_name": "Python 3",
   "language": "python",
   "name": "python3"
  },
  "language_info": {
   "codemirror_mode": {
    "name": "ipython",
    "version": 3
   },
   "file_extension": ".py",
   "mimetype": "text/x-python",
   "name": "python",
   "nbconvert_exporter": "python",
   "pygments_lexer": "ipython3",
   "version": "3.7.3"
  }
 },
 "nbformat": 4,
 "nbformat_minor": 1
}

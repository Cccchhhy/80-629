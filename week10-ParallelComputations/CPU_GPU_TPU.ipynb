{
  "nbformat": 4,
  "nbformat_minor": 0,
  "metadata": {
    "colab": {
      "name": "CPU-GPU-TPU.ipynb",
      "provenance": [],
      "collapsed_sections": [],
      "authorship_tag": "ABX9TyOTGj1c5ZzwyR7jqaIkT8fl"
    },
    "kernelspec": {
      "name": "python3",
      "display_name": "Python 3"
    },
    "language_info": {
      "name": "python"
    },
    "accelerator": "GPU"
  },
  "cells": [
    {
      "cell_type": "markdown",
      "metadata": {
        "id": "ygPyPscHvyC3"
      },
      "source": [
        "##Comparaison du temps de calcul pour multiplier deux matrices sur CPU, GPU et TPU"
      ]
    },
    {
      "cell_type": "code",
      "metadata": {
        "id": "LtoOaOCt6qpf"
      },
      "source": [
        "import numpy as np\n",
        "import os "
      ],
      "execution_count": 43,
      "outputs": []
    },
    {
      "cell_type": "markdown",
      "metadata": {
        "id": "I72cf7aKuDoD"
      },
      "source": [
        "###CPU"
      ]
    },
    {
      "cell_type": "code",
      "metadata": {
        "id": "ILxixUqhzoFM"
      },
      "source": [
        "b = np.random.rand(1000, 1000)"
      ],
      "execution_count": 44,
      "outputs": []
    },
    {
      "cell_type": "code",
      "metadata": {
        "colab": {
          "base_uri": "https://localhost:8080/"
        },
        "id": "wp-dVW-X7tse",
        "outputId": "b39244e5-6f56-41b9-e72d-fa56e3742c4a"
      },
      "source": [
        "%%time\n",
        "c = np.dot(b,b)\n",
        "del c"
      ],
      "execution_count": 45,
      "outputs": [
        {
          "output_type": "stream",
          "name": "stdout",
          "text": [
            "CPU times: user 115 ms, sys: 13 ms, total: 128 ms\n",
            "Wall time: 73.5 ms\n"
          ]
        }
      ]
    },
    {
      "cell_type": "markdown",
      "metadata": {
        "id": "6p0PQkf0uAmp"
      },
      "source": [
        "### GPU "
      ]
    },
    {
      "cell_type": "code",
      "metadata": {
        "id": "gLTmSOQNu4fe"
      },
      "source": [
        "import os\n",
        "import torch\n",
        "#'Make sure to select GPU from Edit > Notebook settings > Hardware accelerator'"
      ],
      "execution_count": 36,
      "outputs": []
    },
    {
      "cell_type": "code",
      "metadata": {
        "colab": {
          "base_uri": "https://localhost:8080/"
        },
        "id": "t4rKsek3WXiP",
        "outputId": "1b7cf9d4-f6b1-48c1-9f36-1ccc23155379"
      },
      "source": [
        "torch.cuda.is_available()"
      ],
      "execution_count": 37,
      "outputs": [
        {
          "output_type": "execute_result",
          "data": {
            "text/plain": [
              "True"
            ]
          },
          "metadata": {},
          "execution_count": 37
        }
      ]
    },
    {
      "cell_type": "code",
      "metadata": {
        "colab": {
          "base_uri": "https://localhost:8080/"
        },
        "id": "sCiIZBTlWdow",
        "outputId": "a786b345-4e2e-4d6d-85da-3f0a131ba995"
      },
      "source": [
        "torch.cuda.device_count()"
      ],
      "execution_count": 38,
      "outputs": [
        {
          "output_type": "execute_result",
          "data": {
            "text/plain": [
              "1"
            ]
          },
          "metadata": {},
          "execution_count": 38
        }
      ]
    },
    {
      "cell_type": "code",
      "metadata": {
        "colab": {
          "base_uri": "https://localhost:8080/",
          "height": 35
        },
        "id": "CDI6gzXeWeZQ",
        "outputId": "e6b9511b-7bf8-4df1-acb2-563357dbd28b"
      },
      "source": [
        "torch.cuda.get_device_name(0)"
      ],
      "execution_count": 39,
      "outputs": [
        {
          "output_type": "execute_result",
          "data": {
            "application/vnd.google.colaboratory.intrinsic+json": {
              "type": "string"
            },
            "text/plain": [
              "'Tesla K80'"
            ]
          },
          "metadata": {},
          "execution_count": 39
        }
      ]
    },
    {
      "cell_type": "code",
      "metadata": {
        "colab": {
          "base_uri": "https://localhost:8080/"
        },
        "id": "Z93EmyHIzuDX",
        "outputId": "d87db5be-2493-4f69-b86b-e0ea073910c2"
      },
      "source": [
        "\n",
        "print(a.dtype, b.dtype)"
      ],
      "execution_count": 40,
      "outputs": [
        {
          "output_type": "stream",
          "name": "stdout",
          "text": [
            "torch.float32 torch.float32\n"
          ]
        }
      ]
    },
    {
      "cell_type": "code",
      "metadata": {
        "colab": {
          "base_uri": "https://localhost:8080/"
        },
        "id": "5z1yqjwl8QWN",
        "outputId": "431b90dc-014f-4de6-9fe3-cb89dd9540a2"
      },
      "source": [
        "%%time\n",
        "a = torch.rand(1000, 1000);\n",
        "b = torch.rand(1000, 1000);\n",
        "c = torch.matmul(a,b)"
      ],
      "execution_count": 41,
      "outputs": [
        {
          "output_type": "stream",
          "name": "stdout",
          "text": [
            "CPU times: user 50.3 ms, sys: 2.01 ms, total: 52.3 ms\n",
            "Wall time: 54 ms\n"
          ]
        }
      ]
    },
    {
      "cell_type": "code",
      "metadata": {
        "colab": {
          "base_uri": "https://localhost:8080/"
        },
        "id": "fcF_j2Jm1xLh",
        "outputId": "9866a075-e40e-4372-cd38-8778c073198a"
      },
      "source": [
        "print(c)\n",
        "del c"
      ],
      "execution_count": 42,
      "outputs": [
        {
          "output_type": "stream",
          "name": "stdout",
          "text": [
            "tensor([[245.7135, 255.5938, 237.4253,  ..., 244.1152, 250.5439, 243.4483],\n",
            "        [243.9666, 247.2808, 236.4176,  ..., 237.8579, 248.2711, 242.5053],\n",
            "        [257.2747, 261.1763, 245.1732,  ..., 252.2132, 260.5127, 253.4652],\n",
            "        ...,\n",
            "        [249.4621, 254.2981, 240.0048,  ..., 247.2297, 255.8192, 240.6149],\n",
            "        [253.2722, 254.6785, 243.2841,  ..., 243.8646, 253.7304, 245.3006],\n",
            "        [252.2582, 258.7465, 244.2146,  ..., 241.1380, 257.7133, 248.8726]])\n"
          ]
        }
      ]
    },
    {
      "cell_type": "markdown",
      "metadata": {
        "id": "l5jzIW0Ot66T"
      },
      "source": [
        "###TPU \n",
        "\n",
        "code venant de: https://colab.research.google.com/github/pytorch/xla/blob/master/contrib/colab/getting-started.ipynb"
      ]
    },
    {
      "cell_type": "code",
      "metadata": {
        "id": "qZ_Du822shBN"
      },
      "source": [
        "#!export XRT_TPU_CONFIG=\"tpu_worker;0;$TPU_IP_ADDRESS:8470\"\n",
        "import os\n",
        "assert os.environ['COLAB_TPU_ADDR'], 'Make sure to select TPU from Edit > Notebook settings > Hardware accelerator'"
      ],
      "execution_count": 1,
      "outputs": []
    },
    {
      "cell_type": "code",
      "metadata": {
        "colab": {
          "base_uri": "https://localhost:8080/"
        },
        "id": "QRQSTwHFaH6h",
        "outputId": "fcc06277-63ef-41e1-d6ea-d96b213bfc87"
      },
      "source": [
        "!pip install cloud-tpu-client==0.10 https://storage.googleapis.com/tpu-pytorch/wheels/torch_xla-1.9-cp37-cp37m-linux_x86_64.whl"
      ],
      "execution_count": 2,
      "outputs": [
        {
          "output_type": "stream",
          "name": "stdout",
          "text": [
            "Collecting torch-xla==1.9\n",
            "  Using cached https://storage.googleapis.com/tpu-pytorch/wheels/torch_xla-1.9-cp37-cp37m-linux_x86_64.whl (149.9 MB)\n",
            "Requirement already satisfied: cloud-tpu-client==0.10 in /usr/local/lib/python3.7/dist-packages (0.10)\n",
            "Requirement already satisfied: google-api-python-client==1.8.0 in /usr/local/lib/python3.7/dist-packages (from cloud-tpu-client==0.10) (1.8.0)\n",
            "Requirement already satisfied: oauth2client in /usr/local/lib/python3.7/dist-packages (from cloud-tpu-client==0.10) (4.1.3)\n",
            "Requirement already satisfied: uritemplate<4dev,>=3.0.0 in /usr/local/lib/python3.7/dist-packages (from google-api-python-client==1.8.0->cloud-tpu-client==0.10) (3.0.1)\n",
            "Requirement already satisfied: google-api-core<2dev,>=1.13.0 in /usr/local/lib/python3.7/dist-packages (from google-api-python-client==1.8.0->cloud-tpu-client==0.10) (1.26.3)\n",
            "Requirement already satisfied: six<2dev,>=1.6.1 in /usr/local/lib/python3.7/dist-packages (from google-api-python-client==1.8.0->cloud-tpu-client==0.10) (1.15.0)\n",
            "Requirement already satisfied: google-auth-httplib2>=0.0.3 in /usr/local/lib/python3.7/dist-packages (from google-api-python-client==1.8.0->cloud-tpu-client==0.10) (0.0.4)\n",
            "Requirement already satisfied: httplib2<1dev,>=0.9.2 in /usr/local/lib/python3.7/dist-packages (from google-api-python-client==1.8.0->cloud-tpu-client==0.10) (0.17.4)\n",
            "Requirement already satisfied: google-auth>=1.4.1 in /usr/local/lib/python3.7/dist-packages (from google-api-python-client==1.8.0->cloud-tpu-client==0.10) (1.35.0)\n",
            "Requirement already satisfied: packaging>=14.3 in /usr/local/lib/python3.7/dist-packages (from google-api-core<2dev,>=1.13.0->google-api-python-client==1.8.0->cloud-tpu-client==0.10) (21.0)\n",
            "Requirement already satisfied: requests<3.0.0dev,>=2.18.0 in /usr/local/lib/python3.7/dist-packages (from google-api-core<2dev,>=1.13.0->google-api-python-client==1.8.0->cloud-tpu-client==0.10) (2.23.0)\n",
            "Requirement already satisfied: setuptools>=40.3.0 in /usr/local/lib/python3.7/dist-packages (from google-api-core<2dev,>=1.13.0->google-api-python-client==1.8.0->cloud-tpu-client==0.10) (57.4.0)\n",
            "Requirement already satisfied: googleapis-common-protos<2.0dev,>=1.6.0 in /usr/local/lib/python3.7/dist-packages (from google-api-core<2dev,>=1.13.0->google-api-python-client==1.8.0->cloud-tpu-client==0.10) (1.53.0)\n",
            "Requirement already satisfied: protobuf>=3.12.0 in /usr/local/lib/python3.7/dist-packages (from google-api-core<2dev,>=1.13.0->google-api-python-client==1.8.0->cloud-tpu-client==0.10) (3.17.3)\n",
            "Requirement already satisfied: pytz in /usr/local/lib/python3.7/dist-packages (from google-api-core<2dev,>=1.13.0->google-api-python-client==1.8.0->cloud-tpu-client==0.10) (2018.9)\n",
            "Requirement already satisfied: rsa<5,>=3.1.4 in /usr/local/lib/python3.7/dist-packages (from google-auth>=1.4.1->google-api-python-client==1.8.0->cloud-tpu-client==0.10) (4.7.2)\n",
            "Requirement already satisfied: cachetools<5.0,>=2.0.0 in /usr/local/lib/python3.7/dist-packages (from google-auth>=1.4.1->google-api-python-client==1.8.0->cloud-tpu-client==0.10) (4.2.4)\n",
            "Requirement already satisfied: pyasn1-modules>=0.2.1 in /usr/local/lib/python3.7/dist-packages (from google-auth>=1.4.1->google-api-python-client==1.8.0->cloud-tpu-client==0.10) (0.2.8)\n",
            "Requirement already satisfied: pyparsing>=2.0.2 in /usr/local/lib/python3.7/dist-packages (from packaging>=14.3->google-api-core<2dev,>=1.13.0->google-api-python-client==1.8.0->cloud-tpu-client==0.10) (2.4.7)\n",
            "Requirement already satisfied: pyasn1<0.5.0,>=0.4.6 in /usr/local/lib/python3.7/dist-packages (from pyasn1-modules>=0.2.1->google-auth>=1.4.1->google-api-python-client==1.8.0->cloud-tpu-client==0.10) (0.4.8)\n",
            "Requirement already satisfied: certifi>=2017.4.17 in /usr/local/lib/python3.7/dist-packages (from requests<3.0.0dev,>=2.18.0->google-api-core<2dev,>=1.13.0->google-api-python-client==1.8.0->cloud-tpu-client==0.10) (2021.5.30)\n",
            "Requirement already satisfied: idna<3,>=2.5 in /usr/local/lib/python3.7/dist-packages (from requests<3.0.0dev,>=2.18.0->google-api-core<2dev,>=1.13.0->google-api-python-client==1.8.0->cloud-tpu-client==0.10) (2.10)\n",
            "Requirement already satisfied: urllib3!=1.25.0,!=1.25.1,<1.26,>=1.21.1 in /usr/local/lib/python3.7/dist-packages (from requests<3.0.0dev,>=2.18.0->google-api-core<2dev,>=1.13.0->google-api-python-client==1.8.0->cloud-tpu-client==0.10) (1.24.3)\n",
            "Requirement already satisfied: chardet<4,>=3.0.2 in /usr/local/lib/python3.7/dist-packages (from requests<3.0.0dev,>=2.18.0->google-api-core<2dev,>=1.13.0->google-api-python-client==1.8.0->cloud-tpu-client==0.10) (3.0.4)\n"
          ]
        }
      ]
    },
    {
      "cell_type": "code",
      "metadata": {
        "colab": {
          "base_uri": "https://localhost:8080/"
        },
        "id": "sJdAdYlyaNx7",
        "outputId": "5b8ba816-024d-45b7-9991-63d1547955b1"
      },
      "source": [
        "# imports pytorch\n",
        "import torch\n",
        "\n",
        "# imports the torch_xla package\n",
        "import torch_xla\n",
        "import torch_xla.core.xla_model as xm"
      ],
      "execution_count": 3,
      "outputs": [
        {
          "output_type": "stream",
          "name": "stderr",
          "text": [
            "WARNING:root:TPU has started up successfully with version pytorch-1.9\n"
          ]
        }
      ]
    },
    {
      "cell_type": "code",
      "metadata": {
        "id": "uiGiJLDZalAl"
      },
      "source": [
        "# Creates a random tensor on xla:1 (a Cloud TPU core)\n",
        "dev = xm.xla_device()"
      ],
      "execution_count": 4,
      "outputs": []
    },
    {
      "cell_type": "code",
      "metadata": {
        "colab": {
          "base_uri": "https://localhost:8080/"
        },
        "id": "b6HIoqfXaZvG",
        "outputId": "bbb6b5a8-e593-4cf8-c233-b9851154cb50"
      },
      "source": [
        "%%time\n",
        "a = torch.rand(1000, 1000, device=dev);\n",
        "b = torch.rand(1000, 1000, device=dev);\n",
        "c = torch.matmul(a, b)"
      ],
      "execution_count": 8,
      "outputs": [
        {
          "output_type": "stream",
          "name": "stdout",
          "text": [
            "CPU times: user 576 µs, sys: 0 ns, total: 576 µs\n",
            "Wall time: 588 µs\n"
          ]
        }
      ]
    },
    {
      "cell_type": "code",
      "metadata": {
        "colab": {
          "base_uri": "https://localhost:8080/"
        },
        "id": "lgNjtJCR1cBf",
        "outputId": "b2ea83b1-db01-4648-ada3-20ad05873801"
      },
      "source": [
        "print(c.dtype)\n",
        "print(c)\n",
        "print(c.shape)\n",
        "del c"
      ],
      "execution_count": 9,
      "outputs": [
        {
          "output_type": "stream",
          "name": "stdout",
          "text": [
            "torch.float32\n",
            "tensor([[238.9007, 245.4132, 231.7986,  ..., 229.5605, 233.2815, 239.6416],\n",
            "        [249.9418, 247.9480, 243.0715,  ..., 236.5926, 242.6564, 244.7696],\n",
            "        [248.8789, 257.6741, 245.0071,  ..., 240.8034, 245.0784, 246.5866],\n",
            "        ...,\n",
            "        [242.2397, 249.6267, 238.1662,  ..., 231.6799, 241.6612, 243.2180],\n",
            "        [254.8242, 256.8579, 249.0638,  ..., 236.6480, 245.9845, 248.7567],\n",
            "        [243.5624, 249.5785, 235.7889,  ..., 234.9618, 237.8340, 235.1261]],\n",
            "       device='xla:1')\n",
            "torch.Size([1000, 1000])\n"
          ]
        }
      ]
    }
  ]
}
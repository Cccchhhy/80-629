{
 "cells": [
  {
   "cell_type": "markdown",
   "metadata": {},
   "source": [
    "# Tutoriel sur les systèmes de recommandation\n",
    "### (initialement pour l'atelier sur le sujet organisé par IVADO à l'été 2019)\n",
    "\n",
    "\n",
    "# Factorisation matricielle &mdash; réponses\n",
    "\n",
    "## Auteurs: \n",
    "\n",
    "David Berger (davidberger2785 [at] gmail [dot] com)\n",
    "\n",
    "Laurent Charlin (lcharlin [at] gmail [dot] com)"
   ]
  },
  {
   "cell_type": "markdown",
   "metadata": {},
   "source": [
    "# 1. Introduction\n",
    "\n",
    "Cet atelier se veut une introduction aux systèmes de recommandation. Plus spécifiquement, nous proposons d'implémenter dans un premier temps un système de recommandation basé sur la factorisation matricielle. Ce type d'architecture étant fortement associé à la <a href=\"https://en.wikipedia.org/wiki/Netflix_Prize\">compétition Netflix</a>, nous utiliserons la base de données <a href=\"https://grouplens.org/datasets/movielens/\"> MovieLens</a> afin d'entraîner nos modèles et de mener certaines expériences."
   ]
  },
  {
   "cell_type": "markdown",
   "metadata": {},
   "source": [
    "## 1.1 Installation des librairies\n",
    "\n",
    "Avant de commencer, nous devons nous assurer d'installer les librairies nécessaires pour le tutoriel à l'aide de `pip`.  Pour ce faire, exécutez la cellule suivante en la sélectionnant et en cliquant `Shift`+`Enter`. Ceci peut prendre quelques minutes."
   ]
  },
  {
   "cell_type": "code",
   "execution_count": 1,
   "metadata": {},
   "outputs": [
    {
     "name": "stdout",
     "output_type": "stream",
     "text": [
      "Cloning into 'RS-Workshop'...\n",
      "remote: Enumerating objects: 49, done.\u001b[K\n",
      "remote: Counting objects: 100% (49/49), done.\u001b[K\n",
      "remote: Compressing objects: 100% (33/33), done.\u001b[K\n",
      "remote: Total 49 (delta 14), reused 47 (delta 12), pack-reused 0\u001b[K\n",
      "Receiving objects: 100% (49/49), 1.17 MiB | 4.28 MiB/s, done.\n",
      "Resolving deltas: 100% (14/14), done.\n"
     ]
    }
   ],
   "source": [
    "!rm -rf RS-Workshop\n",
    "!git clone https://github.com/davidberger2785/RS-Workshop"
   ]
  },
  {
   "cell_type": "markdown",
   "metadata": {},
   "source": [
    "Afin de vous assurer que l'installation a eu lieu, importez toutes les librairies et modules dont nous nous servirons pour cet atelier en exécutant la prochaine cellule."
   ]
  },
  {
   "cell_type": "code",
   "execution_count": 2,
   "metadata": {},
   "outputs": [],
   "source": [
    "import numpy as np\n",
    "import pandas as pd\n",
    "\n",
    "# Data vizualisation\n",
    "import matplotlib.pyplot as plt\n",
    "import seaborn as sns\n",
    "\n",
    "import os\n",
    "import sys\n",
    "\n",
    "# Homemade functions\n",
    "import utilities as utl"
   ]
  },
  {
   "cell_type": "markdown",
   "metadata": {},
   "source": [
    "Nous avons également écrit quelques fonctions passe-partout que nous avons regroupées dans la librairie `utilities`."
   ]
  },
  {
   "cell_type": "markdown",
   "metadata": {},
   "source": [
    "## 1.2 Objectif\n",
    "\n",
    "De façon générale, l'objectif d'un système de recommandation est, comme son nom l'indique, d'effectuer des recommandations personnalisées à chacun de ses utilisateurs (usagers). Idéalement, ces recommandations devront être bonnes, bien que ce concept puisse rapidement devenir flou. Contrairement à d'autres tâches en apprentissage automatique, telle la reconnaissance d'images de chats ou la prédiction du cours d'une action en bourse, effectuer des recommandations de manière à aider un usager est d'autant plus complexe que ce problème est plus ou moins bien défini. Cherchons-nous à présenter à un utilisateur précis des suggestions le confortant dans ses choix antérieurs? Ou encore, voulons-nous lui présenter des suggestions complémentaires ou totalement indépendantes des items précédemment considérés? Enfin, tenterons-nous plutôt de lui présenter des items auxquels il n'a pas encore été exposé? Chacune de ces options sont légitimes et pourront être modélisées. Sans perte de généralités, le schéma ci-dessous modélise simplement la problématique des systèmes de recommandation sous l'angle de l'apprentissage automatique.\n",
    "\n",
    "<img src=\"../Images/High_level_1.png\" width=\"500\">\n",
    "\n",
    "N'empêche, dans le cadre de cet atelier et en considérant le contexte dans lequel nous sommes plongés, soit la suggestion de films comme le font Netflix ou Amazon Prime, nous pouvons réduire le problème à une tâche relativement simple: recommander des films que l'utilisateur va aimer en fonction de ses intérêts passés. Afin de mener à bien cette tâche, nous utiliserons l'ensemble des préférences des usagers, certaines variables sociodémographiques associées de même que certaines caractéristiques des films. Enfin, nous pouvons raffiner le schéma ainsi: \n",
    "\n",
    "<img src=\"../Images/High_level_2-2.png\" width=\"750\">"
   ]
  },
  {
   "cell_type": "markdown",
   "metadata": {},
   "source": [
    "## 1.3 Jeu de données  - MoviesLens 100k\n",
    "\n",
    "Les données que nous allons manipuler afin d'explorer différents types de systèmes de recommandation sont celles associées au projet <a href=\"https://grouplens.org/datasets/movielens/\"> MovieLens</a>. Brièvement, les données utilisées consistent ici en plus ou moins 100&#8239;000 évaluations de films effectuées par 943 utilisateurs et où un ensemble de 1&#8239;682 films étaient disponibles en visionnement. En plus des 100 000 évaluations à notre disposition, nous avons des informations complémentaires liées à chacun des usagers de même qu'à chacun des films.\n",
    "\n",
    "En somme, nous allons utiliser un total de trois jeux de données afin de mener à bien nos analyses soit: \n",
    "\n",
    "<ul>\n",
    "<li> Users : contenant des informations associées aux caractéristiques des utilisateurs,\n",
    "<li> Movies : contenant des informations associées aux caractéristiques des films en visionnement,\n",
    "<li> Ratings : contenant l'ensemble des 100&#8239;000 évaluations effectuées par les utilisateurs.\n",
    "</ul>\n",
    "\n",
    "Nous utiliserons la librairie <a href=\"https://pandas.pydata.org/\">Pandas</a> pour télécharger la base de données."
   ]
  },
  {
   "cell_type": "markdown",
   "metadata": {},
   "source": [
    "### 1.3.1 Users: Importation et prétraitement des données"
   ]
  },
  {
   "cell_type": "code",
   "execution_count": 3,
   "metadata": {},
   "outputs": [
    {
     "data": {
      "text/html": [
       "<div>\n",
       "<style scoped>\n",
       "    .dataframe tbody tr th:only-of-type {\n",
       "        vertical-align: middle;\n",
       "    }\n",
       "\n",
       "    .dataframe tbody tr th {\n",
       "        vertical-align: top;\n",
       "    }\n",
       "\n",
       "    .dataframe thead th {\n",
       "        text-align: right;\n",
       "    }\n",
       "</style>\n",
       "<table border=\"1\" class=\"dataframe\">\n",
       "  <thead>\n",
       "    <tr style=\"text-align: right;\">\n",
       "      <th></th>\n",
       "      <th>Index</th>\n",
       "      <th>Age</th>\n",
       "      <th>Gender</th>\n",
       "      <th>Occupation</th>\n",
       "      <th>Zip code</th>\n",
       "    </tr>\n",
       "  </thead>\n",
       "  <tbody>\n",
       "    <tr>\n",
       "      <th>0</th>\n",
       "      <td>1</td>\n",
       "      <td>24</td>\n",
       "      <td>M</td>\n",
       "      <td>technician</td>\n",
       "      <td>85711</td>\n",
       "    </tr>\n",
       "    <tr>\n",
       "      <th>1</th>\n",
       "      <td>2</td>\n",
       "      <td>53</td>\n",
       "      <td>F</td>\n",
       "      <td>other</td>\n",
       "      <td>94043</td>\n",
       "    </tr>\n",
       "    <tr>\n",
       "      <th>2</th>\n",
       "      <td>3</td>\n",
       "      <td>23</td>\n",
       "      <td>M</td>\n",
       "      <td>writer</td>\n",
       "      <td>32067</td>\n",
       "    </tr>\n",
       "    <tr>\n",
       "      <th>3</th>\n",
       "      <td>4</td>\n",
       "      <td>24</td>\n",
       "      <td>M</td>\n",
       "      <td>technician</td>\n",
       "      <td>43537</td>\n",
       "    </tr>\n",
       "    <tr>\n",
       "      <th>4</th>\n",
       "      <td>5</td>\n",
       "      <td>33</td>\n",
       "      <td>F</td>\n",
       "      <td>other</td>\n",
       "      <td>15213</td>\n",
       "    </tr>\n",
       "  </tbody>\n",
       "</table>\n",
       "</div>"
      ],
      "text/plain": [
       "   Index  Age Gender  Occupation Zip code\n",
       "0      1   24      M  technician    85711\n",
       "1      2   53      F       other    94043\n",
       "2      3   23      M      writer    32067\n",
       "3      4   24      M  technician    43537\n",
       "4      5   33      F       other    15213"
      ]
     },
     "execution_count": 3,
     "metadata": {},
     "output_type": "execute_result"
    }
   ],
   "source": [
    "# Téléchargement des données\n",
    "ROOT_DIR = 'RS-Workshop/'\n",
    "DATA_DIR = os.path.join(ROOT_DIR, 'data/ml-100k/')\n",
    "\n",
    "users = pd.read_csv(os.path.join(DATA_DIR, 'u.user'), \n",
    "                        sep='|', header=None, engine='python', encoding='latin-1')\n",
    "# Nous définissons les différentes variables en fonction de l'information fournie \n",
    "# dans le fichier 'readme'\n",
    "users.columns = ['Index', 'Age', 'Gender', 'Occupation', 'Zip code']\n",
    "\n",
    "# Bref aperçu\n",
    "users.head()"
   ]
  },
  {
   "cell_type": "markdown",
   "metadata": {},
   "source": [
    "Avant de présenter les statistiques descriptives liées à la population étudiée, nous allons dans un premier temps traiter les données associées aux usagers sous la forme d'une <a href=\"https://fr.wikipedia.org/wiki/Liste_(informatique)\"> <b> liste</b></a> afin de pouvoir plus aisément les manipuler. Notons que l'occupation de chaque individu étant une chaîne de caractères, nous avons recodé les 21 occupations possibles en booléen."
   ]
  },
  {
   "cell_type": "code",
   "execution_count": 4,
   "metadata": {},
   "outputs": [],
   "source": [
    "# Nombre d'utilisateurs et d'utilisatrices\n",
    "nb_users = len(users)\n",
    "\n",
    "# Sexe\n",
    "gender = np.where(np.matrix(users['Gender']) == 'M', 0, 1)[0]\n",
    "\n",
    "# Occupation\n",
    "occupation_name = np.array(pd.read_csv(os.path.join(DATA_DIR, 'u.occupation'), \n",
    "                                       sep='|', header=None, engine='python', \n",
    "                                       encoding='latin-1').loc[:, 0])\n",
    "\n",
    "# Recodage en booléen de la variable occupation\n",
    "occupation_matrix = np.zeros((nb_users, len(occupation_name)))\n",
    "\n",
    "for k in np.arange(nb_users):\n",
    "    occupation_matrix[k, occupation_name.tolist().index(users['Occupation'][k])] = 1\n",
    "\n",
    "# Concatenation des différentes données sociodémographiques sous forme de liste\n",
    "user_attributes = np.concatenate((np.matrix(users['Age']), np.matrix(gender), \n",
    "                                  occupation_matrix.T)).T.tolist()"
   ]
  },
  {
   "cell_type": "markdown",
   "metadata": {},
   "source": [
    "Nous explorons par la suite les différentes statistiques descriptives associées aux usagers. Celles-ci comportent des informations en lien avec l'âge (variable continue), le sexe (variable binaire) et l'occupation de chacun des usagers (au nombre de 21, toutes binaires). "
   ]
  },
  {
   "cell_type": "markdown",
   "metadata": {},
   "source": [
    "Statistiques descriptives associées à l'âge."
   ]
  },
  {
   "cell_type": "code",
   "execution_count": 5,
   "metadata": {},
   "outputs": [
    {
     "data": {
      "text/html": [
       "<div>\n",
       "<style scoped>\n",
       "    .dataframe tbody tr th:only-of-type {\n",
       "        vertical-align: middle;\n",
       "    }\n",
       "\n",
       "    .dataframe tbody tr th {\n",
       "        vertical-align: top;\n",
       "    }\n",
       "\n",
       "    .dataframe thead th {\n",
       "        text-align: right;\n",
       "    }\n",
       "</style>\n",
       "<table border=\"1\" class=\"dataframe\">\n",
       "  <thead>\n",
       "    <tr style=\"text-align: right;\">\n",
       "      <th></th>\n",
       "      <th>count</th>\n",
       "      <th>mean</th>\n",
       "      <th>std</th>\n",
       "      <th>min</th>\n",
       "      <th>25%</th>\n",
       "      <th>50%</th>\n",
       "      <th>75%</th>\n",
       "      <th>max</th>\n",
       "    </tr>\n",
       "  </thead>\n",
       "  <tbody>\n",
       "    <tr>\n",
       "      <th>Age</th>\n",
       "      <td>943.0</td>\n",
       "      <td>34.051962</td>\n",
       "      <td>12.19274</td>\n",
       "      <td>7.0</td>\n",
       "      <td>25.0</td>\n",
       "      <td>31.0</td>\n",
       "      <td>43.0</td>\n",
       "      <td>73.0</td>\n",
       "    </tr>\n",
       "  </tbody>\n",
       "</table>\n",
       "</div>"
      ],
      "text/plain": [
       "     count       mean       std  min   25%   50%   75%   max\n",
       "Age  943.0  34.051962  12.19274  7.0  25.0  31.0  43.0  73.0"
      ]
     },
     "execution_count": 5,
     "metadata": {},
     "output_type": "execute_result"
    }
   ],
   "source": [
    "pd.DataFrame(users['Age'].describe()).T"
   ]
  },
  {
   "cell_type": "markdown",
   "metadata": {},
   "source": [
    "Diagramme à bandes pour la statistique associée au sexe."
   ]
  },
  {
   "cell_type": "code",
   "execution_count": 6,
   "metadata": {
    "scrolled": true
   },
   "outputs": [
    {
     "data": {
      "image/png": "[encoded data removed]",
      "text/plain": [
       "<Figure size 432x288 with 1 Axes>"
      ]
     },
     "metadata": {},
     "output_type": "display_data"
    }
   ],
   "source": [
    "utl.barplot(['Femmes', 'Hommes'], \n",
    "            np.array([np.mean(gender), 1 - np.mean(gender)]) * 100, \n",
    "            'Genre', 'Pourcentage (%)', \"Genre des utilisateurs\", 0)"
   ]
  },
  {
   "cell_type": "markdown",
   "metadata": {},
   "source": [
    "Diagramme à bandes pour la statistique associée à l'occupation des individus."
   ]
  },
  {
   "cell_type": "code",
   "execution_count": 7,
   "metadata": {
    "scrolled": true
   },
   "outputs": [
    {
     "data": {
      "image/png": "[encoded data removed]",
      "text/plain": [
       "<Figure size 432x288 with 1 Axes>"
      ]
     },
     "metadata": {},
     "output_type": "display_data"
    }
   ],
   "source": [
    "attributes, scores = utl.rearrange(occupation_name, \n",
    "                                   np.mean(occupation_matrix, axis=0) * 100)\n",
    "utl.barplot(attributes, scores, 'Emploi', 'Pourcentage (%)', \n",
    "            \"Emploi des utilisateurs\", 90)"
   ]
  },
  {
   "cell_type": "markdown",
   "metadata": {},
   "source": [
    "### 1.3.2 Movies: Importation et reformatage des données\n",
    "\n",
    "De la même façon, nous allons traiter et explorer les données associées aux films. Pour chacun d'eux, nous disposons du titre, de la date de sortie en Amérique du Nord, de même que les genres auxquels il est associé."
   ]
  },
  {
   "cell_type": "code",
   "execution_count": 8,
   "metadata": {},
   "outputs": [
    {
     "data": {
      "text/html": [
       "<div>\n",
       "<style scoped>\n",
       "    .dataframe tbody tr th:only-of-type {\n",
       "        vertical-align: middle;\n",
       "    }\n",
       "\n",
       "    .dataframe tbody tr th {\n",
       "        vertical-align: top;\n",
       "    }\n",
       "\n",
       "    .dataframe thead th {\n",
       "        text-align: right;\n",
       "    }\n",
       "</style>\n",
       "<table border=\"1\" class=\"dataframe\">\n",
       "  <thead>\n",
       "    <tr style=\"text-align: right;\">\n",
       "      <th></th>\n",
       "      <th>Index</th>\n",
       "      <th>Title</th>\n",
       "      <th>Release</th>\n",
       "      <th>The Not a Number column</th>\n",
       "      <th>Imdb</th>\n",
       "      <th>unknown</th>\n",
       "      <th>Action</th>\n",
       "      <th>Adventure</th>\n",
       "      <th>Animation</th>\n",
       "      <th>Children's</th>\n",
       "      <th>...</th>\n",
       "      <th>Fantasy</th>\n",
       "      <th>Film-Noir</th>\n",
       "      <th>Horror</th>\n",
       "      <th>Musical</th>\n",
       "      <th>Mystery</th>\n",
       "      <th>Romance</th>\n",
       "      <th>Sci-Fi</th>\n",
       "      <th>Thriller</th>\n",
       "      <th>War</th>\n",
       "      <th>Western</th>\n",
       "    </tr>\n",
       "  </thead>\n",
       "  <tbody>\n",
       "    <tr>\n",
       "      <th>0</th>\n",
       "      <td>1</td>\n",
       "      <td>Toy Story (1995)</td>\n",
       "      <td>01-Jan-1995</td>\n",
       "      <td>NaN</td>\n",
       "      <td>http://us.imdb.com/M/title-exact?Toy%20Story%2...</td>\n",
       "      <td>0</td>\n",
       "      <td>0</td>\n",
       "      <td>0</td>\n",
       "      <td>1</td>\n",
       "      <td>1</td>\n",
       "      <td>...</td>\n",
       "      <td>0</td>\n",
       "      <td>0</td>\n",
       "      <td>0</td>\n",
       "      <td>0</td>\n",
       "      <td>0</td>\n",
       "      <td>0</td>\n",
       "      <td>0</td>\n",
       "      <td>0</td>\n",
       "      <td>0</td>\n",
       "      <td>0</td>\n",
       "    </tr>\n",
       "    <tr>\n",
       "      <th>1</th>\n",
       "      <td>2</td>\n",
       "      <td>GoldenEye (1995)</td>\n",
       "      <td>01-Jan-1995</td>\n",
       "      <td>NaN</td>\n",
       "      <td>http://us.imdb.com/M/title-exact?GoldenEye%20(...</td>\n",
       "      <td>0</td>\n",
       "      <td>1</td>\n",
       "      <td>1</td>\n",
       "      <td>0</td>\n",
       "      <td>0</td>\n",
       "      <td>...</td>\n",
       "      <td>0</td>\n",
       "      <td>0</td>\n",
       "      <td>0</td>\n",
       "      <td>0</td>\n",
       "      <td>0</td>\n",
       "      <td>0</td>\n",
       "      <td>0</td>\n",
       "      <td>1</td>\n",
       "      <td>0</td>\n",
       "      <td>0</td>\n",
       "    </tr>\n",
       "    <tr>\n",
       "      <th>2</th>\n",
       "      <td>3</td>\n",
       "      <td>Four Rooms (1995)</td>\n",
       "      <td>01-Jan-1995</td>\n",
       "      <td>NaN</td>\n",
       "      <td>http://us.imdb.com/M/title-exact?Four%20Rooms%...</td>\n",
       "      <td>0</td>\n",
       "      <td>0</td>\n",
       "      <td>0</td>\n",
       "      <td>0</td>\n",
       "      <td>0</td>\n",
       "      <td>...</td>\n",
       "      <td>0</td>\n",
       "      <td>0</td>\n",
       "      <td>0</td>\n",
       "      <td>0</td>\n",
       "      <td>0</td>\n",
       "      <td>0</td>\n",
       "      <td>0</td>\n",
       "      <td>1</td>\n",
       "      <td>0</td>\n",
       "      <td>0</td>\n",
       "    </tr>\n",
       "    <tr>\n",
       "      <th>3</th>\n",
       "      <td>4</td>\n",
       "      <td>Get Shorty (1995)</td>\n",
       "      <td>01-Jan-1995</td>\n",
       "      <td>NaN</td>\n",
       "      <td>http://us.imdb.com/M/title-exact?Get%20Shorty%...</td>\n",
       "      <td>0</td>\n",
       "      <td>1</td>\n",
       "      <td>0</td>\n",
       "      <td>0</td>\n",
       "      <td>0</td>\n",
       "      <td>...</td>\n",
       "      <td>0</td>\n",
       "      <td>0</td>\n",
       "      <td>0</td>\n",
       "      <td>0</td>\n",
       "      <td>0</td>\n",
       "      <td>0</td>\n",
       "      <td>0</td>\n",
       "      <td>0</td>\n",
       "      <td>0</td>\n",
       "      <td>0</td>\n",
       "    </tr>\n",
       "    <tr>\n",
       "      <th>4</th>\n",
       "      <td>5</td>\n",
       "      <td>Copycat (1995)</td>\n",
       "      <td>01-Jan-1995</td>\n",
       "      <td>NaN</td>\n",
       "      <td>http://us.imdb.com/M/title-exact?Copycat%20(1995)</td>\n",
       "      <td>0</td>\n",
       "      <td>0</td>\n",
       "      <td>0</td>\n",
       "      <td>0</td>\n",
       "      <td>0</td>\n",
       "      <td>...</td>\n",
       "      <td>0</td>\n",
       "      <td>0</td>\n",
       "      <td>0</td>\n",
       "      <td>0</td>\n",
       "      <td>0</td>\n",
       "      <td>0</td>\n",
       "      <td>0</td>\n",
       "      <td>1</td>\n",
       "      <td>0</td>\n",
       "      <td>0</td>\n",
       "    </tr>\n",
       "  </tbody>\n",
       "</table>\n",
       "<p>5 rows × 24 columns</p>\n",
       "</div>"
      ],
      "text/plain": [
       "   Index              Title      Release  The Not a Number column  \\\n",
       "0      1   Toy Story (1995)  01-Jan-1995                      NaN   \n",
       "1      2   GoldenEye (1995)  01-Jan-1995                      NaN   \n",
       "2      3  Four Rooms (1995)  01-Jan-1995                      NaN   \n",
       "3      4  Get Shorty (1995)  01-Jan-1995                      NaN   \n",
       "4      5     Copycat (1995)  01-Jan-1995                      NaN   \n",
       "\n",
       "                                                Imdb  unknown  Action  \\\n",
       "0  http://us.imdb.com/M/title-exact?Toy%20Story%2...        0       0   \n",
       "1  http://us.imdb.com/M/title-exact?GoldenEye%20(...        0       1   \n",
       "2  http://us.imdb.com/M/title-exact?Four%20Rooms%...        0       0   \n",
       "3  http://us.imdb.com/M/title-exact?Get%20Shorty%...        0       1   \n",
       "4  http://us.imdb.com/M/title-exact?Copycat%20(1995)        0       0   \n",
       "\n",
       "   Adventure  Animation  Children's  ...  Fantasy  Film-Noir  Horror  Musical  \\\n",
       "0          0          1           1  ...        0          0       0        0   \n",
       "1          1          0           0  ...        0          0       0        0   \n",
       "2          0          0           0  ...        0          0       0        0   \n",
       "3          0          0           0  ...        0          0       0        0   \n",
       "4          0          0           0  ...        0          0       0        0   \n",
       "\n",
       "   Mystery  Romance  Sci-Fi  Thriller  War  Western  \n",
       "0        0        0       0         0    0        0  \n",
       "1        0        0       0         1    0        0  \n",
       "2        0        0       0         1    0        0  \n",
       "3        0        0       0         0    0        0  \n",
       "4        0        0       0         1    0        0  \n",
       "\n",
       "[5 rows x 24 columns]"
      ]
     },
     "execution_count": 8,
     "metadata": {},
     "output_type": "execute_result"
    }
   ],
   "source": [
    "movies = pd.read_csv(os.path.join(DATA_DIR, 'u.item'), sep='|', \n",
    "                     header=None, engine='python', encoding='latin-1')\n",
    "\n",
    "# Number of movies\n",
    "nb_movies = len(movies)\n",
    "\n",
    "# Genres\n",
    "movies_genre = np.matrix(movies.loc[:, 5:])\n",
    "movies_genre_name = np.array(pd.read_csv(os.path.join(DATA_DIR, 'u.genre'), sep='|', \n",
    "                                         header=None, engine='python', \n",
    "                                         encoding='latin-1').loc[:, 0])\n",
    "\n",
    "# Quick overview\n",
    "movies.columns = ['Index', 'Title', 'Release', 'The Not a Number column', 'Imdb'] +\n",
    "                  movies_genre_name.tolist()\n",
    "movies.head()"
   ]
  },
  {
   "cell_type": "markdown",
   "metadata": {},
   "source": [
    "Nous présentons les proportions de films en fonction du genre comme statistique descriptive."
   ]
  },
  {
   "cell_type": "code",
   "execution_count": 9,
   "metadata": {},
   "outputs": [
    {
     "data": {
      "image/png": "[encoded data removed]",
      "text/plain": [
       "<Figure size 432x288 with 1 Axes>"
      ]
     },
     "metadata": {},
     "output_type": "display_data"
    }
   ],
   "source": [
    "attributes, scores = utl.rearrange(movies_genre_name, \n",
    "                                   np.array(np.round(np.mean(movies_genre, axis=0) * 1,\n",
    "                                                     2))[0])\n",
    "utl.barplot(attributes, np.array(scores) * 100, xlabel='Genre', \n",
    "            ylabel='Pourcentage (%)', \n",
    "            title=\" \", rotation = 90)"
   ]
  },
  {
   "cell_type": "markdown",
   "metadata": {},
   "source": [
    "### 1.3.3 Ratings: Importation et traitement des données\n",
    "\n",
    "La base de données comportant les évaluations des films effectuées par les usagers est constituée d'environ 100 000 lignes (une évaluation par ligne) où sont respectivement recensés le numéro d'identification de l'utilisateur, le numéro d'identification du film, l'évaluation associée et un marqueur de temps auquel le film a été visionné. Les ensembles d'entraînement et de test ont été fournis tels quels, c'est-à-dire que nous n'avons pas besoin de les construire nous-mêmes, et comportent respectivement 80 000 et 20 000 évaluations.\n",
    "\n",
    "Pour des raisons pratiques, nous convertissons la base de données sous la forme d'une liste grâce à la fonction maison `convert`. "
   ]
  },
  {
   "cell_type": "code",
   "execution_count": 10,
   "metadata": {},
   "outputs": [],
   "source": [
    "training_set = np.array(pd.read_csv(os.path.join(DATA_DIR, 'u1.base'), delimiter='\\t'), \n",
    "                        dtype='int')\n",
    "testing_set = np.array(pd.read_csv(os.path.join(DATA_DIR, 'u1.test'), delimiter='\\t'), \n",
    "                       dtype='int')\n",
    "\n",
    "train_set = utl.convert(training_set, nb_users, nb_movies)\n",
    "test_set = utl.convert(testing_set, nb_users, nb_movies)"
   ]
  },
  {
   "cell_type": "markdown",
   "metadata": {},
   "source": [
    "Comme nous l'avons fait auparavant, nous pouvons obtenir quelques statistiques descriptives associées aux évaluations. Dans un premier temps, il pourrait être intéressant d'étudier les tendances moyennes des individus.\n",
    "\n",
    "##### Question 1\n",
    "\n",
    "1. Quels autres types de statistiques pourraient être intéressantes?\n",
    "\n",
    "##### Réponse 1\n",
    "\n",
    "1. Nous pourrions définir les différentes statistiques ci-dessous en fonction d'autres attributs, tels le sexe des usagers, leur occupation ou encore leur âge."
   ]
  },
  {
   "cell_type": "code",
   "execution_count": 11,
   "metadata": {},
   "outputs": [
    {
     "data": {
      "text/html": [
       "<div>\n",
       "<style scoped>\n",
       "    .dataframe tbody tr th:only-of-type {\n",
       "        vertical-align: middle;\n",
       "    }\n",
       "\n",
       "    .dataframe tbody tr th {\n",
       "        vertical-align: top;\n",
       "    }\n",
       "\n",
       "    .dataframe thead th {\n",
       "        text-align: right;\n",
       "    }\n",
       "</style>\n",
       "<table border=\"1\" class=\"dataframe\">\n",
       "  <thead>\n",
       "    <tr style=\"text-align: right;\">\n",
       "      <th></th>\n",
       "      <th>count</th>\n",
       "      <th>mean</th>\n",
       "      <th>std</th>\n",
       "      <th>min</th>\n",
       "      <th>25%</th>\n",
       "      <th>50%</th>\n",
       "      <th>75%</th>\n",
       "      <th>max</th>\n",
       "    </tr>\n",
       "  </thead>\n",
       "  <tbody>\n",
       "    <tr>\n",
       "      <th>0</th>\n",
       "      <td>943.0</td>\n",
       "      <td>84.834571</td>\n",
       "      <td>83.805787</td>\n",
       "      <td>4.0</td>\n",
       "      <td>27.0</td>\n",
       "      <td>50.0</td>\n",
       "      <td>115.0</td>\n",
       "      <td>685.0</td>\n",
       "    </tr>\n",
       "  </tbody>\n",
       "</table>\n",
       "</div>"
      ],
      "text/plain": [
       "   count       mean        std  min   25%   50%    75%    max\n",
       "0  943.0  84.834571  83.805787  4.0  27.0  50.0  115.0  685.0"
      ]
     },
     "execution_count": 11,
     "metadata": {},
     "output_type": "execute_result"
    }
   ],
   "source": [
    "train_matrix = np.array(train_set)\n",
    "shape = (len(train_set), len(train_set[0]))\n",
    "train_matrix.reshape(shape)\n",
    "train_matrix_bool = np.where(train_matrix > 0 , 1, 0)\n",
    "\n",
    "user_watch = np.sum(train_matrix_bool, axis=1)\n",
    "pd.DataFrame(user_watch).describe().T"
   ]
  },
  {
   "cell_type": "markdown",
   "metadata": {},
   "source": [
    "Avec un petit histogramme..."
   ]
  },
  {
   "cell_type": "code",
   "execution_count": 12,
   "metadata": {},
   "outputs": [
    {
     "data": {
      "image/png": "[encoded data removed]",
      "text/plain": [
       "<Figure size 864x576 with 1 Axes>"
      ]
     },
     "metadata": {},
     "output_type": "display_data"
    }
   ],
   "source": [
    "sns.set(rc={'figure.figsize':(12,8)})\n",
    "sns.set(font_scale = 1.5)\n",
    "\n",
    "plt.title('Distribution empirique du\\n nombre de films regardés par utilisateur')\n",
    "plt.xlabel('Number of movies watched')\n",
    "plt.ylabel('Number of users')\n",
    "plt.hist(user_watch, 100);"
   ]
  },
  {
   "cell_type": "markdown",
   "metadata": {},
   "source": [
    "Nous présentons finalement quelques statistiques associées aux films."
   ]
  },
  {
   "cell_type": "code",
   "execution_count": 13,
   "metadata": {},
   "outputs": [
    {
     "data": {
      "text/html": [
       "<div>\n",
       "<style scoped>\n",
       "    .dataframe tbody tr th:only-of-type {\n",
       "        vertical-align: middle;\n",
       "    }\n",
       "\n",
       "    .dataframe tbody tr th {\n",
       "        vertical-align: top;\n",
       "    }\n",
       "\n",
       "    .dataframe thead th {\n",
       "        text-align: right;\n",
       "    }\n",
       "</style>\n",
       "<table border=\"1\" class=\"dataframe\">\n",
       "  <thead>\n",
       "    <tr style=\"text-align: right;\">\n",
       "      <th></th>\n",
       "      <th>count</th>\n",
       "      <th>mean</th>\n",
       "      <th>std</th>\n",
       "      <th>min</th>\n",
       "      <th>25%</th>\n",
       "      <th>50%</th>\n",
       "      <th>75%</th>\n",
       "      <th>max</th>\n",
       "    </tr>\n",
       "  </thead>\n",
       "  <tbody>\n",
       "    <tr>\n",
       "      <th>0</th>\n",
       "      <td>1682.0</td>\n",
       "      <td>0.050437</td>\n",
       "      <td>0.068664</td>\n",
       "      <td>0.0</td>\n",
       "      <td>0.005302</td>\n",
       "      <td>0.022269</td>\n",
       "      <td>0.066808</td>\n",
       "      <td>0.513256</td>\n",
       "    </tr>\n",
       "  </tbody>\n",
       "</table>\n",
       "</div>"
      ],
      "text/plain": [
       "    count      mean       std  min       25%       50%       75%       max\n",
       "0  1682.0  0.050437  0.068664  0.0  0.005302  0.022269  0.066808  0.513256"
      ]
     },
     "execution_count": 13,
     "metadata": {},
     "output_type": "execute_result"
    }
   ],
   "source": [
    "movie_frequency = np.mean(train_matrix_bool, axis=0)\n",
    "pd.DataFrame(movie_frequency).describe().T"
   ]
  },
  {
   "cell_type": "markdown",
   "metadata": {},
   "source": [
    "##### Question 2\n",
    "\n",
    "1. Quelles statistiques ou observations pourraient nous paraître pertinentes? Pourquoi? \n",
    "2. Quel type de statistique pourrait être plus approprié dans un tel contexte?\n",
    "\n",
    "##### Réponse 2\n",
    "\n",
    "1. Un simple coup d'oeil à l'histogramme ci-dessous, nous constatons qu'environ 25% des films ont été visionnés par moins de 1% de la population. Certains films ont été visionnés par une grande majorité. En fait, c'est assez difficile de définir une tendance, puisqu'il y a des événements rares comme les blockbusters tel <i>Histoire de jouets</i> et une grande quantité de valeurs pratiquement nulles. Dans tous les cas, les statistiques les moins pertinentes à nos yeux sont la moyenne et l'erreur standard.\n",
    "2. Toutes statistiques descriptives robustes aux événements rares."
   ]
  },
  {
   "cell_type": "code",
   "execution_count": 14,
   "metadata": {},
   "outputs": [
    {
     "data": {
      "image/png": "[encoded data removed]",
      "text/plain": [
       "<Figure size 864x576 with 1 Axes>"
      ]
     },
     "metadata": {},
     "output_type": "display_data"
    }
   ],
   "source": [
    "plt.xlabel('Proportion des utilisateurs ayant regardés le film')\n",
    "plt.ylabel('Nombre de films')\n",
    "plt.hist(movie_frequency, 100);"
   ]
  },
  {
   "cell_type": "markdown",
   "metadata": {},
   "source": [
    "#### Étude des préférences individuelles en fonction du type de film\n",
    "\n",
    "Nous pourrions également nous intéresser au comportement d'un individu en particulier. Entre autres choses, nous pourrions étudier s'il y a un biais associé à son schème d'évaluation ou encore quelles sont ses préférences cinématographiques en fonction du score attribué."
   ]
  },
  {
   "cell_type": "code",
   "execution_count": 15,
   "metadata": {},
   "outputs": [],
   "source": [
    "def stats_user(data, movies_genre, user_id):\n",
    "    \n",
    "    ratings = data[user_id]\n",
    "    stats = np.zeros(6)\n",
    "    eva = np.zeros((6, movies_genre.shape[1]))\n",
    "\n",
    "    for k in np.arange(len(ratings)):\n",
    "        index = int(ratings[k])\n",
    "        stats[index] += 1\n",
    "        eva[index, :] = eva[index, :] + movies_genre[k]\n",
    "\n",
    "    return stats, eva"
   ]
  },
  {
   "cell_type": "code",
   "execution_count": 16,
   "metadata": {},
   "outputs": [
    {
     "data": {
      "image/png": "[encoded data removed]",
      "text/plain": [
       "<Figure size 432x288 with 1 Axes>"
      ]
     },
     "metadata": {},
     "output_type": "display_data"
    }
   ],
   "source": [
    "user_id = 0\n",
    "stats, eva = stats_user(train_set, movies_genre, user_id)\n",
    "utl.barplot(np.arange(5) + 1, stats[1:6] / sum(stats[1:6]), xlabel=\"Nombre d'étoiles\", \n",
    "            ylabel='Pourcentage des films (%)', \n",
    "            title=\" \", rotation = 0)"
   ]
  },
  {
   "cell_type": "markdown",
   "metadata": {},
   "source": [
    "##### Question 3\n",
    "\n",
    "1. Comment vérifier qu'il existe un biais associé au schème d'évaluation d'un individu?\n",
    "\n",
    "##### Réponse 3\n",
    "\n",
    "1. Une façon simple serait d'effectuer un test-t afin de vérifier sur le score moyen d'un individu est significativement différent de ceux de l'ensemble d'une population."
   ]
  },
  {
   "cell_type": "markdown",
   "metadata": {},
   "source": [
    "## 1.5 Création des sous-ensembles d'entraînement et de validation\n",
    "\n",
    "En apprentissage automatique, nous manipulons des <a href=\"https://blogs.nvidia.com/blog/2018/04/15/nvidia-research-image-translation/\">bases de données complexes</a> pour lesquelles nous tentons de définir des espaces de fonctions tout aussi complexes dans le but d'accomplir une tâche précise. Ceci étant, ces espaces de fonctions sont définis par un ensemble de paramètres dont le nombre tend à augmenter avec la complexité des données. Une fois l'espace défini par un ensemble de paramètres fixés, nous pouvons varier les différentes valeurs d'hyperparamètres afin d'explorer empiriquement les espaces de fonctions. Pour choisir l'ensemble des paramètres et d'hyperparamètres optimaux, nous définissons une métrique nous permettant d'évaluer le modèle; par exemple, à quel point l'image d'un chat nous paraît vraisemblable. \n",
    "\n",
    "Dans la mesure où nous voulons développer un modèle capable de généraliser l'évaluation de ses performances et la sélection des hyperparamètres doit se faire sur un ensemble de données indépendant, mais issues de la même distribution, de l'ensemble sur lequel il a appris. Pareil ensemble porte le nom **d'ensemble de validation**.\n",
    "\n",
    "<b>! Remarque !</b> \n",
    "\n",
    "La notion d'ensemble d'entraînement et de test dans le cadre de système de recommandation est quelque peu différente de ce que l'on voit habituellement avec les problèmes dits supervisés. Si dans le cadre d'un problème supervisé, l'ensemble de test consiste essentiellement en de nouvelles observations (lire « lignes de la matrice des observations ») indépendantes des observations préalablement observées dans l'ensemble d'entraînement, le paradigme est sensiblement différent lorsque nous travaillons avec des systèmes de recommandation.\n",
    "\n",
    "Effectivement, **les données appartenant à l'ensemble de test ne sont pas liées à un nouvel individu, mais bien à de nouvelles évaluations, faites par le même ensemble d'individus et jusqu'alors inobservées**. Dès lors, les données associées aux ensembles d'entraînement, de validation et de test ne sont plus indépendantes telles que supposées (la fameuse hypothèse <i> iid </i>); ce qui complique théoriquement les choses.\n",
    "\n",
    "Puisque le but de l'atelier n'est pas d'étudier la notion de biais associée au type de dépendance entre les différentes évaluations dans les systèmes de recommandation, nous allons naïvement supposer que chacune des évaluations est indépendante des autres. N'empêche, dans un cadre pratique, ignorer ce genre de considérations pourra éventuellement biaiser les algorithmes."
   ]
  },
  {
   "cell_type": "code",
   "execution_count": 17,
   "metadata": {},
   "outputs": [],
   "source": [
    "def split(data, ratio, tensor=False):\n",
    "    train = np.zeros((len(data), len(data[0]))).tolist()\n",
    "    valid = np.zeros((len(data), len(data[0]))).tolist()\n",
    "\n",
    "    for i in range(len(data)):\n",
    "        for j in range(len(data[i])):\n",
    "            if data[i][j] > 0:\n",
    "                if np.random.binomial(1, ratio, 1):\n",
    "                    train[i][j] = data[i][j]\n",
    "                else:\n",
    "                    valid[i][j] = data[i][j]\n",
    "\n",
    "    return [train, valid]\n",
    "\n",
    "train = split(train_set, 0.8)\n",
    "test = test_set"
   ]
  },
  {
   "cell_type": "markdown",
   "metadata": {},
   "source": [
    "# 2. Système de recommandation: factorisation matricielle "
   ]
  },
  {
   "cell_type": "markdown",
   "metadata": {},
   "source": [
    "## 2.1 Modèle\n",
    "\n",
    "La factorisation matricielle (FM) suppose que chaque évaluation observée $r_{ui}$ pour $1 \\leq u \\leq |U|$ et $1 \\leq i \\leq |I|$, où $|U|$ et $|I|$ dénotent respectivement le nombre total d'usagers et d'items, peut être estimée en considérant un modèle latent. Cette modélisation s'avère être une estimation $\\hat{r}_{ui}$ de l'observation associée $r_{ui}$ et est définie par:\n",
    "\n",
    "$$\n",
    "\\begin{align}\n",
    "\\hat{r}_{ui} =  \\langle p_{u}, q_{i} \\rangle, \n",
    "\\end{align}\n",
    "$$\n",
    "\n",
    "où $\\langle \\cdot \\rangle$ symbolise le produit scalaire alors que $p_{u}$ et $q_{i}$ sont les représentations latentes sous forme vectorielle associées à l'usager $u$ et à l'item $i$. L'intuition derrière cette représentation suggère que chaque évaluation peut être estimée en considérant une caractérisation latente des usagers et des items. \n",
    "\n",
    "À titre d'exemple, fixons le nombre de variables latentes à trois et supposons encore que celles-ci sont associées à i) la popularité du film au box-office, ii) sa durée et finalement iii) son niveau de romantisme. Définissons l'usager $u$ comme étant un adolescent de 15 ans aimant les films populaires, relativement courts et très macabres. Nous pourrons modéliser le vecteur latent associé par:\n",
    "\n",
    "$$\n",
    "\\begin{align}\n",
    "p_{u} = [1, 0, 0]^T.\n",
    "\\end{align}\n",
    "$$\n",
    "\n",
    "Supposons maintenant que le film $i$ s'avère être <i>Le Roi lion</i> auquel est associée la modélisation suivante:\n",
    "\n",
    "$$\n",
    "\\begin{align}\n",
    "q_{i} = [1, 0.5, 0]^T.\n",
    "\\end{align}\n",
    "$$\n",
    "\n",
    "L'estimation de l'évaluation pour cet usager et item précis en fonction des représentations latentes sera donc:\n",
    "\n",
    "$$\n",
    "\\begin{align}\n",
    "\\hat{r}_{ui} =  \\langle p_u, q_i \\rangle = 1.\n",
    "\\end{align}\n",
    "$$\n",
    "\n",
    "Le principal défi dans ce type de modélisation est de définir l'ensemble des vecteurs latents associés aux usagers, regroupés sous la forme matricielle par $\\mathbf{P}_{|U|\\times k} = [p_1, p_2, ..., p_k]$, et aux items, regroupés sous la forme matricielle par $\\mathbf{Q}_{|I|\\times k} = [q_1, q_2, ..., q_k]$. \n",
    " \n",
    "Puisque le problème initial consiste à présenter les estimations les plus justes, et donc à calculer $\\mathbf{P}$ et $\\mathbf{Q}$ de manière à minimiser la distance entre la totalité des évaluations observées $r_{ui}$ et leur estimation $\\hat{r}_{ui}$, nous pouvons définir la tâche à accomplir avec le problème d'optimisation suivant:\n",
    "\n",
    "$$\n",
    "\\begin{align}\n",
    "\\mathbf{P}, \\mathbf{Q} = \\underset{p, q}{\\operatorname{argmin}} \\sum_{r_{ui} \\neq 0} (r_{ui} - \\hat{r}_{ui})^2 = \\underset{p, q}{\\operatorname{argmin}}  \\sum_{r_{ui} \\neq 0} (r_{ui} - \\langle p_u, q_i \\rangle)^2.\n",
    "\\end{align}\n",
    "$$\n",
    "\n",
    "Au problème d'optimisation ci-dessus, nous ajouterons une contrainte sur les variables latentes, afin de forcer les vecteurs associés à avoir de petites composantes:\n",
    "\n",
    "$$\n",
    "\\begin{align}\n",
    "\\mathbf{P}, \\mathbf{Q} = \\underset{p, q}{\\operatorname{argmin}} \\sum_{r_{ui} \\neq 0} \\{(r_{ui} - \\langle p_u, q_i \\rangle)^2 + \\lambda(||p_u||^2 + ||q_i||^2)\\},\n",
    "\\end{align}\n",
    "$$\n",
    "\n",
    "où $\\lambda$ est la régularisation, plus souvent nommé <i>weight decay</i> en apprentissage profond ou encore multiplicateur de Lagrange en mathématiques. \n",
    "\n",
    "De façon générale, le problème d'optimisation ci-dessus, qui s'avère à factoriser une matrice creuse, ne peut se résoudre aussi facilement qu'à l'aide des moindres carrés comme c'est le cas dans le cadre de la régression linéaire par exemple. Deux méthodes seront présentées au cours de ce tutoriel pour estimer les matrices $\\mathbf{P}$ et $\\mathbf{Q}$."
   ]
  },
  {
   "cell_type": "markdown",
   "metadata": {},
   "source": [
    "## 2.2 Implémentation\n",
    "\n",
    "Afin de construire un système de recommandation basé sur la factorisation matricielle, nous devrons définir quelques fonctions nécessaires à ce type d'algorithme. Globalement, nous pouvons décliner l'algorithme de factorisation matricielle en trois étapes:\n",
    "<r>\n",
    "\n",
    "1. <b> Boucle d'apprentissage</b>: Passe en revue chacune des évaluations en boucle jusqu'à ce que le modèle estimé ne varie que légèrement d'une itération à l'autre en fonction d'un critère choisi.\n",
    "2. <b> Estimation</b>:  Estimation des matrices de facteurs $\\mathbf{P}$ et $\\mathbf{Q}$ respectivement associées aux users et aux items.\n",
    "3. <b> Évaluation</b>: Évaluation de la performance du modèle en fonction d'une métrique choisie.\n"
   ]
  },
  {
   "cell_type": "markdown",
   "metadata": {},
   "source": [
    "### 2.2.1 Boucle d'apprentissage\n",
    "\n",
    "La fonction consiste simplement à passer en boucle les différentes évaluations jusqu'à ce qu'un critère d'arrêt donné soit respecté.\n",
    "\n",
    "##### Question 4\n",
    "\n",
    "1. Dans le cas des estimateurs obtenus via la descente de gradient stochastique (SGD), quelle condition devrions-nous rajouter à la ligne 17? Et pourquoi?\n",
    "2. À la fin de chaque époque, quelle statistique serait-il préférable de calculer? Codez-la. Remarque : il est préférable d'initialiser des objets en début de fonction (voir ligne 6).\n",
    "3. Donnez deux raisons pour lesquelles ces statistiques sont utiles.\n",
    "4. Le critère d'arrêt pour éviter le surapprentissage à la ligne 30 est plutôt naïf. Pourquoi?\n",
    "5. Développez un nouveau critère d'arrêt.\n",
    "\n",
    "##### Réponse 4\n",
    "\n",
    "1. Tel que présenté dans la présentation du modèle, seules les évaluations observées, et donc les valeurs non nulles de la matrice $\\mathbf{R}$ sont considérées.\n",
    "2. En ce qui nous concerne, l'erreur quadratique moyenne sur les ensembles d'entraînement et de validation devra être calculée. De façon générale, après chaque époque, nous calculerons la fonction de perte sur les différents ensembles (mais pas celle associée à l'ensemble de test!). \n",
    "3. Sous l'hypothèse qu'une fonction de coût est monotone sur l'ensemble d'entraînement (bref que le modèle s'améliore constamment sur cet ensemble), il est fort probable que celui-ci va surapprendre ce même ensemble. Afin de contrecarrer cette difficulté, un critère d'arrêt peut jouer le rôle de garde-fou contre le surapprentissage. Enfin, la deuxième raison est plutôt de nature computationnelle; il peut être intéressant que l'algorithme s'arrête après un certain temps et nous fournisse un modèle...\n",
    "4. Le critère ne considère qu'une seule valeur. Cette valeur nous semble un peu aléatoire; est-ce beaucoup ou est-ce trop peu considérant la vraisemblance des données que nous manipulons?\n",
    "5. Le nouveau critère prend en compte la dernière remarque. En fait, nous proposons de considérer la différence entre les deux dernières entrées associée à l'ensemble d'entraînement."
   ]
  },
  {
   "cell_type": "code",
   "execution_count": 18,
   "metadata": {},
   "outputs": [],
   "source": [
    "def learn_to_recommend(data, features=10, lr=0.0002, epochs=101, weight_decay=0.02, \n",
    "                       stopping=0.001):\n",
    "    \"\"\"\n",
    "    Args:\n",
    "      data: ensemble des évaluations\n",
    "      features: variables latentes\n",
    "      lr: learning rate pour la descente de gradient\n",
    "      epochs: nombre d'iterations ou boucles maximales à effectuer\n",
    "      weight_decay: régularisation de type L2 afin de prédire des valeurs \n",
    "                    differentes de 0\n",
    "      stopping: scalaire associé au critère d'arrête\n",
    "      \n",
    "    Returns:\n",
    "      P: matrice latente associée aux usagers\n",
    "      Q: matrice latente associée aux items\n",
    "      loss_train: vecteur des valeurs de la fct perte après chaque itération sur train\n",
    "      loss_valid: vecteur des valeurs de la fct perte après chaque itération sur valid\n",
    "      \"\"\"\n",
    "    \n",
    "    \n",
    "    train, valid = data[0], data[1]\n",
    "    nb_users, nb_items = len(train), len(train[0])\n",
    "\n",
    "    # Réponse 4.2: Liste à initialiser \n",
    "    loss_train, loss_valid = [], []\n",
    "    \n",
    "    P = np.random.rand(nb_users, features) * 0.1\n",
    "    Q = np.random.rand(nb_items, features) * 0.1\n",
    "    \n",
    "    for k in range(epochs):        \n",
    "        for i in range(nb_users):\n",
    "            for j in range(nb_items):\n",
    "\n",
    "                # Réponse 4.1: codez la condition sur cette ligne\n",
    "                if train[i][j] > 0:\n",
    "                    eij = train[i][j] - prediction(P, Q, i, j)\n",
    "                    P, Q = sgd(eij, P, Q, i, j, features, lr)\n",
    "                               \n",
    "        # Questions 4.2: Codez la statistique\n",
    "        loss_train.append(loss(train, P, Q))\n",
    "        loss_valid.append(loss(valid, P, Q))\n",
    "        \n",
    "        if k % 10 == 0:\n",
    "            print('Epoch : ', \"{:3.0f}\".format(k+1), \n",
    "                  ' | Train :', \"{:3.3f}\".format(loss_train[-1]), \n",
    "                  ' | Valid :', \"{:3.3f}\".format(loss_valid[-1]))\n",
    "\n",
    "        # Question 4.4: \n",
    "        if abs(loss_train[-1]) < stopping:\n",
    "            break\n",
    "            \n",
    "        # Question 4.5: Nouveau critère d'arrêt\n",
    "        #if abs(loss_valid[-1] - loss_valid[-2]) < 0.001:\n",
    "        #    break\n",
    "        \n",
    "    return P, Q, loss_train, loss_valid"
   ]
  },
  {
   "cell_type": "markdown",
   "metadata": {},
   "source": [
    "### 2.2.2 Fonction de coût\n",
    "\n",
    "La fonction de coût joue un rôle déterminant dans la construction d'un modèle prédictif. En effet, c'est cette même fonction de coût que nous essaierons de minimiser (ou maximiser c'est selon) en ajustant de façon itérative les valeurs des matrices latentes.\n",
    "\n",
    "Dans la mesure où l'on considère que les évaluations considérées varient entre 1 et 5, l'erreur quadratique moyenne (EQM) semble une première option intéressante. Formellement, dans le cadre d'un système de recommandation, nous définirons l'EQM ainsi : \n",
    "\n",
    "$$\n",
    "\\begin{align}\n",
    "EQM (\\mathbf{R}, \\hat{\\mathbf{R}}) = \\frac{1}{n} \\sum_{r_{ui} \\neq 0} (r_{ui} - \\hat{r}_{ui})^2, \n",
    "\\end{align}\n",
    "$$\n",
    "\n",
    "où $\\mathbf{R}$ et $\\hat{\\mathbf{R}}$ sont respectivement les matrices des évaluations observées et prédites, <i>n</i> est le nombre total d'évaluations estimées. De la même façon, $r_{ui}$ et $\\hat{r}_{ui}$ sont des scalaires associés respectivement à l'évaluation observée et l'évaluation estimée de l'usager $u$ pour l'item $i$.\n",
    "\n",
    "##### Question 5\n",
    "\n",
    "1. Supposons que nous voulons prédire l'évaluation de l'individu <i>i</i> pour le film <i>j</i>, comment devrions-nous nous y prendre? Implémentez la fonction prédiction.\n",
    "2. Un détail important est manquant dans la fonction `loss` suivante. En quoi cette erreur est fondamentale? Corrigez-la.\n",
    "\n",
    "##### Réponse 5\n",
    "\n",
    "2. Il manque la condition sur les valeurs non nulles!"
   ]
  },
  {
   "cell_type": "code",
   "execution_count": 19,
   "metadata": {},
   "outputs": [],
   "source": [
    "# Réponse 5.1: Implémentez la fonction prédiction\n",
    "def prediction(P, Q, i, j):\n",
    "    \"\"\"\n",
    "    Args:\n",
    "       P: matrice des usagers\n",
    "       Q: matrice des items\n",
    "       i: indice associé à l'usager i\n",
    "       j: indice associé à l'item j\n",
    "    \n",
    "    Returns:\n",
    "       pred: l'évaluation prédite de l'usager i pour l'item j\n",
    "       \"\"\"\n",
    "    return np.dot(P[i, :], Q[j, :])\n",
    "\n",
    "def loss(data, P, Q):\n",
    "    \"\"\"\n",
    "    Args:\n",
    "       data: données\n",
    "       P: matrice des usagers\n",
    "       Q: matrice des items\n",
    "       \n",
    "    Returns:\n",
    "        EQM: la moyenne observée des erreurs au carré\n",
    "        \"\"\"\n",
    "\n",
    "    errors_sum, nb_evaluations = 0., 0\n",
    "\n",
    "    for i in range(len(data)):\n",
    "        for j in range(len(data[i])):\n",
    "            \n",
    "            # Réponse 5.2: Un détail important\n",
    "            if data[i][j] > 0:\n",
    "                errors_sum += pow(data[i][j] - prediction(P, Q, i, j), 2)\n",
    "                nb_evaluations += 1\n",
    "    return errors_sum / nb_evaluations"
   ]
  },
  {
   "cell_type": "markdown",
   "metadata": {},
   "source": [
    "### 2.2.3 Estimation\n",
    "\n",
    "La méthode d'estimation des paramètres du modèle est directement associée à la fonction de coût que nous essayons de minimiser. Avec la factorisation matricielle, deux techniques d'estimation sont disponibles afin de calculer les matrices latentes $\\mathbf{P}$ et $\\mathbf{Q}$ respectivement associées aux usagers et aux items. Dans tous les cas, ces techniques font appel à la linéarité du modèle de factorisation matriciel.\n",
    "\n",
    "#### Descente du gradient\n",
    "\n",
    "Dans un premier temps, nous implémentons la descente stochastique du gradient (SGD): une méthode itérative passant en revue l'ensemble des évaluations non nulles pour chacun des usagers.\n",
    "\n",
    "Formellement, et en se rappelant que la fonction que nous essayons de minimiser est:\n",
    "\n",
    "$$\n",
    "\\begin{align}\n",
    "\\underset{p, q}{\\operatorname{min}} L(\\mathbf{R}, \\lambda) = \\underset{p, q}{\\operatorname{min}} \\sum_{r_{ui} \\neq 0} \\{(r_{ui} - \\langle p_u, q_i \\rangle)^2 + \\lambda \\cdot (||p_u||^2 + ||q_i||^2)\\},\n",
    "\\end{align}\n",
    "$$\n",
    "\n",
    "nous calculons que les gradients de la précédente équation en fonction de $p_u$ et $q_i$ sont:\n",
    "\n",
    "$$\n",
    "\\nabla_{p_{u}} L(\\mathbf{R}, \\lambda) =  \\epsilon_{ui} \\cdot q_{i} - \\lambda \\cdot p_{u} \\quad \\text{et} \\quad \n",
    "\\nabla_{q_{i}} L(\\mathbf{R}, \\lambda) =  \\epsilon_{ui} \\cdot p_{u} - \\lambda \\cdot q_{i},\n",
    "$$\n",
    "\n",
    "où\n",
    "\n",
    "$$\n",
    "\\epsilon_{ui} = r_{ui} - \\hat{r}_{ui}. \n",
    "$$\n",
    "\n",
    "Enfin, pour chaque itération, et dans la mesure où l'évaluation observée est non-nulle, chacune des mises à jours des vecteurs latentes pourra se faire ainsi:\n",
    "\n",
    "$$\n",
    "p_{u}^{(t+1)} \\leftarrow p_{u}^{(t)} + \\gamma \\cdot (\\epsilon_{ui} \\cdot q_{i}^{(t)} - \\lambda \\cdot p_{u}^{(t)}) \\\\\n",
    "q_{i}^{(t+1)} \\leftarrow q_{i}^{(t)} + \\gamma \\cdot (\\epsilon_{ui} \\cdot p_{u}^{(t)} - \\lambda \\cdot q_{i}^{(t)}),\n",
    "$$\n",
    "\n",
    "où $p_{u}^{(t+1)}$ dénote la valeur de $p_{u}$ après la $t + 1$ ième itération et où $\\gamma$ est le pas d'apprentissage (<i>learning rate</i>) de la descente. \n",
    "\n",
    "#### Remarques sur les moindres carrés alternés\n",
    "\n",
    "La deuxième technique est basée sur les moindres carrés alternés (ALS). Cette méthode a ceci d'élégant qu'elle permet une forme analytique. Nous ne l'implémenterons pas dans le cadre de cet atelier.\n",
    "\n",
    "##### Question 6\n",
    "\n",
    "1. En considérant les équations associées à la descente du gradient, complétez la fonction `sgd` afin d'implémenter la descente stochastique du gradient. "
   ]
  },
  {
   "cell_type": "code",
   "execution_count": 20,
   "metadata": {},
   "outputs": [],
   "source": [
    "def sgd(error, P, Q, id_user, id_item, features, lr):\n",
    "    \"\"\"\n",
    "    Args:\n",
    "       error: différence entre l'évaluation observée et celle prédite (dans cet ordre)\n",
    "       P: matrix of users\n",
    "       Q: matrix of items\n",
    "       id_user: id_user\n",
    "       id_item: id_item\n",
    "       features: nombre de variables latentes\n",
    "       lr: pas d'apprentissage pour la descente du gradient\n",
    "       \n",
    "    Returns:\n",
    "        P: la nouvelle estimation de P\n",
    "        Q: la nouvelle estimation de Q\n",
    "        \"\"\"\n",
    "    \n",
    "    # Question 6.1 : Implémentez la SGD\n",
    "    for l in range(features):\n",
    "        P[id_user, l] = P[id_user, l] +\n",
    "                          lr * (error * Q[id_item, l] - weight_decay * P[id_user, l])\n",
    "        Q[id_item, l] = Q[id_item, l] + \n",
    "                          lr * (error) * P[id_user, l] - weight_decay * Q[id_item, l]\n",
    "        \n",
    "    return P, Q"
   ]
  },
  {
   "cell_type": "markdown",
   "metadata": {},
   "source": [
    "## 2.3 Entraînement du modèle\n",
    "\n",
    "La factorisation matricielle maintenant implémentée, nous pouvons commencer à entraîner le modèle avec différents paramètres et hyperparamètres. L'idée ici n'est pas d'ajuster les paramètres de façon telle à obtenir le meilleur modèle possible, mais simplement de comprendre le rôle que ceux-ci peuvent jouer, tant du point de vue du surapprentissage que du temps de calcul. En fait, ici, il n'y a que très peu de mauvaises réponses."
   ]
  },
  {
   "cell_type": "code",
   "execution_count": 21,
   "metadata": {},
   "outputs": [
    {
     "name": "stdout",
     "output_type": "stream",
     "text": [
      "Epoch :    1  | Train : 2.236  | Valid : 2.355\n",
      "Epoch :   11  | Train : 1.081  | Valid : 1.152\n",
      "Epoch :   21  | Train : 1.062  | Valid : 1.132\n",
      "Epoch :   31  | Train : 1.024  | Valid : 1.109\n",
      "Epoch :   41  | Train : 0.991  | Valid : 1.093\n",
      "Epoch :   51  | Train : 0.967  | Valid : 1.084\n"
     ]
    }
   ],
   "source": [
    "features = 5\n",
    "lr = 0.02\n",
    "epochs = 51\n",
    "weight_decay = 0.02\n",
    "stopping = 0.01\n",
    "\n",
    "P, Q, loss_train, loss_valid = learn_to_recommend(train, features, lr, epochs, \n",
    "                                                  weight_decay, stopping)"
   ]
  },
  {
   "cell_type": "markdown",
   "metadata": {},
   "source": [
    "Une fois, le modèle entraîné, nous pouvons visualiser les différentes courbes d'apprentissage."
   ]
  },
  {
   "cell_type": "code",
   "execution_count": 22,
   "metadata": {},
   "outputs": [
    {
     "data": {
      "image/png": "[encoded data removed]",
      "text/plain": [
       "<Figure size 864x576 with 1 Axes>"
      ]
     },
     "metadata": {},
     "output_type": "display_data"
    }
   ],
   "source": [
    "x = list(range(len(loss_train)))\n",
    "k=0\n",
    "\n",
    "sns.set(rc={'figure.figsize':(12,8)})\n",
    "sns.set(font_scale = 1.5)\n",
    "\n",
    "plt.plot(x[-k:], loss_train[-k:], 'r', label=\"Train\")\n",
    "plt.plot(x[-k:], loss_valid[-k:], 'g', label=\"Validation\")\n",
    "plt.title('Learning curves')\n",
    "plt.xlabel('Epoch')\n",
    "plt.ylabel('MSE')\n",
    "leg = plt.legend(loc='best', shadow=True, fancybox=True)"
   ]
  },
  {
   "cell_type": "markdown",
   "metadata": {},
   "source": [
    "##### Question 7\n",
    "\n",
    "1. Était-ce vraiment nécessaire de calculer autant d'époques?\n",
    "2. En nous inspirant de ces courbes, quel critère d'arrêt pourrions-nous développer?\n",
    "3. En quoi est-il plus pertinent que celui défini dans la boucle d'apprentissage?\n",
    "4. Implémentez-le.\n",
    "\n",
    "##### Réponse 7\n",
    "\n",
    "1. En considérant le comportement de la courbe de validation, qui à trois décimales près, ne change plus, visiblement non. \n",
    "2. Nous pourrions considérer un critère où l'arrêt d'une amélioration sur l'ensemble de validation provoque un arrêt automatique.\n",
    "3. Dans la mesure où les modèles en apprentissage automatique cherchent à généraliser, un critère fonction d'un ensemble indépendant à l'ensemble d'entraînement est pertinent."
   ]
  },
  {
   "cell_type": "markdown",
   "metadata": {},
   "source": [
    "Enfin, nous pouvons évaluer les performances de notre modèle sur l'ensemble test.\n",
    "\n",
    "##### Question 8\n",
    "\n",
    "1. Implémentez la procédure.\n",
    "2. En quoi est-ce pertinent d'évaluer les performances sur un tel ensemble?\n",
    "\n",
    "##### Réponse 8\n",
    "\n",
    "2. Les résultats sur l'ensemble de test sont utilisés comme étalon-or en apprentissage automatique. En fait, dans la littérature notamment, ils permettent de mesurer la capacité des modèles à généraliser."
   ]
  },
  {
   "cell_type": "code",
   "execution_count": 23,
   "metadata": {},
   "outputs": [
    {
     "data": {
      "text/plain": [
       "1.1238161458260751"
      ]
     },
     "execution_count": 23,
     "metadata": {},
     "output_type": "execute_result"
    }
   ],
   "source": [
    "# Réponse 7.1\n",
    "loss(test, P, Q)"
   ]
  },
  {
   "cell_type": "markdown",
   "metadata": {},
   "source": [
    "## 2.4 Analyse\n",
    "\n",
    "**! Remarque !**\n",
    "\n",
    "Bien que cette section soit particulièrement intéressante, vous pouvez directement aller à la Section 3 s'attardant davantage au côté algorithmique d'une recommandation. Vous pourrez revenir à cette section une fois l'atelier sur la factorisation matricielle complété."
   ]
  },
  {
   "cell_type": "markdown",
   "metadata": {},
   "source": [
    "### 2.4.1 Exploration des couches latentes\n",
    "\n",
    "Grâce à la factorisation matricielle, il est possible d'explorer les différentes variables latentes associées aux usagers et aux items. De par la nature des matrices $\\mathbf{P}$ et $\\mathbf{Q}$, l'exploration des <i>k</i> variables latentes associées aux colonnes de $\\mathbf{P}$ et $\\mathbf{Q}$ pourraient s'avérer intéressante. \n",
    "\n",
    "À titre d'exemple, supposons que les deux premières variables latentes de la matrice des objets $\\mathbf{Q}$ présentent les valeurs suivantes: \n",
    "\n",
    "$$\n",
    "\\begin{align}\n",
    "q_1 &= [-1.0, \\ -0.8, \\ 0.0, \\ ..., \\ 1.0, \\ 0.5 ] \n",
    "\\qquad \\text{et} \\qquad\n",
    "q_2 = [-1.0, \\ 0.8,  \\ 1.0, \\ ..., \\ 0.5, \\ -0.8 ].\n",
    "\\end{align}\n",
    "$$\n",
    "\n",
    "Enfin, supposons qu'à ces valeurs correspondent les films suivants: \n",
    "\n",
    "1. The Room (2003),\n",
    "2. Star Wars: Attack of the clones (2002),\n",
    "3. Titanic (1997),\n",
    "4. Citizen Kane (1954),\n",
    "5. The Nigthmare before Christmass (1993).\n",
    "\n",
    "En cartographiant ces films en fonctions des valeurs associées des deux premières variables latentes, nous obtenons le graphique suivant:\n",
    "\n",
    "<img src=\"../Images/hidden.png\" width=\"500\">\n",
    "\n",
    "Après un rapide coup d'oeil, nous pouvons constater que la première variable latente est associée à l'accueil critique du film, alors que la deuxième variable détecte quant à elle la présence d'une super vedette. Si cette première analyse peut nous sembler intéressante, mais quelconque, elle prendra davantage de sens une fois couplée avec les valeurs associées à la matrice des usagers $\\mathbf{P}$. Supposons maintenant que les deux premières variables latentes de la matrice des usagers $\\mathbf{P}$ présentent les valeurs suivantes: \n",
    "\n",
    "$$\n",
    "\\begin{align}\n",
    "p_1 &= [1.0, \\ 0.0, \\ -0.5, \\ ..., \\ 1.0, \\ -1.0 ] \n",
    "\\qquad \\text{et} \\qquad\n",
    "p_2 = [1.0, \\ 0.0,  \\ 0.5, \\ ..., \\ -1.0, \\ -0.8 ].\n",
    "\\end{align}\n",
    "$$\n",
    "\n",
    "Et qu'à ces valeurs correspondent les usagers suivants: \n",
    "\n",
    "1. Serena,\n",
    "2. Kali,\n",
    "3. Neil,\n",
    "4. Marie,\n",
    "5. David.\n",
    "\n",
    "Nous pourrons dès lors cartographier les usagers en fonction des valeurs associées à $p_1$ et $p_2$ tout en conservant la caractérisation des axes que nous avons obtenue auparavant:\n",
    "\n",
    "<img src=\"../Images/hidden_2.png\" width=\"500\">\n",
    "\n",
    "Cette façon de faire pourrait nous permettre de suggérer de nouveaux films n'ayant jamais été évalués aux usagers simplement en fonction de certaines caractéristiques. Par exemple, il y a de bonnes chances que Serena aime le prochain film de Scorsese <i>The Irish man</i> et que Neil attende avec impatience le nouveau <i>Cat</i>.\n",
    "\n",
    "Nous proposons donc une fonction facilitant l'exploration des variables latentes. Considérant le commentaire en lien avec la fréquence de visualisation des films à la Section 1.4.3, nous allons seulement nous intéresser aux films présentant une fréquence de visualisation supérieure à un seuil choisi."
   ]
  },
  {
   "cell_type": "code",
   "execution_count": 24,
   "metadata": {},
   "outputs": [],
   "source": [
    "def exploration(object_name, matrix, freq, factor, k):\n",
    "    \"\"\"\n",
    "    Args:\n",
    "       object_name: vecteur des noms des films\n",
    "       matrix: matrice latente associée aux films\n",
    "       freq: seuil de fréquence de visionnement minimal au-delà duquel nous pouvons \n",
    "             considérer le film dans l'analyse\n",
    "       factor: le numéro de la variable latente que l'on veut étudier\n",
    "       k: nombre de films en sortie = 3*k - 1\n",
    "       \n",
    "    Returns:\n",
    "        names: le titre des films\n",
    "        scores: l'évaluation prédite associée\n",
    "        \"\"\"\n",
    "    values = matrix[:, factor] * freq\n",
    "    names, scores = utl.rearrange(object_name, values)\n",
    "    nonzero = np.nonzero(scores)\n",
    "    \n",
    "    start = nonzero[0][0]    \n",
    "    center = int((len(object_name) - start) / 2)\n",
    "    \n",
    "    names = names[start: (start+k) ] + names[(start+center - 1):(start+ center + 2)] +\n",
    "            names[-k:]\n",
    "    scores = scores[start : (start+k) ] +\n",
    "             scores[(start+center - 1):(start+ center + 2)] + \n",
    "             scores[-k:]\n",
    "    \n",
    "    return names, scores"
   ]
  },
  {
   "cell_type": "markdown",
   "metadata": {},
   "source": [
    "Nous appelons la fonction et visualisons les résultats.\n",
    "\n",
    "##### Question 9\n",
    "\n",
    "1. Est-ce que certaines variables latentes peuvent être interprétables?\n",
    "2. Qu'arrivera-t-il si nous augmentons le nombre de variables latentes? Si nous le diminuons?\n",
    "\n",
    "##### Réponse 9\n",
    "\n",
    "1. Essentiellement, c'est ce qu'on souhaiterait. Cette idée est très bien présentée dans cet <a href=\"https://datajobs.com/data-science-repo/Recommender-Systems-[Netflix].pdf\"> article</a>. Par contre, ce n'est pas garanti et un semblant d'interprétation sera fonction du nombre de variables latentes et des données entre autres choses.\n",
    "2. Cela va dépendre. En fait, il faut bien comprendre que les modèles latents ne sont pas emboîtés les uns dans les autres. Par exemple, les <i>k</i> variables latentes d'un modèle ne vont pas contenir exactement la même information que les <i>k</i> premières variables latentes d'un modèle comportant un plus grand nombre de variables latentes."
   ]
  },
  {
   "cell_type": "code",
   "execution_count": 25,
   "metadata": {},
   "outputs": [
    {
     "data": {
      "text/html": [
       "<div>\n",
       "<style scoped>\n",
       "    .dataframe tbody tr th:only-of-type {\n",
       "        vertical-align: middle;\n",
       "    }\n",
       "\n",
       "    .dataframe tbody tr th {\n",
       "        vertical-align: top;\n",
       "    }\n",
       "\n",
       "    .dataframe thead th {\n",
       "        text-align: right;\n",
       "    }\n",
       "</style>\n",
       "<table border=\"1\" class=\"dataframe\">\n",
       "  <thead>\n",
       "    <tr style=\"text-align: right;\">\n",
       "      <th></th>\n",
       "      <th>Title</th>\n",
       "      <th>Latent factor</th>\n",
       "    </tr>\n",
       "  </thead>\n",
       "  <tbody>\n",
       "    <tr>\n",
       "      <th>1</th>\n",
       "      <td>Beavis and Butt-head Do America (1996)</td>\n",
       "      <td>0.03429799874455539</td>\n",
       "    </tr>\n",
       "    <tr>\n",
       "      <th>2</th>\n",
       "      <td>Mars Attacks! (1996)</td>\n",
       "      <td>0.12047001447554043</td>\n",
       "    </tr>\n",
       "    <tr>\n",
       "      <th>3</th>\n",
       "      <td>Natural Born Killers (1994)</td>\n",
       "      <td>0.355898819464024</td>\n",
       "    </tr>\n",
       "    <tr>\n",
       "      <th>4</th>\n",
       "      <td>Birdcage, The (1996)</td>\n",
       "      <td>0.3568462618042905</td>\n",
       "    </tr>\n",
       "    <tr>\n",
       "      <th>5</th>\n",
       "      <td>Four Weddings and a Funeral (1994)</td>\n",
       "      <td>0.35758081156537525</td>\n",
       "    </tr>\n",
       "    <tr>\n",
       "      <th>6</th>\n",
       "      <td>Fantasia (1940)</td>\n",
       "      <td>0.5085542495454041</td>\n",
       "    </tr>\n",
       "    <tr>\n",
       "      <th>7</th>\n",
       "      <td>Braveheart (1995)</td>\n",
       "      <td>0.5399751580151742</td>\n",
       "    </tr>\n",
       "  </tbody>\n",
       "</table>\n",
       "</div>"
      ],
      "text/plain": [
       "                                    Title        Latent factor\n",
       "1  Beavis and Butt-head Do America (1996)  0.03429799874455539\n",
       "2                    Mars Attacks! (1996)  0.12047001447554043\n",
       "3             Natural Born Killers (1994)    0.355898819464024\n",
       "4                    Birdcage, The (1996)   0.3568462618042905\n",
       "5      Four Weddings and a Funeral (1994)  0.35758081156537525\n",
       "6                         Fantasia (1940)   0.5085542495454041\n",
       "7                       Braveheart (1995)   0.5399751580151742"
      ]
     },
     "execution_count": 25,
     "metadata": {},
     "output_type": "execute_result"
    }
   ],
   "source": [
    "k = 2\n",
    "factor = 0\n",
    "threshold = 0.1\n",
    "names, scores = exploration(movies['Title'], Q, \n",
    "                            np.where(movie_frequency > threshold, 1, 0), factor, k)\n",
    "\n",
    "df = pd.DataFrame(np.matrix((names, scores)).T, (np.arange(len(scores)) + 1).tolist())\n",
    "df.columns = ['Title', 'Latent factor']\n",
    "df"
   ]
  },
  {
   "cell_type": "markdown",
   "metadata": {},
   "source": [
    "# 3. Applications \n",
    "\n",
    "L'un des objectifs premiers des systèmes de recommandation est d'effectuer des recommandations (!) personnalisées pour chacun des utilisateurs. Dès lors, il pourrait être intéressant d'étudier les recommandations effectuées par notre modèle pour un individu spécifique. Naturellement, les recommandations faites ne suggèrent que des films non visionnés par l'usager.\n",
    "\n",
    "##### Question 10\n",
    "\n",
    "1. Nous allons maintenant, pour un usager choisi, effectuer les 10 meilleures recommandations associées. Pour ce faire, nous allons procéder par étapes simples telles que présentées dans le code. Notez que la fonction maison `rearrange` présentée ci-dessous pourrait vous être utile."
   ]
  },
  {
   "cell_type": "code",
   "execution_count": 26,
   "metadata": {},
   "outputs": [],
   "source": [
    "\"\"\"\n",
    "Description:  \n",
    "Pour un ensemble de valeurs numériques (le paramètre ratings) auquel est associé un\n",
    "autre ensemble de même longueur (le paramètre names) numérique ou non, la fonction \n",
    "trie en ordre croissant ratings tout en conservant la correspondance avec l'objet names\n",
    "\n",
    "p.ex.:\n",
    "a, b = ['a', 'b', 'c'], [6,1,3]\n",
    "rearrange(a, b)\n",
    "\"\"\"\n",
    "\n",
    "def rearrange(names, ratings):\n",
    "    attribute, scores = [], []\n",
    "    ranking = np.argsort(ratings)\n",
    "\n",
    "    for k in np.arange(len(ranking)):\n",
    "        attribute.append(names[ranking[k]])\n",
    "        scores.append(ratings[ranking[k]])\n",
    "\n",
    "    return attribute, scores"
   ]
  },
  {
   "cell_type": "code",
   "execution_count": 27,
   "metadata": {
    "scrolled": false
   },
   "outputs": [
    {
     "data": {
      "text/html": [
       "<div>\n",
       "<style scoped>\n",
       "    .dataframe tbody tr th:only-of-type {\n",
       "        vertical-align: middle;\n",
       "    }\n",
       "\n",
       "    .dataframe tbody tr th {\n",
       "        vertical-align: top;\n",
       "    }\n",
       "\n",
       "    .dataframe thead th {\n",
       "        text-align: right;\n",
       "    }\n",
       "</style>\n",
       "<table border=\"1\" class=\"dataframe\">\n",
       "  <thead>\n",
       "    <tr style=\"text-align: right;\">\n",
       "      <th></th>\n",
       "      <th>Title</th>\n",
       "      <th>Predicted rating</th>\n",
       "    </tr>\n",
       "  </thead>\n",
       "  <tbody>\n",
       "    <tr>\n",
       "      <th>1</th>\n",
       "      <td>On Golden Pond (1981)</td>\n",
       "      <td>3.682480520229741</td>\n",
       "    </tr>\n",
       "    <tr>\n",
       "      <th>2</th>\n",
       "      <td>Lone Star (1996)</td>\n",
       "      <td>3.715009756072107</td>\n",
       "    </tr>\n",
       "    <tr>\n",
       "      <th>3</th>\n",
       "      <td>Snow White and the Seven Dwarfs (1937)</td>\n",
       "      <td>3.8887049344850873</td>\n",
       "    </tr>\n",
       "    <tr>\n",
       "      <th>4</th>\n",
       "      <td>Spitfire Grill, The (1996)</td>\n",
       "      <td>3.9400592641887062</td>\n",
       "    </tr>\n",
       "    <tr>\n",
       "      <th>5</th>\n",
       "      <td>Terminator, The (1984)</td>\n",
       "      <td>3.9583289042467507</td>\n",
       "    </tr>\n",
       "    <tr>\n",
       "      <th>6</th>\n",
       "      <td>Sneakers (1992)</td>\n",
       "      <td>3.981500529283176</td>\n",
       "    </tr>\n",
       "    <tr>\n",
       "      <th>7</th>\n",
       "      <td>Belle de jour (1967)</td>\n",
       "      <td>4.022776915670769</td>\n",
       "    </tr>\n",
       "    <tr>\n",
       "      <th>8</th>\n",
       "      <td>Nikita (La Femme Nikita) (1990)</td>\n",
       "      <td>4.0900238347237625</td>\n",
       "    </tr>\n",
       "    <tr>\n",
       "      <th>9</th>\n",
       "      <td>Priest (1994)</td>\n",
       "      <td>4.276362974978491</td>\n",
       "    </tr>\n",
       "    <tr>\n",
       "      <th>10</th>\n",
       "      <td>Three Colors: Red (1994)</td>\n",
       "      <td>4.636652992241622</td>\n",
       "    </tr>\n",
       "  </tbody>\n",
       "</table>\n",
       "</div>"
      ],
      "text/plain": [
       "                                     Title    Predicted rating\n",
       "1                    On Golden Pond (1981)   3.682480520229741\n",
       "2                         Lone Star (1996)   3.715009756072107\n",
       "3   Snow White and the Seven Dwarfs (1937)  3.8887049344850873\n",
       "4               Spitfire Grill, The (1996)  3.9400592641887062\n",
       "5                   Terminator, The (1984)  3.9583289042467507\n",
       "6                          Sneakers (1992)   3.981500529283176\n",
       "7                     Belle de jour (1967)   4.022776915670769\n",
       "8          Nikita (La Femme Nikita) (1990)  4.0900238347237625\n",
       "9                            Priest (1994)   4.276362974978491\n",
       "10                Three Colors: Red (1994)   4.636652992241622"
      ]
     },
     "execution_count": 27,
     "metadata": {},
     "output_type": "execute_result"
    }
   ],
   "source": [
    "user_id = 0\n",
    "top_what = 10\n",
    "\n",
    "# Étape 1: Définir quels films ont déjà été visionnés dans chacun des sous-ensembles\n",
    "user_train, user_valid, user_test = np.array(train[0][user_id]), \n",
    "                                    np.array(train[1][user_id]), \n",
    "                                    np.array(test[user_id])\n",
    "user_train, user_valid, user_test = np.where(user_train > 0, 1, 0), \n",
    "                                    np.where(user_valid > 0, 1, 0), \n",
    "                                    np.where(user_test > 0, 1, 0)\n",
    "\n",
    "# Étape 2: Calculez l'ensemble des évaluations prédites pour l'individu choisi\n",
    "estimate = np.dot(P[user_id, :], Q.T)\n",
    "\n",
    "# Étape 3: Considérez seulement les évaluations associées aux ensembles \n",
    "#      d'entraînement et de validation\n",
    "estimate_train, estimate_valid = estimate * user_train, estimate * user_valid\n",
    "\n",
    "# Étape 4: Réorganisez les estimations sur les différents ensembles de manière à proposer \n",
    "#          les 10 meilleures recommandations\n",
    "recommendations, scores = rearrange(np.array(movies['Title']), estimate_valid)\n",
    "recommendations, scores = recommendations[-top_what:], scores[-top_what:]\n",
    "\n",
    "# Présentations des recommandations\n",
    "df = pd.DataFrame(np.matrix((recommendations, scores)).T, (np.arange(10) + 1).tolist())\n",
    "df.columns = ['Title', 'Predicted rating']\n",
    "df"
   ]
  },
  {
   "cell_type": "markdown",
   "metadata": {},
   "source": [
    "En manipulant rapidement le code ci-dessus, on s'aperçoit que les évaluations sur les prédictions sur les ensembles d'entraînement, de validation et même de test sont vraisemblables. Effectivement, ces dernières se situent entre 0 et 5, tout semble alors en ordre, ce qui nous paraît \"normal\" puisque les EQM sur les ensembles d'entraînement et de validation n'étaient pas particulièrement élevées."
   ]
  },
  {
   "cell_type": "markdown",
   "metadata": {},
   "source": [
    "En fait, ça pourrait être intéressant de proposer à l'usager des films en fonction de ces préférences du moment en fonction du genre.\n",
    "\n",
    "##### Question 11\n",
    "\n",
    "1. Écrivez une fonction permettant d'effectuer pareille tâche."
   ]
  },
  {
   "cell_type": "code",
   "execution_count": 28,
   "metadata": {},
   "outputs": [],
   "source": [
    "def recommendations(user_id, data, P, Q, movies_genre, genre, new):\n",
    "    \"\"\"\n",
    "    Args:\n",
    "       user_id: user_id\n",
    "       data: ensemble des évaluations\n",
    "       P: matrice des invidus\n",
    "       Q: matrices des items\n",
    "       movies_genre: genre de film que l'utilisateur user_id veut écouter\n",
    "       new: Booléen, voulons-nous effectuer de nouvelles recommandations ou pas?\n",
    "    \n",
    "    Returns:\n",
    "        les meilleures suggestions en fonction du genre de film sélectionné\n",
    "    \"\"\"\n",
    "    \n",
    "    place = movies_genre_name.tolist().index(genre)    \n",
    "    genre = np.array(movies_genre[:, place])\n",
    "    predictions = np.array(np.dot(P[user_id, :], Q.T))\n",
    "    \n",
    "    #if new:\n",
    "    #    return np.array(predictions) * np.array(genre.T)[0] * np.where(data == 1, 0, 1)\n",
    "    \n",
    "    return np.array(predictions) * np.array(genre.T)[0]"
   ]
  },
  {
   "cell_type": "code",
   "execution_count": 29,
   "metadata": {},
   "outputs": [
    {
     "data": {
      "text/html": [
       "<div>\n",
       "<style scoped>\n",
       "    .dataframe tbody tr th:only-of-type {\n",
       "        vertical-align: middle;\n",
       "    }\n",
       "\n",
       "    .dataframe tbody tr th {\n",
       "        vertical-align: top;\n",
       "    }\n",
       "\n",
       "    .dataframe thead th {\n",
       "        text-align: right;\n",
       "    }\n",
       "</style>\n",
       "<table border=\"1\" class=\"dataframe\">\n",
       "  <thead>\n",
       "    <tr style=\"text-align: right;\">\n",
       "      <th></th>\n",
       "      <th>Title</th>\n",
       "      <th>Predicted rating</th>\n",
       "    </tr>\n",
       "  </thead>\n",
       "  <tbody>\n",
       "    <tr>\n",
       "      <th>1</th>\n",
       "      <td>Wallace &amp; Gromit: The Best of Aardman Animatio...</td>\n",
       "      <td>4.4155138874339475</td>\n",
       "    </tr>\n",
       "    <tr>\n",
       "      <th>2</th>\n",
       "      <td>Faust (1994)</td>\n",
       "      <td>4.525889680745223</td>\n",
       "    </tr>\n",
       "    <tr>\n",
       "      <th>3</th>\n",
       "      <td>Ghost in the Shell (Kokaku kidotai) (1995)</td>\n",
       "      <td>4.638998063824521</td>\n",
       "    </tr>\n",
       "    <tr>\n",
       "      <th>4</th>\n",
       "      <td>Close Shave, A (1995)</td>\n",
       "      <td>4.72169078411614</td>\n",
       "    </tr>\n",
       "    <tr>\n",
       "      <th>5</th>\n",
       "      <td>Wrong Trousers, The (1993)</td>\n",
       "      <td>4.814688439702117</td>\n",
       "    </tr>\n",
       "  </tbody>\n",
       "</table>\n",
       "</div>"
      ],
      "text/plain": [
       "                                               Title    Predicted rating\n",
       "1  Wallace & Gromit: The Best of Aardman Animatio...  4.4155138874339475\n",
       "2                                       Faust (1994)   4.525889680745223\n",
       "3         Ghost in the Shell (Kokaku kidotai) (1995)   4.638998063824521\n",
       "4                              Close Shave, A (1995)    4.72169078411614\n",
       "5                         Wrong Trousers, The (1993)   4.814688439702117"
      ]
     },
     "execution_count": 29,
     "metadata": {},
     "output_type": "execute_result"
    }
   ],
   "source": [
    "genre = \"Animation\"\n",
    "top_what = 5\n",
    "\n",
    "# Calcul et réorganisation des recommandations\n",
    "estimate = recommendations(user_id, train, P, Q, movies_genre, genre, False)\n",
    "suggestions, scores = rearrange(np.array(movies['Title']), estimate)\n",
    "\n",
    "# Présentations des recommandations\n",
    "df = pd.DataFrame(np.matrix((suggestions[-top_what:], scores[-top_what:])).T, \n",
    "                  (np.arange(top_what) + 1).tolist())\n",
    "df.columns = ['Title', 'Predicted rating']\n",
    "df"
   ]
  }
 ],
 "metadata": {
  "kernelspec": {
   "display_name": "Python 3",
   "language": "python",
   "name": "python3"
  },
  "language_info": {
   "codemirror_mode": {
    "name": "ipython",
    "version": 3
   },
   "file_extension": ".py",
   "mimetype": "text/x-python",
   "name": "python",
   "nbconvert_exporter": "python",
   "pygments_lexer": "ipython3",
   "version": "3.7.3"
  }
 },
 "nbformat": 4,
 "nbformat_minor": 2
}

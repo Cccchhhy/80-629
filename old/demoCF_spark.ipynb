{
 "cells": [
  {
   "cell_type": "markdown",
   "metadata": {},
   "source": [
    "## Recommendation (collaborative filtering) example\n",
    "#### Adapted from: https://spark.apache.org/docs/latest/ml-collaborative-filtering.html"
   ]
  },
  {
   "cell_type": "code",
   "execution_count": 1,
   "metadata": {
    "collapsed": true
   },
   "outputs": [],
   "source": [
    "# pyspark specific imports\n",
    "from pyspark.ml.evaluation import RegressionEvaluator\n",
    "from pyspark.ml.recommendation import ALS\n",
    "from pyspark.sql.functions import col\n",
    "\n",
    "# other python imports\n",
    "import matplotlib.pyplot as plt\n",
    "import numpy as np\n",
    "import seaborn as sns\n",
    "import time"
   ]
  },
  {
   "cell_type": "markdown",
   "metadata": {},
   "source": [
    "### Load Data"
   ]
  },
  {
   "cell_type": "code",
   "execution_count": 2,
   "metadata": {
    "collapsed": true
   },
   "outputs": [],
   "source": [
    "# load ratings\n",
    "ratings = spark.read.option(\"sep\", \",\")\\\n",
    "            .option(\"header\", \"true\")\\\n",
    "            .csv(\"gs://80-629bucket/dat/ml-latest/ratings.csv\", inferSchema=True)\n",
    "ratings = ratings.cache()"
   ]
  },
  {
   "cell_type": "code",
   "execution_count": 3,
   "metadata": {},
   "outputs": [
    {
     "name": "stdout",
     "output_type": "stream",
     "text": [
      "Row(userId=1, movieId=110, rating=1.0, timestamp=1425941529)\n",
      "+-------+-----------------+------------------+------------------+--------------------+\n",
      "|summary|           userId|           movieId|            rating|           timestamp|\n",
      "+-------+-----------------+------------------+------------------+--------------------+\n",
      "|  count|         26024289|          26024289|          26024289|            26024289|\n",
      "|   mean| 135037.090248114|15849.109677040553|3.5280903543608817|1.1712584326913226E9|\n",
      "| stddev|78176.19722170313| 31085.25753139178|1.0654427636662376|2.0528887028184643E8|\n",
      "|    min|                1|                 1|               0.5|           789652004|\n",
      "|    max|           270896|            176275|               5.0|          1501829870|\n",
      "+-------+-----------------+------------------+------------------+--------------------+\n",
      "\n",
      "None\n",
      "uniquer users 270896\n",
      "uniquer items 45115\n"
     ]
    }
   ],
   "source": [
    "print(ratings.head())\n",
    "print(ratings.describe([\"userId\", \"movieId\", \"rating\", \"timestamp\"]).show())\n",
    "print('uniquer users', ratings.select('userId').dropDuplicates().count())\n",
    "print('uniquer items', ratings.select('movieId').dropDuplicates().count())"
   ]
  },
  {
   "cell_type": "code",
   "execution_count": 4,
   "metadata": {
    "collapsed": true
   },
   "outputs": [],
   "source": [
    "# load movie titles\n",
    "movies = spark.read.option(\"sep\", \",\")\\\n",
    "            .option(\"header\", \"true\")\\\n",
    "            .csv(\"gs://80-629bucket/dat/ml-latest/movies.csv\", inferSchema=True)\n",
    "movies = movies.cache()"
   ]
  },
  {
   "cell_type": "code",
   "execution_count": 5,
   "metadata": {},
   "outputs": [
    {
     "name": "stdout",
     "output_type": "stream",
     "text": [
      "[Row(movieId=1, title='Toy Story (1995)', genres='Adventure|Animation|Children|Comedy|Fantasy'), Row(movieId=2, title='Jumanji (1995)', genres='Adventure|Children|Fantasy')]\n"
     ]
    }
   ],
   "source": [
    "# print first n movies\n",
    "n=2\n",
    "print(movies.head(n))"
   ]
  },
  {
   "cell_type": "markdown",
   "metadata": {},
   "source": [
    "### Pre-Process data"
   ]
  },
  {
   "cell_type": "code",
   "execution_count": 6,
   "metadata": {
    "collapsed": true
   },
   "outputs": [],
   "source": [
    "(training, test) = ratings.randomSplit([0.8, 0.2])"
   ]
  },
  {
   "cell_type": "markdown",
   "metadata": {},
   "source": [
    "### Train matrix factorization model"
   ]
  },
  {
   "cell_type": "code",
   "execution_count": null,
   "metadata": {},
   "outputs": [],
   "source": [
    "# Build the recommendation model using ALS on the training data\n",
    "# Note we set cold start strategy to 'drop' to ensure we don't get NaN evaluation metrics\n",
    "K=100\n",
    "als = ALS(regParam=0.1, rank=K, maxIter=20, userCol=\"userId\", itemCol=\"movieId\", ratingCol=\"rating\",\n",
    "          coldStartStrategy=\"drop\", numUserBlocks=10, numItemBlocks=10)\n",
    "\n",
    "stime = time.time()\n",
    "model = als.fit(training)\n",
    "etime = time.time()"
   ]
  },
  {
   "cell_type": "code",
   "execution_count": 206,
   "metadata": {},
   "outputs": [
    {
     "name": "stdout",
     "output_type": "stream",
     "text": [
      "Elapsed time 1415.0819599628448\n"
     ]
    }
   ],
   "source": [
    "print('Elapsed time', etime-stime)"
   ]
  },
  {
   "cell_type": "markdown",
   "metadata": {},
   "source": [
    "### Predictions and model exploration"
   ]
  },
  {
   "cell_type": "code",
   "execution_count": null,
   "metadata": {
    "collapsed": true
   },
   "outputs": [],
   "source": [
    "# Evaluate the model by computing the RMSE on train and test datasets\n",
    "predictions = model.transform(training)\n",
    "evaluator = RegressionEvaluator(metricName=\"rmse\", labelCol=\"rating\",\n",
    "                                predictionCol=\"prediction\")\n",
    "rmse_train = evaluator.evaluate(predictions)\n",
    "\n",
    "predictions = model.transform(test)\n",
    "evaluator = RegressionEvaluator(metricName=\"rmse\", labelCol=\"rating\",\n",
    "                                predictionCol=\"prediction\")\n",
    "rmse_test = evaluator.evaluate(predictions)\n"
   ]
  },
  {
   "cell_type": "code",
   "execution_count": 205,
   "metadata": {},
   "outputs": [
    {
     "name": "stdout",
     "output_type": "stream",
     "text": [
      "Train RMSE =  0.7508403940223557\n",
      "Test RMSE =  0.8104012335207674\n"
     ]
    }
   ],
   "source": [
    "#Train RMSE =  0.6356150490826092\n",
    "#Test RMSE =  0.8453643678422643\n",
    "print(\"Train RMSE = \", str(rmse_train))\n",
    "print(\"Test RMSE = \", str(rmse_test))"
   ]
  },
  {
   "cell_type": "code",
   "execution_count": null,
   "metadata": {
    "collapsed": true
   },
   "outputs": [],
   "source": [
    "def explore_user(uID):\n",
    "    userRecs(uID)"
   ]
  },
  {
   "cell_type": "code",
   "execution_count": 247,
   "metadata": {},
   "outputs": [
    {
     "data": {
      "text/plain": [
       "DataFrame[userId: int, recommendations: array<struct<movieId:int,rating:float>>]"
      ]
     },
     "execution_count": 247,
     "metadata": {},
     "output_type": "execute_result"
    }
   ],
   "source": [
    "# Generate top 10 movie recommendations for each user\n",
    "userRecs = model.recommendForAllUsers(10)\n",
    "# Generate top 10 user recommendations for each movie\n",
    "# movieRecs = model.recommendForAllItems(10)\n",
    "userRecs.cache()"
   ]
  },
  {
   "cell_type": "code",
   "execution_count": 244,
   "metadata": {
    "collapsed": true
   },
   "outputs": [],
   "source": [
    "def movie_names(mid):\n",
    "    #print(type(movies.where(col(\"movieId\") == mid).select(col(\"title\")).collect()))\n",
    "    return movies.where(col(\"movieId\") == mid).select(col(\"title\")).collect()[0][0]\n",
    "\n",
    "def movie_genres(mid):\n",
    "    #print(type(movies.where(col(\"movieId\") == mid).select(col(\"title\")).collect()))\n",
    "    return movies.where(col(\"movieId\") == mid).select(col(\"genres\")).collect()[0][0]"
   ]
  },
  {
   "cell_type": "code",
   "execution_count": 248,
   "metadata": {
    "scrolled": false
   },
   "outputs": [
    {
     "name": "stdout",
     "output_type": "stream",
     "text": [
      "Training set for user 100000\n",
      "\t Jumanji (1995) Adventure|Children|Fantasy 4.0\n",
      "\t American President, The (1995) Comedy|Drama|Romance 5.0\n",
      "\t Babe (1995) Children|Drama 5.0\n",
      "\t Clueless (1995) Comedy|Romance 5.0\n",
      "\t Seven (a.k.a. Se7en) (1995) Mystery|Thriller 5.0\n",
      "\t Apollo 13 (1995) Adventure|Drama|IMAX 4.0\n",
      "\t Die Hard: With a Vengeance (1995) Action|Crime|Thriller 4.0\n",
      "\t Net, The (1995) Action|Crime|Thriller 3.0\n",
      "\t Nell (1994) Drama 4.0\n",
      "\t Outbreak (1995) Action|Drama|Sci-Fi|Thriller 3.0\n",
      "\t Pulp Fiction (1994) Comedy|Crime|Drama|Thriller 5.0\n",
      "\t Stargate (1994) Action|Adventure|Sci-Fi 4.0\n",
      "\t Santa Clause, The (1994) Comedy|Drama|Fantasy 4.0\n",
      "\t Shawshank Redemption, The (1994) Crime|Drama 4.0\n",
      "\t Ace Ventura: Pet Detective (1994) Comedy 1.0\n",
      "\t Clear and Present Danger (1994) Action|Crime|Drama|Thriller 5.0\n",
      "\t Lion King, The (1994) Adventure|Animation|Children|Drama|Musical|IMAX 5.0\n",
      "\t Mask, The (1994) Action|Comedy|Crime|Fantasy 5.0\n",
      "\t Speed (1994) Action|Romance|Thriller 5.0\n",
      "\t True Lies (1994) Action|Adventure|Comedy|Romance|Thriller 3.0\n",
      "\t Fugitive, The (1993) Thriller 4.0\n",
      "\t In the Line of Fire (1993) Action|Thriller 4.0\n",
      "\t Jurassic Park (1993) Action|Adventure|Sci-Fi|Thriller 5.0\n",
      "\t Piano, The (1993) Drama|Romance 5.0\n",
      "\t Ghost (1990) Comedy|Drama|Fantasy|Romance|Thriller 5.0\n",
      "\t Dances with Wolves (1990) Adventure|Drama|Western 5.0\n",
      "\t Batman (1989) Action|Crime|Thriller 3.0\n",
      "\t Pretty Woman (1990) Comedy|Romance 4.0\n",
      "\n",
      "Recommendations for user 100000\n",
      "\t 1. Love Is Blind (2013) (Drama|Romance) (predicted rating: 6.131)\n",
      "\t 2. Peppermint Soda (Diabolo menthe) (1977) (Comedy|Drama) (predicted rating: 6.020)\n",
      "\t 3. On Body and Soul (2017) (Drama|Romance) (predicted rating: 5.960)\n",
      "\t 4. My Only Sunshine (2009) (Drama) (predicted rating: 5.884)\n",
      "\t 5. Seeing Red: Stories of American Communists (1983) ((no genres listed)) (predicted rating: 5.833)\n",
      "\t 6. Hello Stranger (2010) (Drama) (predicted rating: 5.712)\n",
      "\t 7. Life Even Looks Like a Party (2009) (Documentary) (predicted rating: 5.701)\n",
      "\t 8. Living with Wolves (2005) (Documentary) (predicted rating: 5.620)\n",
      "\t 9. Christmas on Salvation Street (2014) ((no genres listed)) (predicted rating: 5.593)\n",
      "\t 10. Lagerfeld Confidential (2007) (Documentary) (predicted rating: 5.573)\n"
     ]
    }
   ],
   "source": [
    "uID = 100000\n",
    "\n",
    "training_user = training.where(training.userId == uID).select(\"movieId\", \"rating\").collect()\n",
    "print('Training set for user %d' % uID)\n",
    "for i,movie in enumerate(training_user):\n",
    "    #rating = training_user.where(training_user.movieId == movie.movieId).select(\"rating\").collect()\n",
    "    print('\\t', movie_names(movie.movieId), movie_genres(movie.movieId), movie.rating)\n",
    "\n",
    "print() # skip line\n",
    "\n",
    "reco_users = userRecs.where(userRecs.userId == uID).select(\"recommendations.movieId\", \"recommendations.rating\").collect()[0]\n",
    "print('Recommendations for user %d' % uID)\n",
    "for i,mid in enumerate(reco_users[0]):\n",
    "    print('\\t %d. %s (%s) (predicted rating: %.3f)' % (i+1,movie_names(mid),movie_genres(mid), reco_users[1][i]))\n",
    "    #print(\n"
   ]
  },
  {
   "cell_type": "code",
   "execution_count": 241,
   "metadata": {},
   "outputs": [
    {
     "name": "stdout",
     "output_type": "stream",
     "text": [
      "<class 'pyspark.sql.column.Column'>\n",
      "<class 'pyspark.sql.dataframe.DataFrame'>\n",
      "<class 'pyspark.sql.dataframe.DataFrame'>\n"
     ]
    }
   ],
   "source": [
    "# explore model parameters\n",
    "#a = explode(model.itemFactors.features) #orderBy('features').select(\"id\")\n",
    "print(type(a))\n",
    "#sort(\"id\").collect()\n",
    " \n",
    "from pyspark.sql.functions import udf, col\n",
    "from pyspark.sql.types import ArrayType, DoubleType\n",
    "\n",
    "def to_array(col):\n",
    "    def to_array_(v):\n",
    "        return v.toArray().tolist()\n",
    "    return udf(to_array_, ArrayType(DoubleType()))(col)\n",
    "\n",
    "model_ = model.itemFactors\\\n",
    "                .withColumn(\"fs\", to_array(col(\"features\")))\\\n",
    "                .select([\"id\"] + [col(\"fs\")[i] for i in range(K)])\n",
    "print(type(model_))\n",
    "model_ = model_.sort(col(\"fs[0]\")).select(\"id\")\n",
    "print(type(model_))"
   ]
  }
 ],
 "metadata": {
  "kernelspec": {
   "display_name": "PySpark",
   "language": "python",
   "name": "pyspark"
  },
  "language_info": {
   "codemirror_mode": {
    "name": "ipython",
    "version": 3
   },
   "file_extension": ".py",
   "mimetype": "text/x-python",
   "name": "python",
   "nbconvert_exporter": "python",
   "pygments_lexer": "ipython3",
   "version": "3.5.2"
  }
 },
 "nbformat": 4,
 "nbformat_minor": 2
}

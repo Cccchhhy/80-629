{
 "cells": [
  {
   "cell_type": "markdown",
   "metadata": {},
   "source": [
    "# Tutorial on Convolutional Neural Networks\n",
    "\n",
    "Author: *Behrouz Babaki*\n",
    "\n",
    "<p xmlns:dct=\"http://purl.org/dc/terms/\">\n",
    "  <a rel=\"license\"\n",
    "     href=\"http://creativecommons.org/publicdomain/zero/1.0/\">\n",
    "    <img src=\"http://i.creativecommons.org/p/zero/1.0/88x31.png\" style=\"float:left\" alt=\"CC0\" />\n",
    "  </a>\n",
    "  <br />\n",
    "</p>"
   ]
  },
  {
   "cell_type": "markdown",
   "metadata": {},
   "source": [
    "# Image Filtering\n",
    "\n",
    "Recall that we introduced filters as matrices which are applied to different regions of an image using a dot-product operation. As an example, consider the tiny 3x3 image below:\n",
    "\n",
    "<img src=\"images/tiny.svg\" width=\"150\" />\n",
    "\n",
    "This is a grayscale image, which means that each pixel can be represented by a number between 0 and 255:\n",
    "\n",
    "<img src=\"images/grid1.svg\" width=\"150\" />\n",
    "\n",
    "\n",
    "## Applying a filter\n",
    "\n",
    "Let's see the effect of applying the *moving average* filter to this image. A moving average filter of size $k$ is a $k \\times k$ matrix where all entries are $1/k^2$. For example for $k=2$, the filter would be:\n",
    "\n",
    "<img src=\"images/filter1.svg\" width=\"100\" />\n",
    "\n",
    "As you remember from the course, in order to apply a filter, we *move* it across the image and each time calculate the dot product between the filter and the corresponding region of the image:\n",
    "\n",
    "<p>\n",
    "<figure>\n",
    "    <img src=\"images/slide_nostride_nopadding.gif\" width=\"250\"/>\n",
    "    <figcaption style=\"text-align:center;font: italic small sans-serif\"> image source: <a href=\"http://deeplearning.net/software/theano/tutorial/conv_arithmetic.html#no-zero-padding-unit-strides\">Theano documentation</a> </figcaption>\n",
    "</figure>\n",
    "<br>\n",
    "</p>\n",
    "\n",
    "Applying the filter to the lower left corner of the image leads to calculating the dot product $(20, 213, 60, 83)\\cdot(0.25, 0.25, 0.25, 0.25) = 94$:\n",
    "\n",
    "<img src=\"images/apply1.svg\" width=\"450\"/>\n",
    "\n",
    "\n",
    "### Exercise\n",
    "Fill in values of the remaining three cells in the filtered image.  \n"
   ]
  },
  {
   "cell_type": "markdown",
   "metadata": {},
   "source": [
    "\n",
    "## Applying filters to real images\n",
    "\n",
    "We will now apply two types of filter to an image, and see how they affect the image. We begin by loading and plotting the original image:"
   ]
  },
  {
   "cell_type": "code",
   "execution_count": null,
   "metadata": {},
   "outputs": [],
   "source": [
    "import matplotlib\n",
    "from matplotlib import pyplot as plt\n",
    "\n",
    "!wget https://raw.githubusercontent.com/lcharlin/80-629/master/week6-RNNs%2BCNNs/images/Charlie_Chaplin.jpg\n",
    "image = matplotlib.image.imread('images/Charlie_Chaplin.jpg').astype('int')\n",
    "plt.imshow(image, cmap='gray', vmin=0, vmax=255)"
   ]
  },
  {
   "cell_type": "markdown",
   "metadata": {},
   "source": [
    "### Moving average\n",
    "We first apply the *moving average* filter:"
   ]
  },
  {
   "cell_type": "code",
   "execution_count": null,
   "metadata": {},
   "outputs": [],
   "source": [
    "img_blurred = image.copy()\n",
    "n_rows, n_cols = image.shape\n",
    "\n",
    "k = 30\n",
    "for r in range(k, n_rows):\n",
    "    for c in range(k, n_cols):\n",
    "        img_blurred[r, c] = image[r-k:r,c-k:c].sum() / (k**2)\n",
    "        \n",
    "plt.imshow(img_blurred, cmap='gray', vmin=0, vmax=255)"
   ]
  },
  {
   "cell_type": "markdown",
   "metadata": {},
   "source": [
    "### Exercise\n",
    "1. What is the effect of applying the *moving average* filter?\n",
    "2. Change the value of $k$ to 10 and run the code again. What is the effect of this value? \n",
    "3. What does the following line in the code do?  `img_blurred[r, c] = img[r-k:r,c-k:c].sum() / (k**2)`"
   ]
  },
  {
   "cell_type": "markdown",
   "metadata": {},
   "source": [
    "### Edge detection\n",
    "As mentioned in the lectures, the *edge detection* filter has the form $(-1, 1)$ or $(1, -1)$. The code below applies these filters to the image:"
   ]
  },
  {
   "cell_type": "code",
   "execution_count": null,
   "metadata": {},
   "outputs": [],
   "source": [
    "image_edges_1 = image.copy()\n",
    "image_edges_2 = image.copy()\n",
    "n_rows, n_cols = image.shape\n",
    "for r in range(1, n_rows):\n",
    "    for c in range(1, n_cols):\n",
    "        image_edges_1[r,c] = image[r,c] - image[r,c-1]\n",
    "        image_edges_2[r,c] = -image[r,c] + image[r,c-1]\n",
    "        \n",
    "plt.subplot(1, 2, 1)\n",
    "plt.imshow(image_edges_1, cmap='gray')\n",
    "\n",
    "plt.subplot(1, 2, 2)\n",
    "plt.imshow(image_edges_2, cmap='gray')"
   ]
  },
  {
   "cell_type": "markdown",
   "metadata": {},
   "source": [
    "# Convolutional Neural Networks\n",
    "\n",
    "The core building block of convolutional neural networks is the convolutional layer, which consists of a set of learnable filters. In previous parts of this document we saw how filters are applied to an image. In practice, by changing certain hyper-parameters, the filters can be applied differently. One of these hyper-parameters is *stride*. \n",
    "\n",
    "## Stride\n",
    "\n",
    "The hyper-parameter *stride* controls the way that the filter slides on an image. When the stride is 1, the filter is moved one pixel at a time. When it's 2, the filter jumps 2 pixels in each move: \n",
    "\n",
    "<p>\n",
    "<figure>\n",
    "    <img src=\"images/slide_stride2_nopadding.gif\" width=\"250\"/>\n",
    "    <figcaption style=\"text-align:center;font: italic small sans-serif\"> image source: <a href=\"http://deeplearning.net/software/theano/tutorial/conv_arithmetic.html#no-zero-padding-non-unit-strides\">Theano documentation</a> </figcaption>\n",
    "</figure>\n",
    "<br>\n",
    "</p>\n",
    "\n",
    "\n",
    "## MAX-Pooling layer\n",
    "\n",
    "Recall that the max-pooling layer reduces the size of the image by taking the max of values in the region that it covers. The pooling layers can also be applied with a stride. \n",
    "\n",
    "<img src=\"images/maxpooling.svg\" width=\"550\"/>\n",
    "\n",
    "\n",
    "## Exercise\n",
    "\n",
    "In this exercise, you will manually apply the operations of the convolution layer and pooling layer on two images. The diagram below shows the order of those operations:\n",
    "\n",
    "<img src=\"images/exercise.svg\" width=\"650\"/>\n",
    "\n",
    "The kernels (filters) are 3x3 matrices: \n",
    "```\n",
    "kernel1 = [[1, 0, 0], \n",
    "           [0, 1, 0], \n",
    "           [0, 0, 1]]\n",
    "\n",
    "kernel2 = [[1, 0, 0], \n",
    "           [0, 1, 0], \n",
    "           [0, 0, 1]]\n",
    "```\n",
    "\n",
    "<img src=\"images/kernels.svg\" width=\"250\"/>\n",
    "\n",
    "The input images are:\n",
    "```\n",
    "image1 = [[0, 0, 0, 0, 0],\n",
    "          [1, 1, 1, 1, 1],\n",
    "          [0, 0, 0, 0, 0],\n",
    "          [1, 1, 1, 1, 1],\n",
    "          [0, 0, 0, 0, 0]]\n",
    "\n",
    "image2 = [[1, 0, 0, 1, 0],\n",
    "          [0, 1, 0, 0, 1],\n",
    "          [0, 0, 1, 0, 0],\n",
    "          [1, 0, 0, 1, 0],\n",
    "          [0, 1, 0, 0, 1]]\n",
    "```\n",
    "\n",
    "<img src=\"images/input_images.svg\" width=\"350\"/>\n",
    "\n",
    "1. For each input image, calculate the outputs of the convolution layer and the max-pooling layers. Note the strides in the convolution layer. \n",
    "2. How these two kernels are differentiating between different images?\n",
    "3. If this pipeline is a part of a convolutional neural network, what numbers are the learned parameters?\n",
    "4. This pipeline is different from a convolutional neural network, i.e. it misses a few components. Name those differences. \n"
   ]
  }
 ],
 "metadata": {
  "kernelspec": {
   "display_name": "Python 3",
   "language": "python",
   "name": "python3"
  },
  "language_info": {
   "codemirror_mode": {
    "name": "ipython",
    "version": 3
   },
   "file_extension": ".py",
   "mimetype": "text/x-python",
   "name": "python",
   "nbconvert_exporter": "python",
   "pygments_lexer": "ipython3",
   "version": "3.7.3"
  }
 },
 "nbformat": 4,
 "nbformat_minor": 4
}
